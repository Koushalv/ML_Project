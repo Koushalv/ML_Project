{
 "cells": [
  {
   "cell_type": "markdown",
   "metadata": {
    "id": "VYCaVyfzBRTp"
   },
   "source": [
    "# Flight Delay Prediction"
   ]
  },
  {
   "cell_type": "markdown",
   "metadata": {
    "id": "yJx4x37Yrsbu"
   },
   "source": [
    "Importing all the libraries required for Flight Delay Prediction Model"
   ]
  },
  {
   "cell_type": "code",
   "execution_count": 1,
   "metadata": {
    "id": "nqawOGHjt9IM"
   },
   "outputs": [
    {
     "name": "stdout",
     "output_type": "stream",
     "text": [
      "Requirement already satisfied: imbalanced-learn in /Users/shivateja/opt/anaconda3/lib/python3.9/site-packages (0.11.0)\n",
      "Requirement already satisfied: numpy>=1.17.3 in /Users/shivateja/opt/anaconda3/lib/python3.9/site-packages (from imbalanced-learn) (1.24.4)\n",
      "Requirement already satisfied: scipy>=1.5.0 in /Users/shivateja/opt/anaconda3/lib/python3.9/site-packages (from imbalanced-learn) (1.9.1)\n",
      "Requirement already satisfied: scikit-learn>=1.0.2 in /Users/shivateja/opt/anaconda3/lib/python3.9/site-packages (from imbalanced-learn) (1.0.2)\n",
      "Requirement already satisfied: joblib>=1.1.1 in /Users/shivateja/opt/anaconda3/lib/python3.9/site-packages (from imbalanced-learn) (1.3.2)\n",
      "Requirement already satisfied: threadpoolctl>=2.0.0 in /Users/shivateja/opt/anaconda3/lib/python3.9/site-packages (from imbalanced-learn) (2.2.0)\n"
     ]
    }
   ],
   "source": [
    "!pip install imbalanced-learn\n",
    "\n",
    "import pandas as pd\n",
    "import numpy as np\n",
    "import seaborn as sns\n",
    "import matplotlib.pyplot as plt\n",
    "import datetime, warnings, scipy\n",
    "from sklearn.preprocessing import StandardScaler\n",
    "from sklearn.model_selection import train_test_split\n",
    "from sklearn.preprocessing import LabelEncoder\n"
   ]
  },
  {
   "cell_type": "code",
   "execution_count": 2,
   "metadata": {
    "id": "KHegRc8Yt9IQ"
   },
   "outputs": [],
   "source": [
    "import os  \n",
    "# Define file paths\n",
    "flights_path = '/Users/shivateja/Documents/umbc/602/Flight delay/flights.csv'\n",
    "airports_path = '/Users/shivateja/Documents/umbc/602/Flight delay/airports.csv'\n",
    "airlines_path = '/Users/shivateja/Documents/umbc/602/Flight delay/airlines.csv'\n",
    "\n",
    "# Read CSV files into Pandas DataFrames\n",
    "flights = pd.read_csv(flights_path, low_memory=False)\n",
    "airports = pd.read_csv(airports_path)\n",
    "airlines = pd.read_csv(airlines_path)"
   ]
  },
  {
   "cell_type": "markdown",
   "metadata": {
    "id": "dj3r0AS1zTxE"
   },
   "source": [
    "## Data Preprocessing"
   ]
  },
  {
   "cell_type": "code",
   "execution_count": 3,
   "metadata": {
    "colab": {
     "base_uri": "https://localhost:8080/",
     "height": 0
    },
    "id": "lKgVDrOFVTWe",
    "outputId": "5a516c01-2afa-4c02-9bb9-e9be94376909"
   },
   "outputs": [
    {
     "data": {
      "text/plain": [
       "Index(['YEAR', 'MONTH', 'DAY', 'DAY_OF_WEEK', 'AIRLINE', 'FLIGHT_NUMBER',\n",
       "       'TAIL_NUMBER', 'ORIGIN_AIRPORT', 'DESTINATION_AIRPORT',\n",
       "       'SCHEDULED_DEPARTURE', 'DEPARTURE_TIME', 'DEPARTURE_DELAY', 'TAXI_OUT',\n",
       "       'WHEELS_OFF', 'SCHEDULED_TIME', 'ELAPSED_TIME', 'AIR_TIME', 'DISTANCE',\n",
       "       'WHEELS_ON', 'TAXI_IN', 'SCHEDULED_ARRIVAL', 'ARRIVAL_TIME',\n",
       "       'ARRIVAL_DELAY', 'DIVERTED', 'CANCELLED', 'CANCELLATION_REASON',\n",
       "       'AIR_SYSTEM_DELAY', 'SECURITY_DELAY', 'AIRLINE_DELAY',\n",
       "       'LATE_AIRCRAFT_DELAY', 'WEATHER_DELAY'],\n",
       "      dtype='object')"
      ]
     },
     "execution_count": 3,
     "metadata": {},
     "output_type": "execute_result"
    }
   ],
   "source": [
    "flights.columns#Printing all the column in the dataset"
   ]
  },
  {
   "cell_type": "code",
   "execution_count": 4,
   "metadata": {
    "colab": {
     "base_uri": "https://localhost:8080/",
     "height": 0
    },
    "id": "qBbd_9vxt9IU",
    "outputId": "8c2e3c8c-b89b-4d2c-abe2-89f173514b5a"
   },
   "outputs": [
    {
     "name": "stdout",
     "output_type": "stream",
     "text": [
      "<class 'pandas.core.frame.DataFrame'>\n",
      "RangeIndex: 5819079 entries, 0 to 5819078\n",
      "Data columns (total 31 columns):\n",
      " #   Column               Dtype  \n",
      "---  ------               -----  \n",
      " 0   YEAR                 int64  \n",
      " 1   MONTH                int64  \n",
      " 2   DAY                  int64  \n",
      " 3   DAY_OF_WEEK          int64  \n",
      " 4   AIRLINE              object \n",
      " 5   FLIGHT_NUMBER        int64  \n",
      " 6   TAIL_NUMBER          object \n",
      " 7   ORIGIN_AIRPORT       object \n",
      " 8   DESTINATION_AIRPORT  object \n",
      " 9   SCHEDULED_DEPARTURE  int64  \n",
      " 10  DEPARTURE_TIME       float64\n",
      " 11  DEPARTURE_DELAY      float64\n",
      " 12  TAXI_OUT             float64\n",
      " 13  WHEELS_OFF           float64\n",
      " 14  SCHEDULED_TIME       float64\n",
      " 15  ELAPSED_TIME         float64\n",
      " 16  AIR_TIME             float64\n",
      " 17  DISTANCE             int64  \n",
      " 18  WHEELS_ON            float64\n",
      " 19  TAXI_IN              float64\n",
      " 20  SCHEDULED_ARRIVAL    int64  \n",
      " 21  ARRIVAL_TIME         float64\n",
      " 22  ARRIVAL_DELAY        float64\n",
      " 23  DIVERTED             int64  \n",
      " 24  CANCELLED            int64  \n",
      " 25  CANCELLATION_REASON  object \n",
      " 26  AIR_SYSTEM_DELAY     float64\n",
      " 27  SECURITY_DELAY       float64\n",
      " 28  AIRLINE_DELAY        float64\n",
      " 29  LATE_AIRCRAFT_DELAY  float64\n",
      " 30  WEATHER_DELAY        float64\n",
      "dtypes: float64(16), int64(10), object(5)\n",
      "memory usage: 1.3+ GB\n"
     ]
    }
   ],
   "source": [
    "flights.info()"
   ]
  },
  {
   "cell_type": "code",
   "execution_count": 5,
   "metadata": {
    "colab": {
     "base_uri": "https://localhost:8080/",
     "height": 0
    },
    "id": "auLLi0qtt9IW",
    "outputId": "787d5b59-a072-4172-eabd-2f38369bdac8"
   },
   "outputs": [
    {
     "data": {
      "text/plain": [
       "(5819079, 31)"
      ]
     },
     "execution_count": 5,
     "metadata": {},
     "output_type": "execute_result"
    }
   ],
   "source": [
    "flights.shape\n",
    "#dataset shape which shows number of rows and columns"
   ]
  },
  {
   "cell_type": "code",
   "execution_count": 6,
   "metadata": {
    "colab": {
     "base_uri": "https://localhost:8080/",
     "height": 350
    },
    "id": "JLaNMHECt9IY",
    "outputId": "9f1d021b-3a22-425a-a8a6-dbfcec9dc9c6"
   },
   "outputs": [
    {
     "data": {
      "text/html": [
       "<div>\n",
       "<style scoped>\n",
       "    .dataframe tbody tr th:only-of-type {\n",
       "        vertical-align: middle;\n",
       "    }\n",
       "\n",
       "    .dataframe tbody tr th {\n",
       "        vertical-align: top;\n",
       "    }\n",
       "\n",
       "    .dataframe thead th {\n",
       "        text-align: right;\n",
       "    }\n",
       "</style>\n",
       "<table border=\"1\" class=\"dataframe\">\n",
       "  <thead>\n",
       "    <tr style=\"text-align: right;\">\n",
       "      <th></th>\n",
       "      <th>YEAR</th>\n",
       "      <th>MONTH</th>\n",
       "      <th>DAY</th>\n",
       "      <th>DAY_OF_WEEK</th>\n",
       "      <th>FLIGHT_NUMBER</th>\n",
       "      <th>SCHEDULED_DEPARTURE</th>\n",
       "      <th>DEPARTURE_TIME</th>\n",
       "      <th>DEPARTURE_DELAY</th>\n",
       "      <th>TAXI_OUT</th>\n",
       "      <th>WHEELS_OFF</th>\n",
       "      <th>...</th>\n",
       "      <th>SCHEDULED_ARRIVAL</th>\n",
       "      <th>ARRIVAL_TIME</th>\n",
       "      <th>ARRIVAL_DELAY</th>\n",
       "      <th>DIVERTED</th>\n",
       "      <th>CANCELLED</th>\n",
       "      <th>AIR_SYSTEM_DELAY</th>\n",
       "      <th>SECURITY_DELAY</th>\n",
       "      <th>AIRLINE_DELAY</th>\n",
       "      <th>LATE_AIRCRAFT_DELAY</th>\n",
       "      <th>WEATHER_DELAY</th>\n",
       "    </tr>\n",
       "  </thead>\n",
       "  <tbody>\n",
       "    <tr>\n",
       "      <th>count</th>\n",
       "      <td>5819079.0</td>\n",
       "      <td>5.819079e+06</td>\n",
       "      <td>5.819079e+06</td>\n",
       "      <td>5.819079e+06</td>\n",
       "      <td>5.819079e+06</td>\n",
       "      <td>5.819079e+06</td>\n",
       "      <td>5.732926e+06</td>\n",
       "      <td>5.732926e+06</td>\n",
       "      <td>5.730032e+06</td>\n",
       "      <td>5.730032e+06</td>\n",
       "      <td>...</td>\n",
       "      <td>5.819079e+06</td>\n",
       "      <td>5.726566e+06</td>\n",
       "      <td>5.714008e+06</td>\n",
       "      <td>5.819079e+06</td>\n",
       "      <td>5.819079e+06</td>\n",
       "      <td>1.063439e+06</td>\n",
       "      <td>1.063439e+06</td>\n",
       "      <td>1.063439e+06</td>\n",
       "      <td>1.063439e+06</td>\n",
       "      <td>1.063439e+06</td>\n",
       "    </tr>\n",
       "    <tr>\n",
       "      <th>mean</th>\n",
       "      <td>2015.0</td>\n",
       "      <td>6.524085e+00</td>\n",
       "      <td>1.570459e+01</td>\n",
       "      <td>3.926941e+00</td>\n",
       "      <td>2.173093e+03</td>\n",
       "      <td>1.329602e+03</td>\n",
       "      <td>1.335204e+03</td>\n",
       "      <td>9.370158e+00</td>\n",
       "      <td>1.607166e+01</td>\n",
       "      <td>1.357171e+03</td>\n",
       "      <td>...</td>\n",
       "      <td>1.493808e+03</td>\n",
       "      <td>1.476491e+03</td>\n",
       "      <td>4.407057e+00</td>\n",
       "      <td>2.609863e-03</td>\n",
       "      <td>1.544643e-02</td>\n",
       "      <td>1.348057e+01</td>\n",
       "      <td>7.615387e-02</td>\n",
       "      <td>1.896955e+01</td>\n",
       "      <td>2.347284e+01</td>\n",
       "      <td>2.915290e+00</td>\n",
       "    </tr>\n",
       "    <tr>\n",
       "      <th>std</th>\n",
       "      <td>0.0</td>\n",
       "      <td>3.405137e+00</td>\n",
       "      <td>8.783425e+00</td>\n",
       "      <td>1.988845e+00</td>\n",
       "      <td>1.757064e+03</td>\n",
       "      <td>4.837518e+02</td>\n",
       "      <td>4.964233e+02</td>\n",
       "      <td>3.708094e+01</td>\n",
       "      <td>8.895574e+00</td>\n",
       "      <td>4.980094e+02</td>\n",
       "      <td>...</td>\n",
       "      <td>5.071647e+02</td>\n",
       "      <td>5.263197e+02</td>\n",
       "      <td>3.927130e+01</td>\n",
       "      <td>5.102012e-02</td>\n",
       "      <td>1.233201e-01</td>\n",
       "      <td>2.800368e+01</td>\n",
       "      <td>2.143460e+00</td>\n",
       "      <td>4.816164e+01</td>\n",
       "      <td>4.319702e+01</td>\n",
       "      <td>2.043334e+01</td>\n",
       "    </tr>\n",
       "    <tr>\n",
       "      <th>min</th>\n",
       "      <td>2015.0</td>\n",
       "      <td>1.000000e+00</td>\n",
       "      <td>1.000000e+00</td>\n",
       "      <td>1.000000e+00</td>\n",
       "      <td>1.000000e+00</td>\n",
       "      <td>1.000000e+00</td>\n",
       "      <td>1.000000e+00</td>\n",
       "      <td>-8.200000e+01</td>\n",
       "      <td>1.000000e+00</td>\n",
       "      <td>1.000000e+00</td>\n",
       "      <td>...</td>\n",
       "      <td>1.000000e+00</td>\n",
       "      <td>1.000000e+00</td>\n",
       "      <td>-8.700000e+01</td>\n",
       "      <td>0.000000e+00</td>\n",
       "      <td>0.000000e+00</td>\n",
       "      <td>0.000000e+00</td>\n",
       "      <td>0.000000e+00</td>\n",
       "      <td>0.000000e+00</td>\n",
       "      <td>0.000000e+00</td>\n",
       "      <td>0.000000e+00</td>\n",
       "    </tr>\n",
       "    <tr>\n",
       "      <th>25%</th>\n",
       "      <td>2015.0</td>\n",
       "      <td>4.000000e+00</td>\n",
       "      <td>8.000000e+00</td>\n",
       "      <td>2.000000e+00</td>\n",
       "      <td>7.300000e+02</td>\n",
       "      <td>9.170000e+02</td>\n",
       "      <td>9.210000e+02</td>\n",
       "      <td>-5.000000e+00</td>\n",
       "      <td>1.100000e+01</td>\n",
       "      <td>9.350000e+02</td>\n",
       "      <td>...</td>\n",
       "      <td>1.110000e+03</td>\n",
       "      <td>1.059000e+03</td>\n",
       "      <td>-1.300000e+01</td>\n",
       "      <td>0.000000e+00</td>\n",
       "      <td>0.000000e+00</td>\n",
       "      <td>0.000000e+00</td>\n",
       "      <td>0.000000e+00</td>\n",
       "      <td>0.000000e+00</td>\n",
       "      <td>0.000000e+00</td>\n",
       "      <td>0.000000e+00</td>\n",
       "    </tr>\n",
       "    <tr>\n",
       "      <th>50%</th>\n",
       "      <td>2015.0</td>\n",
       "      <td>7.000000e+00</td>\n",
       "      <td>1.600000e+01</td>\n",
       "      <td>4.000000e+00</td>\n",
       "      <td>1.690000e+03</td>\n",
       "      <td>1.325000e+03</td>\n",
       "      <td>1.330000e+03</td>\n",
       "      <td>-2.000000e+00</td>\n",
       "      <td>1.400000e+01</td>\n",
       "      <td>1.343000e+03</td>\n",
       "      <td>...</td>\n",
       "      <td>1.520000e+03</td>\n",
       "      <td>1.512000e+03</td>\n",
       "      <td>-5.000000e+00</td>\n",
       "      <td>0.000000e+00</td>\n",
       "      <td>0.000000e+00</td>\n",
       "      <td>2.000000e+00</td>\n",
       "      <td>0.000000e+00</td>\n",
       "      <td>2.000000e+00</td>\n",
       "      <td>3.000000e+00</td>\n",
       "      <td>0.000000e+00</td>\n",
       "    </tr>\n",
       "    <tr>\n",
       "      <th>75%</th>\n",
       "      <td>2015.0</td>\n",
       "      <td>9.000000e+00</td>\n",
       "      <td>2.300000e+01</td>\n",
       "      <td>6.000000e+00</td>\n",
       "      <td>3.230000e+03</td>\n",
       "      <td>1.730000e+03</td>\n",
       "      <td>1.740000e+03</td>\n",
       "      <td>7.000000e+00</td>\n",
       "      <td>1.900000e+01</td>\n",
       "      <td>1.754000e+03</td>\n",
       "      <td>...</td>\n",
       "      <td>1.918000e+03</td>\n",
       "      <td>1.917000e+03</td>\n",
       "      <td>8.000000e+00</td>\n",
       "      <td>0.000000e+00</td>\n",
       "      <td>0.000000e+00</td>\n",
       "      <td>1.800000e+01</td>\n",
       "      <td>0.000000e+00</td>\n",
       "      <td>1.900000e+01</td>\n",
       "      <td>2.900000e+01</td>\n",
       "      <td>0.000000e+00</td>\n",
       "    </tr>\n",
       "    <tr>\n",
       "      <th>max</th>\n",
       "      <td>2015.0</td>\n",
       "      <td>1.200000e+01</td>\n",
       "      <td>3.100000e+01</td>\n",
       "      <td>7.000000e+00</td>\n",
       "      <td>9.855000e+03</td>\n",
       "      <td>2.359000e+03</td>\n",
       "      <td>2.400000e+03</td>\n",
       "      <td>1.988000e+03</td>\n",
       "      <td>2.250000e+02</td>\n",
       "      <td>2.400000e+03</td>\n",
       "      <td>...</td>\n",
       "      <td>2.400000e+03</td>\n",
       "      <td>2.400000e+03</td>\n",
       "      <td>1.971000e+03</td>\n",
       "      <td>1.000000e+00</td>\n",
       "      <td>1.000000e+00</td>\n",
       "      <td>1.134000e+03</td>\n",
       "      <td>5.730000e+02</td>\n",
       "      <td>1.971000e+03</td>\n",
       "      <td>1.331000e+03</td>\n",
       "      <td>1.211000e+03</td>\n",
       "    </tr>\n",
       "  </tbody>\n",
       "</table>\n",
       "<p>8 rows × 26 columns</p>\n",
       "</div>"
      ],
      "text/plain": [
       "            YEAR         MONTH           DAY   DAY_OF_WEEK  FLIGHT_NUMBER  \\\n",
       "count  5819079.0  5.819079e+06  5.819079e+06  5.819079e+06   5.819079e+06   \n",
       "mean      2015.0  6.524085e+00  1.570459e+01  3.926941e+00   2.173093e+03   \n",
       "std          0.0  3.405137e+00  8.783425e+00  1.988845e+00   1.757064e+03   \n",
       "min       2015.0  1.000000e+00  1.000000e+00  1.000000e+00   1.000000e+00   \n",
       "25%       2015.0  4.000000e+00  8.000000e+00  2.000000e+00   7.300000e+02   \n",
       "50%       2015.0  7.000000e+00  1.600000e+01  4.000000e+00   1.690000e+03   \n",
       "75%       2015.0  9.000000e+00  2.300000e+01  6.000000e+00   3.230000e+03   \n",
       "max       2015.0  1.200000e+01  3.100000e+01  7.000000e+00   9.855000e+03   \n",
       "\n",
       "       SCHEDULED_DEPARTURE  DEPARTURE_TIME  DEPARTURE_DELAY      TAXI_OUT  \\\n",
       "count         5.819079e+06    5.732926e+06     5.732926e+06  5.730032e+06   \n",
       "mean          1.329602e+03    1.335204e+03     9.370158e+00  1.607166e+01   \n",
       "std           4.837518e+02    4.964233e+02     3.708094e+01  8.895574e+00   \n",
       "min           1.000000e+00    1.000000e+00    -8.200000e+01  1.000000e+00   \n",
       "25%           9.170000e+02    9.210000e+02    -5.000000e+00  1.100000e+01   \n",
       "50%           1.325000e+03    1.330000e+03    -2.000000e+00  1.400000e+01   \n",
       "75%           1.730000e+03    1.740000e+03     7.000000e+00  1.900000e+01   \n",
       "max           2.359000e+03    2.400000e+03     1.988000e+03  2.250000e+02   \n",
       "\n",
       "         WHEELS_OFF  ...  SCHEDULED_ARRIVAL  ARRIVAL_TIME  ARRIVAL_DELAY  \\\n",
       "count  5.730032e+06  ...       5.819079e+06  5.726566e+06   5.714008e+06   \n",
       "mean   1.357171e+03  ...       1.493808e+03  1.476491e+03   4.407057e+00   \n",
       "std    4.980094e+02  ...       5.071647e+02  5.263197e+02   3.927130e+01   \n",
       "min    1.000000e+00  ...       1.000000e+00  1.000000e+00  -8.700000e+01   \n",
       "25%    9.350000e+02  ...       1.110000e+03  1.059000e+03  -1.300000e+01   \n",
       "50%    1.343000e+03  ...       1.520000e+03  1.512000e+03  -5.000000e+00   \n",
       "75%    1.754000e+03  ...       1.918000e+03  1.917000e+03   8.000000e+00   \n",
       "max    2.400000e+03  ...       2.400000e+03  2.400000e+03   1.971000e+03   \n",
       "\n",
       "           DIVERTED     CANCELLED  AIR_SYSTEM_DELAY  SECURITY_DELAY  \\\n",
       "count  5.819079e+06  5.819079e+06      1.063439e+06    1.063439e+06   \n",
       "mean   2.609863e-03  1.544643e-02      1.348057e+01    7.615387e-02   \n",
       "std    5.102012e-02  1.233201e-01      2.800368e+01    2.143460e+00   \n",
       "min    0.000000e+00  0.000000e+00      0.000000e+00    0.000000e+00   \n",
       "25%    0.000000e+00  0.000000e+00      0.000000e+00    0.000000e+00   \n",
       "50%    0.000000e+00  0.000000e+00      2.000000e+00    0.000000e+00   \n",
       "75%    0.000000e+00  0.000000e+00      1.800000e+01    0.000000e+00   \n",
       "max    1.000000e+00  1.000000e+00      1.134000e+03    5.730000e+02   \n",
       "\n",
       "       AIRLINE_DELAY  LATE_AIRCRAFT_DELAY  WEATHER_DELAY  \n",
       "count   1.063439e+06         1.063439e+06   1.063439e+06  \n",
       "mean    1.896955e+01         2.347284e+01   2.915290e+00  \n",
       "std     4.816164e+01         4.319702e+01   2.043334e+01  \n",
       "min     0.000000e+00         0.000000e+00   0.000000e+00  \n",
       "25%     0.000000e+00         0.000000e+00   0.000000e+00  \n",
       "50%     2.000000e+00         3.000000e+00   0.000000e+00  \n",
       "75%     1.900000e+01         2.900000e+01   0.000000e+00  \n",
       "max     1.971000e+03         1.331000e+03   1.211000e+03  \n",
       "\n",
       "[8 rows x 26 columns]"
      ]
     },
     "execution_count": 6,
     "metadata": {},
     "output_type": "execute_result"
    }
   ],
   "source": [
    "flights.describe()\n",
    "#which shows the summary of descrptive statastics"
   ]
  },
  {
   "cell_type": "code",
   "execution_count": 7,
   "metadata": {
    "colab": {
     "base_uri": "https://localhost:8080/",
     "height": 256
    },
    "id": "skjTAQqFt9Ia",
    "outputId": "de333c45-2e55-4bee-a443-678248927801"
   },
   "outputs": [
    {
     "data": {
      "text/html": [
       "<div>\n",
       "<style scoped>\n",
       "    .dataframe tbody tr th:only-of-type {\n",
       "        vertical-align: middle;\n",
       "    }\n",
       "\n",
       "    .dataframe tbody tr th {\n",
       "        vertical-align: top;\n",
       "    }\n",
       "\n",
       "    .dataframe thead th {\n",
       "        text-align: right;\n",
       "    }\n",
       "</style>\n",
       "<table border=\"1\" class=\"dataframe\">\n",
       "  <thead>\n",
       "    <tr style=\"text-align: right;\">\n",
       "      <th></th>\n",
       "      <th>YEAR</th>\n",
       "      <th>MONTH</th>\n",
       "      <th>DAY</th>\n",
       "      <th>DAY_OF_WEEK</th>\n",
       "      <th>AIRLINE</th>\n",
       "      <th>FLIGHT_NUMBER</th>\n",
       "      <th>TAIL_NUMBER</th>\n",
       "      <th>ORIGIN_AIRPORT</th>\n",
       "      <th>DESTINATION_AIRPORT</th>\n",
       "      <th>SCHEDULED_DEPARTURE</th>\n",
       "      <th>...</th>\n",
       "      <th>ARRIVAL_TIME</th>\n",
       "      <th>ARRIVAL_DELAY</th>\n",
       "      <th>DIVERTED</th>\n",
       "      <th>CANCELLED</th>\n",
       "      <th>CANCELLATION_REASON</th>\n",
       "      <th>AIR_SYSTEM_DELAY</th>\n",
       "      <th>SECURITY_DELAY</th>\n",
       "      <th>AIRLINE_DELAY</th>\n",
       "      <th>LATE_AIRCRAFT_DELAY</th>\n",
       "      <th>WEATHER_DELAY</th>\n",
       "    </tr>\n",
       "  </thead>\n",
       "  <tbody>\n",
       "    <tr>\n",
       "      <th>0</th>\n",
       "      <td>2015</td>\n",
       "      <td>1</td>\n",
       "      <td>1</td>\n",
       "      <td>4</td>\n",
       "      <td>AS</td>\n",
       "      <td>98</td>\n",
       "      <td>N407AS</td>\n",
       "      <td>ANC</td>\n",
       "      <td>SEA</td>\n",
       "      <td>5</td>\n",
       "      <td>...</td>\n",
       "      <td>408.0</td>\n",
       "      <td>-22.0</td>\n",
       "      <td>0</td>\n",
       "      <td>0</td>\n",
       "      <td>NaN</td>\n",
       "      <td>NaN</td>\n",
       "      <td>NaN</td>\n",
       "      <td>NaN</td>\n",
       "      <td>NaN</td>\n",
       "      <td>NaN</td>\n",
       "    </tr>\n",
       "    <tr>\n",
       "      <th>1</th>\n",
       "      <td>2015</td>\n",
       "      <td>1</td>\n",
       "      <td>1</td>\n",
       "      <td>4</td>\n",
       "      <td>AA</td>\n",
       "      <td>2336</td>\n",
       "      <td>N3KUAA</td>\n",
       "      <td>LAX</td>\n",
       "      <td>PBI</td>\n",
       "      <td>10</td>\n",
       "      <td>...</td>\n",
       "      <td>741.0</td>\n",
       "      <td>-9.0</td>\n",
       "      <td>0</td>\n",
       "      <td>0</td>\n",
       "      <td>NaN</td>\n",
       "      <td>NaN</td>\n",
       "      <td>NaN</td>\n",
       "      <td>NaN</td>\n",
       "      <td>NaN</td>\n",
       "      <td>NaN</td>\n",
       "    </tr>\n",
       "    <tr>\n",
       "      <th>2</th>\n",
       "      <td>2015</td>\n",
       "      <td>1</td>\n",
       "      <td>1</td>\n",
       "      <td>4</td>\n",
       "      <td>US</td>\n",
       "      <td>840</td>\n",
       "      <td>N171US</td>\n",
       "      <td>SFO</td>\n",
       "      <td>CLT</td>\n",
       "      <td>20</td>\n",
       "      <td>...</td>\n",
       "      <td>811.0</td>\n",
       "      <td>5.0</td>\n",
       "      <td>0</td>\n",
       "      <td>0</td>\n",
       "      <td>NaN</td>\n",
       "      <td>NaN</td>\n",
       "      <td>NaN</td>\n",
       "      <td>NaN</td>\n",
       "      <td>NaN</td>\n",
       "      <td>NaN</td>\n",
       "    </tr>\n",
       "    <tr>\n",
       "      <th>3</th>\n",
       "      <td>2015</td>\n",
       "      <td>1</td>\n",
       "      <td>1</td>\n",
       "      <td>4</td>\n",
       "      <td>AA</td>\n",
       "      <td>258</td>\n",
       "      <td>N3HYAA</td>\n",
       "      <td>LAX</td>\n",
       "      <td>MIA</td>\n",
       "      <td>20</td>\n",
       "      <td>...</td>\n",
       "      <td>756.0</td>\n",
       "      <td>-9.0</td>\n",
       "      <td>0</td>\n",
       "      <td>0</td>\n",
       "      <td>NaN</td>\n",
       "      <td>NaN</td>\n",
       "      <td>NaN</td>\n",
       "      <td>NaN</td>\n",
       "      <td>NaN</td>\n",
       "      <td>NaN</td>\n",
       "    </tr>\n",
       "    <tr>\n",
       "      <th>4</th>\n",
       "      <td>2015</td>\n",
       "      <td>1</td>\n",
       "      <td>1</td>\n",
       "      <td>4</td>\n",
       "      <td>AS</td>\n",
       "      <td>135</td>\n",
       "      <td>N527AS</td>\n",
       "      <td>SEA</td>\n",
       "      <td>ANC</td>\n",
       "      <td>25</td>\n",
       "      <td>...</td>\n",
       "      <td>259.0</td>\n",
       "      <td>-21.0</td>\n",
       "      <td>0</td>\n",
       "      <td>0</td>\n",
       "      <td>NaN</td>\n",
       "      <td>NaN</td>\n",
       "      <td>NaN</td>\n",
       "      <td>NaN</td>\n",
       "      <td>NaN</td>\n",
       "      <td>NaN</td>\n",
       "    </tr>\n",
       "  </tbody>\n",
       "</table>\n",
       "<p>5 rows × 31 columns</p>\n",
       "</div>"
      ],
      "text/plain": [
       "   YEAR  MONTH  DAY  DAY_OF_WEEK AIRLINE  FLIGHT_NUMBER TAIL_NUMBER  \\\n",
       "0  2015      1    1            4      AS             98      N407AS   \n",
       "1  2015      1    1            4      AA           2336      N3KUAA   \n",
       "2  2015      1    1            4      US            840      N171US   \n",
       "3  2015      1    1            4      AA            258      N3HYAA   \n",
       "4  2015      1    1            4      AS            135      N527AS   \n",
       "\n",
       "  ORIGIN_AIRPORT DESTINATION_AIRPORT  SCHEDULED_DEPARTURE  ...  ARRIVAL_TIME  \\\n",
       "0            ANC                 SEA                    5  ...         408.0   \n",
       "1            LAX                 PBI                   10  ...         741.0   \n",
       "2            SFO                 CLT                   20  ...         811.0   \n",
       "3            LAX                 MIA                   20  ...         756.0   \n",
       "4            SEA                 ANC                   25  ...         259.0   \n",
       "\n",
       "   ARRIVAL_DELAY  DIVERTED  CANCELLED  CANCELLATION_REASON  AIR_SYSTEM_DELAY  \\\n",
       "0          -22.0         0          0                  NaN               NaN   \n",
       "1           -9.0         0          0                  NaN               NaN   \n",
       "2            5.0         0          0                  NaN               NaN   \n",
       "3           -9.0         0          0                  NaN               NaN   \n",
       "4          -21.0         0          0                  NaN               NaN   \n",
       "\n",
       "   SECURITY_DELAY  AIRLINE_DELAY  LATE_AIRCRAFT_DELAY  WEATHER_DELAY  \n",
       "0             NaN            NaN                  NaN            NaN  \n",
       "1             NaN            NaN                  NaN            NaN  \n",
       "2             NaN            NaN                  NaN            NaN  \n",
       "3             NaN            NaN                  NaN            NaN  \n",
       "4             NaN            NaN                  NaN            NaN  \n",
       "\n",
       "[5 rows x 31 columns]"
      ]
     },
     "execution_count": 7,
     "metadata": {},
     "output_type": "execute_result"
    }
   ],
   "source": [
    "flights.head()"
   ]
  },
  {
   "cell_type": "code",
   "execution_count": 8,
   "metadata": {
    "colab": {
     "base_uri": "https://localhost:8080/",
     "height": 444
    },
    "id": "LE4gcKjut9Id",
    "outputId": "e66b236a-57aa-4bd1-9c17-d61ec5b0acb7",
    "scrolled": false
   },
   "outputs": [
    {
     "data": {
      "text/html": [
       "<div>\n",
       "<style scoped>\n",
       "    .dataframe tbody tr th:only-of-type {\n",
       "        vertical-align: middle;\n",
       "    }\n",
       "\n",
       "    .dataframe tbody tr th {\n",
       "        vertical-align: top;\n",
       "    }\n",
       "\n",
       "    .dataframe thead th {\n",
       "        text-align: right;\n",
       "    }\n",
       "</style>\n",
       "<table border=\"1\" class=\"dataframe\">\n",
       "  <thead>\n",
       "    <tr style=\"text-align: right;\">\n",
       "      <th></th>\n",
       "      <th>YEAR</th>\n",
       "      <th>MONTH</th>\n",
       "      <th>DAY</th>\n",
       "      <th>DAY_OF_WEEK</th>\n",
       "      <th>AIRLINE</th>\n",
       "      <th>FLIGHT_NUMBER</th>\n",
       "      <th>TAIL_NUMBER</th>\n",
       "      <th>ORIGIN_AIRPORT</th>\n",
       "      <th>DESTINATION_AIRPORT</th>\n",
       "      <th>SCHEDULED_DEPARTURE</th>\n",
       "      <th>...</th>\n",
       "      <th>ARRIVAL_TIME</th>\n",
       "      <th>ARRIVAL_DELAY</th>\n",
       "      <th>DIVERTED</th>\n",
       "      <th>CANCELLED</th>\n",
       "      <th>CANCELLATION_REASON</th>\n",
       "      <th>AIR_SYSTEM_DELAY</th>\n",
       "      <th>SECURITY_DELAY</th>\n",
       "      <th>AIRLINE_DELAY</th>\n",
       "      <th>LATE_AIRCRAFT_DELAY</th>\n",
       "      <th>WEATHER_DELAY</th>\n",
       "    </tr>\n",
       "  </thead>\n",
       "  <tbody>\n",
       "    <tr>\n",
       "      <th>0</th>\n",
       "      <td>2015</td>\n",
       "      <td>1</td>\n",
       "      <td>1</td>\n",
       "      <td>4</td>\n",
       "      <td>AS</td>\n",
       "      <td>98</td>\n",
       "      <td>N407AS</td>\n",
       "      <td>ANC</td>\n",
       "      <td>SEA</td>\n",
       "      <td>5</td>\n",
       "      <td>...</td>\n",
       "      <td>408.0</td>\n",
       "      <td>-22.0</td>\n",
       "      <td>0</td>\n",
       "      <td>0</td>\n",
       "      <td>NaN</td>\n",
       "      <td>NaN</td>\n",
       "      <td>NaN</td>\n",
       "      <td>NaN</td>\n",
       "      <td>NaN</td>\n",
       "      <td>NaN</td>\n",
       "    </tr>\n",
       "    <tr>\n",
       "      <th>1</th>\n",
       "      <td>2015</td>\n",
       "      <td>1</td>\n",
       "      <td>1</td>\n",
       "      <td>4</td>\n",
       "      <td>AA</td>\n",
       "      <td>2336</td>\n",
       "      <td>N3KUAA</td>\n",
       "      <td>LAX</td>\n",
       "      <td>PBI</td>\n",
       "      <td>10</td>\n",
       "      <td>...</td>\n",
       "      <td>741.0</td>\n",
       "      <td>-9.0</td>\n",
       "      <td>0</td>\n",
       "      <td>0</td>\n",
       "      <td>NaN</td>\n",
       "      <td>NaN</td>\n",
       "      <td>NaN</td>\n",
       "      <td>NaN</td>\n",
       "      <td>NaN</td>\n",
       "      <td>NaN</td>\n",
       "    </tr>\n",
       "    <tr>\n",
       "      <th>2</th>\n",
       "      <td>2015</td>\n",
       "      <td>1</td>\n",
       "      <td>1</td>\n",
       "      <td>4</td>\n",
       "      <td>US</td>\n",
       "      <td>840</td>\n",
       "      <td>N171US</td>\n",
       "      <td>SFO</td>\n",
       "      <td>CLT</td>\n",
       "      <td>20</td>\n",
       "      <td>...</td>\n",
       "      <td>811.0</td>\n",
       "      <td>5.0</td>\n",
       "      <td>0</td>\n",
       "      <td>0</td>\n",
       "      <td>NaN</td>\n",
       "      <td>NaN</td>\n",
       "      <td>NaN</td>\n",
       "      <td>NaN</td>\n",
       "      <td>NaN</td>\n",
       "      <td>NaN</td>\n",
       "    </tr>\n",
       "    <tr>\n",
       "      <th>3</th>\n",
       "      <td>2015</td>\n",
       "      <td>1</td>\n",
       "      <td>1</td>\n",
       "      <td>4</td>\n",
       "      <td>AA</td>\n",
       "      <td>258</td>\n",
       "      <td>N3HYAA</td>\n",
       "      <td>LAX</td>\n",
       "      <td>MIA</td>\n",
       "      <td>20</td>\n",
       "      <td>...</td>\n",
       "      <td>756.0</td>\n",
       "      <td>-9.0</td>\n",
       "      <td>0</td>\n",
       "      <td>0</td>\n",
       "      <td>NaN</td>\n",
       "      <td>NaN</td>\n",
       "      <td>NaN</td>\n",
       "      <td>NaN</td>\n",
       "      <td>NaN</td>\n",
       "      <td>NaN</td>\n",
       "    </tr>\n",
       "    <tr>\n",
       "      <th>4</th>\n",
       "      <td>2015</td>\n",
       "      <td>1</td>\n",
       "      <td>1</td>\n",
       "      <td>4</td>\n",
       "      <td>AS</td>\n",
       "      <td>135</td>\n",
       "      <td>N527AS</td>\n",
       "      <td>SEA</td>\n",
       "      <td>ANC</td>\n",
       "      <td>25</td>\n",
       "      <td>...</td>\n",
       "      <td>259.0</td>\n",
       "      <td>-21.0</td>\n",
       "      <td>0</td>\n",
       "      <td>0</td>\n",
       "      <td>NaN</td>\n",
       "      <td>NaN</td>\n",
       "      <td>NaN</td>\n",
       "      <td>NaN</td>\n",
       "      <td>NaN</td>\n",
       "      <td>NaN</td>\n",
       "    </tr>\n",
       "    <tr>\n",
       "      <th>...</th>\n",
       "      <td>...</td>\n",
       "      <td>...</td>\n",
       "      <td>...</td>\n",
       "      <td>...</td>\n",
       "      <td>...</td>\n",
       "      <td>...</td>\n",
       "      <td>...</td>\n",
       "      <td>...</td>\n",
       "      <td>...</td>\n",
       "      <td>...</td>\n",
       "      <td>...</td>\n",
       "      <td>...</td>\n",
       "      <td>...</td>\n",
       "      <td>...</td>\n",
       "      <td>...</td>\n",
       "      <td>...</td>\n",
       "      <td>...</td>\n",
       "      <td>...</td>\n",
       "      <td>...</td>\n",
       "      <td>...</td>\n",
       "      <td>...</td>\n",
       "    </tr>\n",
       "    <tr>\n",
       "      <th>5819074</th>\n",
       "      <td>2015</td>\n",
       "      <td>12</td>\n",
       "      <td>31</td>\n",
       "      <td>4</td>\n",
       "      <td>B6</td>\n",
       "      <td>688</td>\n",
       "      <td>N657JB</td>\n",
       "      <td>LAX</td>\n",
       "      <td>BOS</td>\n",
       "      <td>2359</td>\n",
       "      <td>...</td>\n",
       "      <td>753.0</td>\n",
       "      <td>-26.0</td>\n",
       "      <td>0</td>\n",
       "      <td>0</td>\n",
       "      <td>NaN</td>\n",
       "      <td>NaN</td>\n",
       "      <td>NaN</td>\n",
       "      <td>NaN</td>\n",
       "      <td>NaN</td>\n",
       "      <td>NaN</td>\n",
       "    </tr>\n",
       "    <tr>\n",
       "      <th>5819075</th>\n",
       "      <td>2015</td>\n",
       "      <td>12</td>\n",
       "      <td>31</td>\n",
       "      <td>4</td>\n",
       "      <td>B6</td>\n",
       "      <td>745</td>\n",
       "      <td>N828JB</td>\n",
       "      <td>JFK</td>\n",
       "      <td>PSE</td>\n",
       "      <td>2359</td>\n",
       "      <td>...</td>\n",
       "      <td>430.0</td>\n",
       "      <td>-16.0</td>\n",
       "      <td>0</td>\n",
       "      <td>0</td>\n",
       "      <td>NaN</td>\n",
       "      <td>NaN</td>\n",
       "      <td>NaN</td>\n",
       "      <td>NaN</td>\n",
       "      <td>NaN</td>\n",
       "      <td>NaN</td>\n",
       "    </tr>\n",
       "    <tr>\n",
       "      <th>5819076</th>\n",
       "      <td>2015</td>\n",
       "      <td>12</td>\n",
       "      <td>31</td>\n",
       "      <td>4</td>\n",
       "      <td>B6</td>\n",
       "      <td>1503</td>\n",
       "      <td>N913JB</td>\n",
       "      <td>JFK</td>\n",
       "      <td>SJU</td>\n",
       "      <td>2359</td>\n",
       "      <td>...</td>\n",
       "      <td>432.0</td>\n",
       "      <td>-8.0</td>\n",
       "      <td>0</td>\n",
       "      <td>0</td>\n",
       "      <td>NaN</td>\n",
       "      <td>NaN</td>\n",
       "      <td>NaN</td>\n",
       "      <td>NaN</td>\n",
       "      <td>NaN</td>\n",
       "      <td>NaN</td>\n",
       "    </tr>\n",
       "    <tr>\n",
       "      <th>5819077</th>\n",
       "      <td>2015</td>\n",
       "      <td>12</td>\n",
       "      <td>31</td>\n",
       "      <td>4</td>\n",
       "      <td>B6</td>\n",
       "      <td>333</td>\n",
       "      <td>N527JB</td>\n",
       "      <td>MCO</td>\n",
       "      <td>SJU</td>\n",
       "      <td>2359</td>\n",
       "      <td>...</td>\n",
       "      <td>330.0</td>\n",
       "      <td>-10.0</td>\n",
       "      <td>0</td>\n",
       "      <td>0</td>\n",
       "      <td>NaN</td>\n",
       "      <td>NaN</td>\n",
       "      <td>NaN</td>\n",
       "      <td>NaN</td>\n",
       "      <td>NaN</td>\n",
       "      <td>NaN</td>\n",
       "    </tr>\n",
       "    <tr>\n",
       "      <th>5819078</th>\n",
       "      <td>2015</td>\n",
       "      <td>12</td>\n",
       "      <td>31</td>\n",
       "      <td>4</td>\n",
       "      <td>B6</td>\n",
       "      <td>839</td>\n",
       "      <td>N534JB</td>\n",
       "      <td>JFK</td>\n",
       "      <td>BQN</td>\n",
       "      <td>2359</td>\n",
       "      <td>...</td>\n",
       "      <td>442.0</td>\n",
       "      <td>2.0</td>\n",
       "      <td>0</td>\n",
       "      <td>0</td>\n",
       "      <td>NaN</td>\n",
       "      <td>NaN</td>\n",
       "      <td>NaN</td>\n",
       "      <td>NaN</td>\n",
       "      <td>NaN</td>\n",
       "      <td>NaN</td>\n",
       "    </tr>\n",
       "  </tbody>\n",
       "</table>\n",
       "<p>5819079 rows × 31 columns</p>\n",
       "</div>"
      ],
      "text/plain": [
       "         YEAR  MONTH  DAY  DAY_OF_WEEK AIRLINE  FLIGHT_NUMBER TAIL_NUMBER  \\\n",
       "0        2015      1    1            4      AS             98      N407AS   \n",
       "1        2015      1    1            4      AA           2336      N3KUAA   \n",
       "2        2015      1    1            4      US            840      N171US   \n",
       "3        2015      1    1            4      AA            258      N3HYAA   \n",
       "4        2015      1    1            4      AS            135      N527AS   \n",
       "...       ...    ...  ...          ...     ...            ...         ...   \n",
       "5819074  2015     12   31            4      B6            688      N657JB   \n",
       "5819075  2015     12   31            4      B6            745      N828JB   \n",
       "5819076  2015     12   31            4      B6           1503      N913JB   \n",
       "5819077  2015     12   31            4      B6            333      N527JB   \n",
       "5819078  2015     12   31            4      B6            839      N534JB   \n",
       "\n",
       "        ORIGIN_AIRPORT DESTINATION_AIRPORT  SCHEDULED_DEPARTURE  ...  \\\n",
       "0                  ANC                 SEA                    5  ...   \n",
       "1                  LAX                 PBI                   10  ...   \n",
       "2                  SFO                 CLT                   20  ...   \n",
       "3                  LAX                 MIA                   20  ...   \n",
       "4                  SEA                 ANC                   25  ...   \n",
       "...                ...                 ...                  ...  ...   \n",
       "5819074            LAX                 BOS                 2359  ...   \n",
       "5819075            JFK                 PSE                 2359  ...   \n",
       "5819076            JFK                 SJU                 2359  ...   \n",
       "5819077            MCO                 SJU                 2359  ...   \n",
       "5819078            JFK                 BQN                 2359  ...   \n",
       "\n",
       "         ARRIVAL_TIME  ARRIVAL_DELAY  DIVERTED  CANCELLED  \\\n",
       "0               408.0          -22.0         0          0   \n",
       "1               741.0           -9.0         0          0   \n",
       "2               811.0            5.0         0          0   \n",
       "3               756.0           -9.0         0          0   \n",
       "4               259.0          -21.0         0          0   \n",
       "...               ...            ...       ...        ...   \n",
       "5819074         753.0          -26.0         0          0   \n",
       "5819075         430.0          -16.0         0          0   \n",
       "5819076         432.0           -8.0         0          0   \n",
       "5819077         330.0          -10.0         0          0   \n",
       "5819078         442.0            2.0         0          0   \n",
       "\n",
       "         CANCELLATION_REASON  AIR_SYSTEM_DELAY  SECURITY_DELAY  AIRLINE_DELAY  \\\n",
       "0                        NaN               NaN             NaN            NaN   \n",
       "1                        NaN               NaN             NaN            NaN   \n",
       "2                        NaN               NaN             NaN            NaN   \n",
       "3                        NaN               NaN             NaN            NaN   \n",
       "4                        NaN               NaN             NaN            NaN   \n",
       "...                      ...               ...             ...            ...   \n",
       "5819074                  NaN               NaN             NaN            NaN   \n",
       "5819075                  NaN               NaN             NaN            NaN   \n",
       "5819076                  NaN               NaN             NaN            NaN   \n",
       "5819077                  NaN               NaN             NaN            NaN   \n",
       "5819078                  NaN               NaN             NaN            NaN   \n",
       "\n",
       "         LATE_AIRCRAFT_DELAY  WEATHER_DELAY  \n",
       "0                        NaN            NaN  \n",
       "1                        NaN            NaN  \n",
       "2                        NaN            NaN  \n",
       "3                        NaN            NaN  \n",
       "4                        NaN            NaN  \n",
       "...                      ...            ...  \n",
       "5819074                  NaN            NaN  \n",
       "5819075                  NaN            NaN  \n",
       "5819076                  NaN            NaN  \n",
       "5819077                  NaN            NaN  \n",
       "5819078                  NaN            NaN  \n",
       "\n",
       "[5819079 rows x 31 columns]"
      ]
     },
     "execution_count": 8,
     "metadata": {},
     "output_type": "execute_result"
    }
   ],
   "source": [
    "flights"
   ]
  },
  {
   "cell_type": "code",
   "execution_count": 9,
   "metadata": {
    "id": "zlVg-Og5c1nE"
   },
   "outputs": [],
   "source": [
    "airlinecompanies = airlines.set_index('IATA_CODE')['AIRLINE'].to_dict()#mapping airline IATA codes to airline names"
   ]
  },
  {
   "cell_type": "code",
   "execution_count": 10,
   "metadata": {
    "colab": {
     "base_uri": "https://localhost:8080/",
     "height": 0
    },
    "id": "mwxlQe8jdhr4",
    "outputId": "4f53ad00-0126-45c1-897e-a2df12a1747c"
   },
   "outputs": [
    {
     "data": {
      "text/plain": [
       "{'UA': 'United Air Lines Inc.',\n",
       " 'AA': 'American Airlines Inc.',\n",
       " 'US': 'US Airways Inc.',\n",
       " 'F9': 'Frontier Airlines Inc.',\n",
       " 'B6': 'JetBlue Airways',\n",
       " 'OO': 'Skywest Airlines Inc.',\n",
       " 'AS': 'Alaska Airlines Inc.',\n",
       " 'NK': 'Spirit Air Lines',\n",
       " 'WN': 'Southwest Airlines Co.',\n",
       " 'DL': 'Delta Air Lines Inc.',\n",
       " 'EV': 'Atlantic Southeast Airlines',\n",
       " 'HA': 'Hawaiian Airlines Inc.',\n",
       " 'MQ': 'American Eagle Airlines Inc.',\n",
       " 'VX': 'Virgin America'}"
      ]
     },
     "execution_count": 10,
     "metadata": {},
     "output_type": "execute_result"
    }
   ],
   "source": [
    "airlinecompanies"
   ]
  },
  {
   "cell_type": "code",
   "execution_count": 11,
   "metadata": {
    "colab": {
     "base_uri": "https://localhost:8080/",
     "height": 599
    },
    "id": "NioQOErOdj-p",
    "outputId": "e194667d-f6bd-4e9c-ff3f-932f148d1e7c"
   },
   "outputs": [
    {
     "data": {
      "image/png": "[encoded data removed]",
      "text/plain": [
       "<Figure size 1000x700 with 1 Axes>"
      ]
     },
     "metadata": {},
     "output_type": "display_data"
    }
   ],
   "source": [
    "def delay_type(x):\n",
    "    if x <= 5:\n",
    "        return \"on time (t < 5 min)\"\n",
    "    elif x <= 45:\n",
    "        return \"small delay (5 < t < 45 min)\"\n",
    "    else:\n",
    "        return \"large delay (t > 45 min)\"\n",
    "\n",
    "# Applying the delay_type function to create the 'DELAY_LEVEL' column\n",
    "flights['DELAY_LEVEL'] = flights['DEPARTURE_DELAY'].apply(delay_type)\n",
    "\n",
    "\n",
    "# Create the countplot\n",
    "plt.figure(figsize=(10, 7))\n",
    "ax = sns.countplot(x=\"AIRLINE\", hue='DELAY_LEVEL', data=flights, palette=sns.color_palette(\"Dark2\"))\n",
    "\n",
    "ax.set_ylabel('No. of Flights', fontsize=16, weight='bold', labelpad=10)\n",
    "plt.xticks(rotation=0)\n",
    "ax.xaxis.label.set_visible(False)\n",
    "\n",
    "# Modify the legend labels\n",
    "L = plt.legend()\n",
    "L.get_texts()[0].set_text('on time (t < 5 min)')\n",
    "L.get_texts()[1].set_text('small delay (5 < t < 45 min)')\n",
    "L.get_texts()[2].set_text('large delay (t > 45 min)')\n",
    "\n",
    "plt.show()"
   ]
  },
  {
   "cell_type": "markdown",
   "metadata": {},
   "source": [
    "In the above graph it shows the filghts delay on each airlines"
   ]
  },
  {
   "cell_type": "markdown",
   "metadata": {},
   "source": [
    "## Handling Missing Values"
   ]
  },
  {
   "cell_type": "code",
   "execution_count": 12,
   "metadata": {
    "colab": {
     "base_uri": "https://localhost:8080/",
     "height": 0
    },
    "id": "3IlnbWiPt9If",
    "outputId": "25a4cbf7-5575-41cf-ee12-db594aff0ddf"
   },
   "outputs": [
    {
     "data": {
      "text/plain": [
       "IATA_CODE    0\n",
       "AIRPORT      0\n",
       "CITY         0\n",
       "STATE        0\n",
       "COUNTRY      0\n",
       "LATITUDE     3\n",
       "LONGITUDE    3\n",
       "dtype: int64"
      ]
     },
     "execution_count": 12,
     "metadata": {},
     "output_type": "execute_result"
    }
   ],
   "source": [
    "airports.isnull().sum()# Check for missing values in the 'airports' DataFrame"
   ]
  },
  {
   "cell_type": "code",
   "execution_count": 13,
   "metadata": {
    "id": "tFCO89K_t9Ih"
   },
   "outputs": [],
   "source": [
    "# Drop rows with missing values in 'LATITUDE' and 'LONGITUDE' columns\n",
    "airports = airports.dropna(subset = ['LATITUDE','LONGITUDE'])"
   ]
  },
  {
   "cell_type": "code",
   "execution_count": 14,
   "metadata": {
    "colab": {
     "base_uri": "https://localhost:8080/",
     "height": 363
    },
    "id": "-d5KopmJt9Ik",
    "outputId": "3555fac0-1d12-4bd9-8cef-6c743b6c87f6"
   },
   "outputs": [
    {
     "data": {
      "text/html": [
       "<div>\n",
       "<style scoped>\n",
       "    .dataframe tbody tr th:only-of-type {\n",
       "        vertical-align: middle;\n",
       "    }\n",
       "\n",
       "    .dataframe tbody tr th {\n",
       "        vertical-align: top;\n",
       "    }\n",
       "\n",
       "    .dataframe thead th {\n",
       "        text-align: right;\n",
       "    }\n",
       "</style>\n",
       "<table border=\"1\" class=\"dataframe\">\n",
       "  <thead>\n",
       "    <tr style=\"text-align: right;\">\n",
       "      <th></th>\n",
       "      <th>IATA_CODE</th>\n",
       "      <th>AIRPORT</th>\n",
       "      <th>CITY</th>\n",
       "      <th>STATE</th>\n",
       "      <th>COUNTRY</th>\n",
       "      <th>LATITUDE</th>\n",
       "      <th>LONGITUDE</th>\n",
       "    </tr>\n",
       "  </thead>\n",
       "  <tbody>\n",
       "    <tr>\n",
       "      <th>0</th>\n",
       "      <td>ABE</td>\n",
       "      <td>Lehigh Valley International Airport</td>\n",
       "      <td>Allentown</td>\n",
       "      <td>PA</td>\n",
       "      <td>USA</td>\n",
       "      <td>40.65236</td>\n",
       "      <td>-75.44040</td>\n",
       "    </tr>\n",
       "    <tr>\n",
       "      <th>1</th>\n",
       "      <td>ABI</td>\n",
       "      <td>Abilene Regional Airport</td>\n",
       "      <td>Abilene</td>\n",
       "      <td>TX</td>\n",
       "      <td>USA</td>\n",
       "      <td>32.41132</td>\n",
       "      <td>-99.68190</td>\n",
       "    </tr>\n",
       "    <tr>\n",
       "      <th>2</th>\n",
       "      <td>ABQ</td>\n",
       "      <td>Albuquerque International Sunport</td>\n",
       "      <td>Albuquerque</td>\n",
       "      <td>NM</td>\n",
       "      <td>USA</td>\n",
       "      <td>35.04022</td>\n",
       "      <td>-106.60919</td>\n",
       "    </tr>\n",
       "    <tr>\n",
       "      <th>3</th>\n",
       "      <td>ABR</td>\n",
       "      <td>Aberdeen Regional Airport</td>\n",
       "      <td>Aberdeen</td>\n",
       "      <td>SD</td>\n",
       "      <td>USA</td>\n",
       "      <td>45.44906</td>\n",
       "      <td>-98.42183</td>\n",
       "    </tr>\n",
       "    <tr>\n",
       "      <th>4</th>\n",
       "      <td>ABY</td>\n",
       "      <td>Southwest Georgia Regional Airport</td>\n",
       "      <td>Albany</td>\n",
       "      <td>GA</td>\n",
       "      <td>USA</td>\n",
       "      <td>31.53552</td>\n",
       "      <td>-84.19447</td>\n",
       "    </tr>\n",
       "    <tr>\n",
       "      <th>5</th>\n",
       "      <td>ACK</td>\n",
       "      <td>Nantucket Memorial Airport</td>\n",
       "      <td>Nantucket</td>\n",
       "      <td>MA</td>\n",
       "      <td>USA</td>\n",
       "      <td>41.25305</td>\n",
       "      <td>-70.06018</td>\n",
       "    </tr>\n",
       "    <tr>\n",
       "      <th>6</th>\n",
       "      <td>ACT</td>\n",
       "      <td>Waco Regional Airport</td>\n",
       "      <td>Waco</td>\n",
       "      <td>TX</td>\n",
       "      <td>USA</td>\n",
       "      <td>31.61129</td>\n",
       "      <td>-97.23052</td>\n",
       "    </tr>\n",
       "    <tr>\n",
       "      <th>7</th>\n",
       "      <td>ACV</td>\n",
       "      <td>Arcata Airport</td>\n",
       "      <td>Arcata/Eureka</td>\n",
       "      <td>CA</td>\n",
       "      <td>USA</td>\n",
       "      <td>40.97812</td>\n",
       "      <td>-124.10862</td>\n",
       "    </tr>\n",
       "    <tr>\n",
       "      <th>8</th>\n",
       "      <td>ACY</td>\n",
       "      <td>Atlantic City International Airport</td>\n",
       "      <td>Atlantic City</td>\n",
       "      <td>NJ</td>\n",
       "      <td>USA</td>\n",
       "      <td>39.45758</td>\n",
       "      <td>-74.57717</td>\n",
       "    </tr>\n",
       "    <tr>\n",
       "      <th>9</th>\n",
       "      <td>ADK</td>\n",
       "      <td>Adak Airport</td>\n",
       "      <td>Adak</td>\n",
       "      <td>AK</td>\n",
       "      <td>USA</td>\n",
       "      <td>51.87796</td>\n",
       "      <td>-176.64603</td>\n",
       "    </tr>\n",
       "  </tbody>\n",
       "</table>\n",
       "</div>"
      ],
      "text/plain": [
       "  IATA_CODE                              AIRPORT           CITY STATE COUNTRY  \\\n",
       "0       ABE  Lehigh Valley International Airport      Allentown    PA     USA   \n",
       "1       ABI             Abilene Regional Airport        Abilene    TX     USA   \n",
       "2       ABQ    Albuquerque International Sunport    Albuquerque    NM     USA   \n",
       "3       ABR            Aberdeen Regional Airport       Aberdeen    SD     USA   \n",
       "4       ABY   Southwest Georgia Regional Airport         Albany    GA     USA   \n",
       "5       ACK           Nantucket Memorial Airport      Nantucket    MA     USA   \n",
       "6       ACT                Waco Regional Airport           Waco    TX     USA   \n",
       "7       ACV                       Arcata Airport  Arcata/Eureka    CA     USA   \n",
       "8       ACY  Atlantic City International Airport  Atlantic City    NJ     USA   \n",
       "9       ADK                         Adak Airport           Adak    AK     USA   \n",
       "\n",
       "   LATITUDE  LONGITUDE  \n",
       "0  40.65236  -75.44040  \n",
       "1  32.41132  -99.68190  \n",
       "2  35.04022 -106.60919  \n",
       "3  45.44906  -98.42183  \n",
       "4  31.53552  -84.19447  \n",
       "5  41.25305  -70.06018  \n",
       "6  31.61129  -97.23052  \n",
       "7  40.97812 -124.10862  \n",
       "8  39.45758  -74.57717  \n",
       "9  51.87796 -176.64603  "
      ]
     },
     "execution_count": 14,
     "metadata": {},
     "output_type": "execute_result"
    }
   ],
   "source": [
    "airports.head(10)"
   ]
  },
  {
   "cell_type": "code",
   "execution_count": 15,
   "metadata": {
    "colab": {
     "base_uri": "https://localhost:8080/",
     "height": 488
    },
    "id": "Voh3ZK2et9Im",
    "outputId": "72a55c09-f2e7-4e1d-d05c-d449aaad43f8"
   },
   "outputs": [
    {
     "data": {
      "text/html": [
       "<div>\n",
       "<style scoped>\n",
       "    .dataframe tbody tr th:only-of-type {\n",
       "        vertical-align: middle;\n",
       "    }\n",
       "\n",
       "    .dataframe tbody tr th {\n",
       "        vertical-align: top;\n",
       "    }\n",
       "\n",
       "    .dataframe thead th {\n",
       "        text-align: right;\n",
       "    }\n",
       "</style>\n",
       "<table border=\"1\" class=\"dataframe\">\n",
       "  <thead>\n",
       "    <tr style=\"text-align: right;\">\n",
       "      <th></th>\n",
       "      <th>IATA_CODE</th>\n",
       "      <th>AIRLINE</th>\n",
       "    </tr>\n",
       "  </thead>\n",
       "  <tbody>\n",
       "    <tr>\n",
       "      <th>0</th>\n",
       "      <td>UA</td>\n",
       "      <td>United Air Lines Inc.</td>\n",
       "    </tr>\n",
       "    <tr>\n",
       "      <th>1</th>\n",
       "      <td>AA</td>\n",
       "      <td>American Airlines Inc.</td>\n",
       "    </tr>\n",
       "    <tr>\n",
       "      <th>2</th>\n",
       "      <td>US</td>\n",
       "      <td>US Airways Inc.</td>\n",
       "    </tr>\n",
       "    <tr>\n",
       "      <th>3</th>\n",
       "      <td>F9</td>\n",
       "      <td>Frontier Airlines Inc.</td>\n",
       "    </tr>\n",
       "    <tr>\n",
       "      <th>4</th>\n",
       "      <td>B6</td>\n",
       "      <td>JetBlue Airways</td>\n",
       "    </tr>\n",
       "    <tr>\n",
       "      <th>5</th>\n",
       "      <td>OO</td>\n",
       "      <td>Skywest Airlines Inc.</td>\n",
       "    </tr>\n",
       "    <tr>\n",
       "      <th>6</th>\n",
       "      <td>AS</td>\n",
       "      <td>Alaska Airlines Inc.</td>\n",
       "    </tr>\n",
       "    <tr>\n",
       "      <th>7</th>\n",
       "      <td>NK</td>\n",
       "      <td>Spirit Air Lines</td>\n",
       "    </tr>\n",
       "    <tr>\n",
       "      <th>8</th>\n",
       "      <td>WN</td>\n",
       "      <td>Southwest Airlines Co.</td>\n",
       "    </tr>\n",
       "    <tr>\n",
       "      <th>9</th>\n",
       "      <td>DL</td>\n",
       "      <td>Delta Air Lines Inc.</td>\n",
       "    </tr>\n",
       "    <tr>\n",
       "      <th>10</th>\n",
       "      <td>EV</td>\n",
       "      <td>Atlantic Southeast Airlines</td>\n",
       "    </tr>\n",
       "    <tr>\n",
       "      <th>11</th>\n",
       "      <td>HA</td>\n",
       "      <td>Hawaiian Airlines Inc.</td>\n",
       "    </tr>\n",
       "    <tr>\n",
       "      <th>12</th>\n",
       "      <td>MQ</td>\n",
       "      <td>American Eagle Airlines Inc.</td>\n",
       "    </tr>\n",
       "    <tr>\n",
       "      <th>13</th>\n",
       "      <td>VX</td>\n",
       "      <td>Virgin America</td>\n",
       "    </tr>\n",
       "  </tbody>\n",
       "</table>\n",
       "</div>"
      ],
      "text/plain": [
       "   IATA_CODE                       AIRLINE\n",
       "0         UA         United Air Lines Inc.\n",
       "1         AA        American Airlines Inc.\n",
       "2         US               US Airways Inc.\n",
       "3         F9        Frontier Airlines Inc.\n",
       "4         B6               JetBlue Airways\n",
       "5         OO         Skywest Airlines Inc.\n",
       "6         AS          Alaska Airlines Inc.\n",
       "7         NK              Spirit Air Lines\n",
       "8         WN        Southwest Airlines Co.\n",
       "9         DL          Delta Air Lines Inc.\n",
       "10        EV   Atlantic Southeast Airlines\n",
       "11        HA        Hawaiian Airlines Inc.\n",
       "12        MQ  American Eagle Airlines Inc.\n",
       "13        VX                Virgin America"
      ]
     },
     "execution_count": 15,
     "metadata": {},
     "output_type": "execute_result"
    }
   ],
   "source": [
    "airlines"
   ]
  },
  {
   "cell_type": "code",
   "execution_count": 16,
   "metadata": {
    "colab": {
     "base_uri": "https://localhost:8080/",
     "height": 0
    },
    "id": "DoY10ZAot9In",
    "outputId": "bddbfd07-7ed4-4718-bce4-ae8a19b81860"
   },
   "outputs": [
    {
     "data": {
      "text/plain": [
       "YEAR                    0.000000\n",
       "MONTH                   0.000000\n",
       "DAY                     0.000000\n",
       "DAY_OF_WEEK             0.000000\n",
       "AIRLINE                 0.000000\n",
       "FLIGHT_NUMBER           0.000000\n",
       "TAIL_NUMBER             0.252978\n",
       "ORIGIN_AIRPORT          0.000000\n",
       "DESTINATION_AIRPORT     0.000000\n",
       "SCHEDULED_DEPARTURE     0.000000\n",
       "DEPARTURE_TIME          1.480526\n",
       "DEPARTURE_DELAY         1.480526\n",
       "TAXI_OUT                1.530259\n",
       "WHEELS_OFF              1.530259\n",
       "SCHEDULED_TIME          0.000103\n",
       "ELAPSED_TIME            1.805629\n",
       "AIR_TIME                1.805629\n",
       "DISTANCE                0.000000\n",
       "WHEELS_ON               1.589822\n",
       "TAXI_IN                 1.589822\n",
       "SCHEDULED_ARRIVAL       0.000000\n",
       "ARRIVAL_TIME            1.589822\n",
       "ARRIVAL_DELAY           1.805629\n",
       "DIVERTED                0.000000\n",
       "CANCELLED               0.000000\n",
       "CANCELLATION_REASON    98.455357\n",
       "AIR_SYSTEM_DELAY       81.724960\n",
       "SECURITY_DELAY         81.724960\n",
       "AIRLINE_DELAY          81.724960\n",
       "LATE_AIRCRAFT_DELAY    81.724960\n",
       "WEATHER_DELAY          81.724960\n",
       "DELAY_LEVEL             0.000000\n",
       "dtype: float64"
      ]
     },
     "execution_count": 16,
     "metadata": {},
     "output_type": "execute_result"
    }
   ],
   "source": [
    "# Calculate the percentage of missing values in the 'flights' DataFrame\n",
    "flights_NULL = flights.isnull().sum()*100/flights.shape[0]\n",
    "flights_NULL"
   ]
  },
  {
   "cell_type": "markdown",
   "metadata": {
    "id": "xOw9CuRsiHZ9"
   },
   "source": [
    "I drop all the rows for some attributes which have null values as they make up a small percentage of the dataset\n"
   ]
  },
  {
   "cell_type": "code",
   "execution_count": 17,
   "metadata": {
    "id": "RGy3KRsKt9Iq"
   },
   "outputs": [],
   "source": [
    "flights = flights.dropna(subset = [\"TAIL_NUMBER\",'DEPARTURE_TIME','DEPARTURE_DELAY','TAXI_OUT','WHEELS_OFF','SCHEDULED_TIME',\n",
    "'ELAPSED_TIME','AIR_TIME','WHEELS_ON','TAXI_IN','ARRIVAL_TIME','ARRIVAL_DELAY'])"
   ]
  },
  {
   "cell_type": "code",
   "execution_count": 18,
   "metadata": {
    "colab": {
     "base_uri": "https://localhost:8080/",
     "height": 0
    },
    "id": "VcqS5-6Kt9Ir",
    "outputId": "53e51753-219b-4a33-affa-3f8b503f4101"
   },
   "outputs": [
    {
     "data": {
      "text/plain": [
       "(5714008, 32)"
      ]
     },
     "execution_count": 18,
     "metadata": {},
     "output_type": "execute_result"
    }
   ],
   "source": [
    "flights.shape"
   ]
  },
  {
   "cell_type": "code",
   "execution_count": 19,
   "metadata": {
    "colab": {
     "base_uri": "https://localhost:8080/",
     "height": 0
    },
    "id": "5sHahjVlt9It",
    "outputId": "3bbb528b-f9fb-4f74-e617-02a1e3906679"
   },
   "outputs": [
    {
     "data": {
      "text/plain": [
       "YEAR                         0\n",
       "MONTH                        0\n",
       "DAY                          0\n",
       "DAY_OF_WEEK                  0\n",
       "AIRLINE                      0\n",
       "FLIGHT_NUMBER                0\n",
       "TAIL_NUMBER                  0\n",
       "ORIGIN_AIRPORT               0\n",
       "DESTINATION_AIRPORT          0\n",
       "SCHEDULED_DEPARTURE          0\n",
       "DEPARTURE_TIME               0\n",
       "DEPARTURE_DELAY              0\n",
       "TAXI_OUT                     0\n",
       "WHEELS_OFF                   0\n",
       "SCHEDULED_TIME               0\n",
       "ELAPSED_TIME                 0\n",
       "AIR_TIME                     0\n",
       "DISTANCE                     0\n",
       "WHEELS_ON                    0\n",
       "TAXI_IN                      0\n",
       "SCHEDULED_ARRIVAL            0\n",
       "ARRIVAL_TIME                 0\n",
       "ARRIVAL_DELAY                0\n",
       "DIVERTED                     0\n",
       "CANCELLED                    0\n",
       "CANCELLATION_REASON    5714008\n",
       "AIR_SYSTEM_DELAY       4650569\n",
       "SECURITY_DELAY         4650569\n",
       "AIRLINE_DELAY          4650569\n",
       "LATE_AIRCRAFT_DELAY    4650569\n",
       "WEATHER_DELAY          4650569\n",
       "DELAY_LEVEL                  0\n",
       "dtype: int64"
      ]
     },
     "execution_count": 19,
     "metadata": {},
     "output_type": "execute_result"
    }
   ],
   "source": [
    "flights.isnull().sum()"
   ]
  },
  {
   "cell_type": "code",
   "execution_count": 20,
   "metadata": {
    "id": "-9ZLOMlKt9Iv"
   },
   "outputs": [],
   "source": [
    "# Create a new DataFrame 'flightsinfo_modified' by dropping certain columns\n",
    "flights_modified = flights.dropna(subset = ['AIR_SYSTEM_DELAY','SECURITY_DELAY','AIRLINE_DELAY','LATE_AIRCRAFT_DELAY','WEATHER_DELAY'])\n",
    "flights_modified = flights_modified.drop(['YEAR','MONTH','DAY','DAY_OF_WEEK','TAIL_NUMBER','SCHEDULED_DEPARTURE','DEPARTURE_TIME','SCHEDULED_TIME',\n",
    "                     'SCHEDULED_ARRIVAL','ARRIVAL_TIME','DIVERTED','CANCELLED','CANCELLATION_REASON','FLIGHT_NUMBER','WHEELS_OFF',\n",
    "                     'WHEELS_ON','AIR_TIME'],axis = 1)"
   ]
  },
  {
   "cell_type": "code",
   "execution_count": 21,
   "metadata": {
    "colab": {
     "base_uri": "https://localhost:8080/",
     "height": 0
    },
    "id": "vkTqHxzXt9Iy",
    "outputId": "b599c6c2-f994-407e-f72c-b6947e8d4c93"
   },
   "outputs": [
    {
     "name": "stdout",
     "output_type": "stream",
     "text": [
      "<class 'pandas.core.frame.DataFrame'>\n",
      "Int64Index: 1063439 entries, 27 to 5819071\n",
      "Data columns (total 15 columns):\n",
      " #   Column               Non-Null Count    Dtype  \n",
      "---  ------               --------------    -----  \n",
      " 0   AIRLINE              1063439 non-null  object \n",
      " 1   ORIGIN_AIRPORT       1063439 non-null  object \n",
      " 2   DESTINATION_AIRPORT  1063439 non-null  object \n",
      " 3   DEPARTURE_DELAY      1063439 non-null  float64\n",
      " 4   TAXI_OUT             1063439 non-null  float64\n",
      " 5   ELAPSED_TIME         1063439 non-null  float64\n",
      " 6   DISTANCE             1063439 non-null  int64  \n",
      " 7   TAXI_IN              1063439 non-null  float64\n",
      " 8   ARRIVAL_DELAY        1063439 non-null  float64\n",
      " 9   AIR_SYSTEM_DELAY     1063439 non-null  float64\n",
      " 10  SECURITY_DELAY       1063439 non-null  float64\n",
      " 11  AIRLINE_DELAY        1063439 non-null  float64\n",
      " 12  LATE_AIRCRAFT_DELAY  1063439 non-null  float64\n",
      " 13  WEATHER_DELAY        1063439 non-null  float64\n",
      " 14  DELAY_LEVEL          1063439 non-null  object \n",
      "dtypes: float64(10), int64(1), object(4)\n",
      "memory usage: 129.8+ MB\n"
     ]
    }
   ],
   "source": [
    "flights_modified.info()"
   ]
  },
  {
   "cell_type": "markdown",
   "metadata": {
    "id": "TsTWZAv0iWkG"
   },
   "source": [
    "Dropping all the contributing factors of delays as we are only going to focus on the over all delay"
   ]
  },
  {
   "cell_type": "code",
   "execution_count": 22,
   "metadata": {
    "id": "UWhL-CzKt9I2"
   },
   "outputs": [],
   "source": [
    "# Create another DataFrame by dropping columns related to delay causes\n",
    "flights2 = flights.drop(['CANCELLATION_REASON','AIR_SYSTEM_DELAY','SECURITY_DELAY','AIRLINE_DELAY',\n",
    "                    'LATE_AIRCRAFT_DELAY','WEATHER_DELAY'],axis = 1)"
   ]
  },
  {
   "cell_type": "code",
   "execution_count": 23,
   "metadata": {
    "colab": {
     "base_uri": "https://localhost:8080/",
     "height": 0
    },
    "id": "Bn1OnQBtt9I3",
    "outputId": "c55a35f4-22dc-4dce-caa5-0f9d70b4fe2a"
   },
   "outputs": [
    {
     "data": {
      "text/plain": [
       "YEAR                   0\n",
       "MONTH                  0\n",
       "DAY                    0\n",
       "DAY_OF_WEEK            0\n",
       "AIRLINE                0\n",
       "FLIGHT_NUMBER          0\n",
       "TAIL_NUMBER            0\n",
       "ORIGIN_AIRPORT         0\n",
       "DESTINATION_AIRPORT    0\n",
       "SCHEDULED_DEPARTURE    0\n",
       "DEPARTURE_TIME         0\n",
       "DEPARTURE_DELAY        0\n",
       "TAXI_OUT               0\n",
       "WHEELS_OFF             0\n",
       "SCHEDULED_TIME         0\n",
       "ELAPSED_TIME           0\n",
       "AIR_TIME               0\n",
       "DISTANCE               0\n",
       "WHEELS_ON              0\n",
       "TAXI_IN                0\n",
       "SCHEDULED_ARRIVAL      0\n",
       "ARRIVAL_TIME           0\n",
       "ARRIVAL_DELAY          0\n",
       "DIVERTED               0\n",
       "CANCELLED              0\n",
       "DELAY_LEVEL            0\n",
       "dtype: int64"
      ]
     },
     "execution_count": 23,
     "metadata": {},
     "output_type": "execute_result"
    }
   ],
   "source": [
    "flights2.isnull().sum()# Display the count of missing values in the 'flightsinfo2' DataFrame"
   ]
  },
  {
   "cell_type": "code",
   "execution_count": 24,
   "metadata": {
    "colab": {
     "base_uri": "https://localhost:8080/",
     "height": 0
    },
    "id": "GtecXcFot9I6",
    "outputId": "c6b81cb6-b070-4b16-c514-66c6fadba927"
   },
   "outputs": [
    {
     "data": {
      "text/plain": [
       "(5714008, 26)"
      ]
     },
     "execution_count": 24,
     "metadata": {},
     "output_type": "execute_result"
    }
   ],
   "source": [
    "\n",
    "flights2.shape"
   ]
  },
  {
   "cell_type": "code",
   "execution_count": 25,
   "metadata": {
    "colab": {
     "base_uri": "https://localhost:8080/",
     "height": 0
    },
    "id": "dMXchpMTt9I8",
    "outputId": "10010ca3-63aa-4a5c-a352-b74bab122cb4"
   },
   "outputs": [
    {
     "name": "stdout",
     "output_type": "stream",
     "text": [
      "<class 'pandas.core.frame.DataFrame'>\n",
      "Int64Index: 5714008 entries, 0 to 5819078\n",
      "Data columns (total 26 columns):\n",
      " #   Column               Dtype  \n",
      "---  ------               -----  \n",
      " 0   YEAR                 int64  \n",
      " 1   MONTH                int64  \n",
      " 2   DAY                  int64  \n",
      " 3   DAY_OF_WEEK          int64  \n",
      " 4   AIRLINE              object \n",
      " 5   FLIGHT_NUMBER        int64  \n",
      " 6   TAIL_NUMBER          object \n",
      " 7   ORIGIN_AIRPORT       object \n",
      " 8   DESTINATION_AIRPORT  object \n",
      " 9   SCHEDULED_DEPARTURE  int64  \n",
      " 10  DEPARTURE_TIME       float64\n",
      " 11  DEPARTURE_DELAY      float64\n",
      " 12  TAXI_OUT             float64\n",
      " 13  WHEELS_OFF           float64\n",
      " 14  SCHEDULED_TIME       float64\n",
      " 15  ELAPSED_TIME         float64\n",
      " 16  AIR_TIME             float64\n",
      " 17  DISTANCE             int64  \n",
      " 18  WHEELS_ON            float64\n",
      " 19  TAXI_IN              float64\n",
      " 20  SCHEDULED_ARRIVAL    int64  \n",
      " 21  ARRIVAL_TIME         float64\n",
      " 22  ARRIVAL_DELAY        float64\n",
      " 23  DIVERTED             int64  \n",
      " 24  CANCELLED            int64  \n",
      " 25  DELAY_LEVEL          object \n",
      "dtypes: float64(11), int64(10), object(5)\n",
      "memory usage: 1.1+ GB\n"
     ]
    }
   ],
   "source": [
    "flights2.info()"
   ]
  },
  {
   "cell_type": "code",
   "execution_count": 26,
   "metadata": {
    "colab": {
     "base_uri": "https://localhost:8080/",
     "height": 0
    },
    "id": "t48nC9bot9I-",
    "outputId": "1794e2a8-0625-4744-c712-595c9be7deaa"
   },
   "outputs": [
    {
     "data": {
      "text/plain": [
       "dtype('float64')"
      ]
     },
     "execution_count": 26,
     "metadata": {},
     "output_type": "execute_result"
    }
   ],
   "source": [
    "flights2.DEPARTURE_TIME.dtype"
   ]
  },
  {
   "cell_type": "code",
   "execution_count": 27,
   "metadata": {
    "colab": {
     "base_uri": "https://localhost:8080/",
     "height": 0
    },
    "id": "V7qBB_b6t9JA",
    "outputId": "cd02588b-6906-4881-f242-6ae70ca34c9c"
   },
   "outputs": [
    {
     "data": {
      "text/plain": [
       "0          2354.0\n",
       "1             2.0\n",
       "2            18.0\n",
       "3            15.0\n",
       "4            24.0\n",
       "            ...  \n",
       "5819074    2355.0\n",
       "5819075    2355.0\n",
       "5819076    2350.0\n",
       "5819077    2353.0\n",
       "5819078      14.0\n",
       "Name: DEPARTURE_TIME, Length: 5714008, dtype: float64"
      ]
     },
     "execution_count": 27,
     "metadata": {},
     "output_type": "execute_result"
    }
   ],
   "source": [
    "flights2.DEPARTURE_TIME"
   ]
  },
  {
   "cell_type": "markdown",
   "metadata": {},
   "source": [
    "## Feature Engineering and Transformation"
   ]
  },
  {
   "cell_type": "markdown",
   "metadata": {
    "id": "_MK0qkHUt9JC"
   },
   "source": [
    "The times are not in the correct format so i will transform them into HH:MM format\n"
   ]
  },
  {
   "cell_type": "code",
   "execution_count": 28,
   "metadata": {
    "id": "tYeL4oH7t9JD"
   },
   "outputs": [],
   "source": [
    "def CreateTimeFormatted(hours):\n",
    "        if hours == 2400:\n",
    "            hours = 0\n",
    "        else:\n",
    "            hours = \"{0:04d}\".format(int(hours))\n",
    "            Hourmin = datetime.time(int(hours[0:2]), int(hours[2:4]))\n",
    "            return Hourmin"
   ]
  },
  {
   "cell_type": "code",
   "execution_count": 29,
   "metadata": {
    "colab": {
     "base_uri": "https://localhost:8080/",
     "height": 0
    },
    "id": "cSku47Owt9JF",
    "outputId": "6c4c04be-5e69-4e34-bb84-79edd7c3045f"
   },
   "outputs": [
    {
     "data": {
      "text/plain": [
       "0          23:54:00\n",
       "1          00:02:00\n",
       "2          00:18:00\n",
       "3          00:15:00\n",
       "4          00:24:00\n",
       "             ...   \n",
       "5819074    23:55:00\n",
       "5819075    23:55:00\n",
       "5819076    23:50:00\n",
       "5819077    23:53:00\n",
       "5819078    00:14:00\n",
       "Name: Actual_Departure, Length: 5714008, dtype: object"
      ]
     },
     "execution_count": 29,
     "metadata": {},
     "output_type": "execute_result"
    }
   ],
   "source": [
    "flights2['Actual_Departure'] =flights['DEPARTURE_TIME'].apply(CreateTimeFormatted)\n",
    "flights2['Actual_Departure']"
   ]
  },
  {
   "cell_type": "code",
   "execution_count": 30,
   "metadata": {
    "colab": {
     "base_uri": "https://localhost:8080/",
     "height": 0
    },
    "id": "H2I9cBl-t9JI",
    "outputId": "d00ce4ae-5256-4a90-82d6-1ff207596742"
   },
   "outputs": [
    {
     "data": {
      "text/plain": [
       "Index(['YEAR', 'MONTH', 'DAY', 'DAY_OF_WEEK', 'AIRLINE', 'FLIGHT_NUMBER',\n",
       "       'TAIL_NUMBER', 'ORIGIN_AIRPORT', 'DESTINATION_AIRPORT',\n",
       "       'SCHEDULED_DEPARTURE', 'DEPARTURE_TIME', 'DEPARTURE_DELAY', 'TAXI_OUT',\n",
       "       'WHEELS_OFF', 'SCHEDULED_TIME', 'ELAPSED_TIME', 'AIR_TIME', 'DISTANCE',\n",
       "       'WHEELS_ON', 'TAXI_IN', 'SCHEDULED_ARRIVAL', 'ARRIVAL_TIME',\n",
       "       'ARRIVAL_DELAY', 'DIVERTED', 'CANCELLED', 'DELAY_LEVEL',\n",
       "       'Actual_Departure'],\n",
       "      dtype='object')"
      ]
     },
     "execution_count": 30,
     "metadata": {},
     "output_type": "execute_result"
    }
   ],
   "source": [
    "flights2.columns"
   ]
  },
  {
   "cell_type": "markdown",
   "metadata": {
    "id": "7vvLURNZN1bg"
   },
   "source": [
    "Transform year month and day into date time format"
   ]
  },
  {
   "cell_type": "code",
   "execution_count": 31,
   "metadata": {
    "colab": {
     "base_uri": "https://localhost:8080/",
     "height": 0
    },
    "id": "FciedfW2t9JK",
    "outputId": "83daec89-28b8-494f-eb4e-367a7d4faa0e"
   },
   "outputs": [
    {
     "data": {
      "text/plain": [
       "0         2015-01-01\n",
       "1         2015-01-01\n",
       "2         2015-01-01\n",
       "3         2015-01-01\n",
       "4         2015-01-01\n",
       "             ...    \n",
       "5819074   2015-12-31\n",
       "5819075   2015-12-31\n",
       "5819076   2015-12-31\n",
       "5819077   2015-12-31\n",
       "5819078   2015-12-31\n",
       "Name: Date, Length: 5714008, dtype: datetime64[ns]"
      ]
     },
     "execution_count": 31,
     "metadata": {},
     "output_type": "execute_result"
    }
   ],
   "source": [
    "flights2['Date'] = pd.to_datetime(flights2[['YEAR','MONTH','DAY']])\n",
    "flights2.Date"
   ]
  },
  {
   "cell_type": "code",
   "execution_count": 32,
   "metadata": {
    "id": "41YClYoXt9JM"
   },
   "outputs": [],
   "source": [
    "flights2['Day'] = flights2['Date'].dt.day_name()"
   ]
  },
  {
   "cell_type": "code",
   "execution_count": 33,
   "metadata": {
    "id": "y4HJdjUBt9JO"
   },
   "outputs": [],
   "source": [
    "# Apply the time formatting function to other time-related columns and then stored in dataframe\n",
    "flights2['Actual_Departure'] =flights['DEPARTURE_TIME'].apply(CreateTimeFormatted)\n",
    "flights2['Scheduled_Arrival'] =flights['SCHEDULED_ARRIVAL'].apply(CreateTimeFormatted)\n",
    "flights2['Scheduled_Departure'] =flights['SCHEDULED_DEPARTURE'].apply(CreateTimeFormatted)\n",
    "flights2['Actual_Arrival'] =flights2['ARRIVAL_TIME'].apply(CreateTimeFormatted)"
   ]
  },
  {
   "cell_type": "code",
   "execution_count": 34,
   "metadata": {
    "id": "zIoHYdvSt9JQ"
   },
   "outputs": [],
   "source": [
    "# Merge airline information into the DataFrame\n",
    "flights2 = flights2.merge(airlines, left_on='AIRLINE', right_on='IATA_CODE', how='inner')"
   ]
  },
  {
   "cell_type": "code",
   "execution_count": 35,
   "metadata": {
    "id": "EbsdzmRvt9JS"
   },
   "outputs": [],
   "source": [
    "flights2 = flights2.drop(['AIRLINE_x','IATA_CODE'], axis=1)"
   ]
  },
  {
   "cell_type": "code",
   "execution_count": 36,
   "metadata": {
    "id": "sEhKw8iyt9JU"
   },
   "outputs": [],
   "source": [
    "flights2 = flights2.rename(columns={\"AIRLINE_y\":\"AIRLINE\"})"
   ]
  },
  {
   "cell_type": "code",
   "execution_count": 37,
   "metadata": {
    "id": "z5tuGkCtt9JV"
   },
   "outputs": [],
   "source": [
    "flights2 = flights2.merge(airports, left_on='ORIGIN_AIRPORT', right_on='IATA_CODE', how='inner')\n",
    "flights2 = flights2.merge(airports, left_on='DESTINATION_AIRPORT', right_on='IATA_CODE', how='inner')"
   ]
  },
  {
   "cell_type": "code",
   "execution_count": 38,
   "metadata": {
    "colab": {
     "base_uri": "https://localhost:8080/",
     "height": 0
    },
    "id": "ufDRoOkEt9JW",
    "outputId": "65426498-b5dd-4557-8409-914017f18e8d"
   },
   "outputs": [
    {
     "data": {
      "text/plain": [
       "Index(['YEAR', 'MONTH', 'DAY', 'DAY_OF_WEEK', 'FLIGHT_NUMBER', 'TAIL_NUMBER',\n",
       "       'ORIGIN_AIRPORT', 'DESTINATION_AIRPORT', 'SCHEDULED_DEPARTURE',\n",
       "       'DEPARTURE_TIME', 'DEPARTURE_DELAY', 'TAXI_OUT', 'WHEELS_OFF',\n",
       "       'SCHEDULED_TIME', 'ELAPSED_TIME', 'AIR_TIME', 'DISTANCE', 'WHEELS_ON',\n",
       "       'TAXI_IN', 'SCHEDULED_ARRIVAL', 'ARRIVAL_TIME', 'ARRIVAL_DELAY',\n",
       "       'DIVERTED', 'CANCELLED', 'DELAY_LEVEL', 'Actual_Departure', 'Date',\n",
       "       'Day', 'Scheduled_Arrival', 'Scheduled_Departure', 'Actual_Arrival',\n",
       "       'AIRLINE', 'IATA_CODE_x', 'AIRPORT_x', 'CITY_x', 'STATE_x', 'COUNTRY_x',\n",
       "       'LATITUDE_x', 'LONGITUDE_x', 'IATA_CODE_y', 'AIRPORT_y', 'CITY_y',\n",
       "       'STATE_y', 'COUNTRY_y', 'LATITUDE_y', 'LONGITUDE_y'],\n",
       "      dtype='object')"
      ]
     },
     "execution_count": 38,
     "metadata": {},
     "output_type": "execute_result"
    }
   ],
   "source": [
    "flights2.columns"
   ]
  },
  {
   "cell_type": "code",
   "execution_count": 39,
   "metadata": {
    "id": "riMLPlOht9JY"
   },
   "outputs": [],
   "source": [
    "flights2 = flights2.drop(['LATITUDE_x', 'LONGITUDE_x',\n",
    "       'STATE_y', 'COUNTRY_y', 'LATITUDE_y', 'LONGITUDE_y','STATE_x', 'COUNTRY_x'], axis=1)"
   ]
  },
  {
   "cell_type": "code",
   "execution_count": 40,
   "metadata": {
    "id": "HbcAzZ36t9Ja"
   },
   "outputs": [],
   "source": [
    "flights2 = flights2.rename(columns={'IATA_CODE_x':'Org_Airport_Code','AIRPORT_x':'Org_Airport_Name','CITY_x':'Origin_city',\n",
    "                             'IATA_CODE_y':'Dest_Airport_Code','AIRPORT_y':'Dest_Airport_Name','CITY_y':'Destination_city'})"
   ]
  },
  {
   "cell_type": "code",
   "execution_count": 41,
   "metadata": {
    "colab": {
     "base_uri": "https://localhost:8080/",
     "height": 791
    },
    "id": "eIggCgiSt9Jb",
    "outputId": "633ef344-12ea-4d83-fff6-069f2cdf1a1e"
   },
   "outputs": [
    {
     "data": {
      "text/html": [
       "<div>\n",
       "<style scoped>\n",
       "    .dataframe tbody tr th:only-of-type {\n",
       "        vertical-align: middle;\n",
       "    }\n",
       "\n",
       "    .dataframe tbody tr th {\n",
       "        vertical-align: top;\n",
       "    }\n",
       "\n",
       "    .dataframe thead th {\n",
       "        text-align: right;\n",
       "    }\n",
       "</style>\n",
       "<table border=\"1\" class=\"dataframe\">\n",
       "  <thead>\n",
       "    <tr style=\"text-align: right;\">\n",
       "      <th></th>\n",
       "      <th>YEAR</th>\n",
       "      <th>MONTH</th>\n",
       "      <th>DAY</th>\n",
       "      <th>DAY_OF_WEEK</th>\n",
       "      <th>FLIGHT_NUMBER</th>\n",
       "      <th>TAIL_NUMBER</th>\n",
       "      <th>ORIGIN_AIRPORT</th>\n",
       "      <th>DESTINATION_AIRPORT</th>\n",
       "      <th>SCHEDULED_DEPARTURE</th>\n",
       "      <th>DEPARTURE_TIME</th>\n",
       "      <th>...</th>\n",
       "      <th>Scheduled_Arrival</th>\n",
       "      <th>Scheduled_Departure</th>\n",
       "      <th>Actual_Arrival</th>\n",
       "      <th>AIRLINE</th>\n",
       "      <th>Org_Airport_Code</th>\n",
       "      <th>Org_Airport_Name</th>\n",
       "      <th>Origin_city</th>\n",
       "      <th>Dest_Airport_Code</th>\n",
       "      <th>Dest_Airport_Name</th>\n",
       "      <th>Destination_city</th>\n",
       "    </tr>\n",
       "  </thead>\n",
       "  <tbody>\n",
       "    <tr>\n",
       "      <th>0</th>\n",
       "      <td>2015</td>\n",
       "      <td>1</td>\n",
       "      <td>1</td>\n",
       "      <td>4</td>\n",
       "      <td>98</td>\n",
       "      <td>N407AS</td>\n",
       "      <td>ANC</td>\n",
       "      <td>SEA</td>\n",
       "      <td>5</td>\n",
       "      <td>2354.0</td>\n",
       "      <td>...</td>\n",
       "      <td>04:30:00</td>\n",
       "      <td>00:05:00</td>\n",
       "      <td>04:08:00</td>\n",
       "      <td>Alaska Airlines Inc.</td>\n",
       "      <td>ANC</td>\n",
       "      <td>Ted Stevens Anchorage International Airport</td>\n",
       "      <td>Anchorage</td>\n",
       "      <td>SEA</td>\n",
       "      <td>Seattle-Tacoma International Airport</td>\n",
       "      <td>Seattle</td>\n",
       "    </tr>\n",
       "    <tr>\n",
       "      <th>1</th>\n",
       "      <td>2015</td>\n",
       "      <td>1</td>\n",
       "      <td>1</td>\n",
       "      <td>4</td>\n",
       "      <td>108</td>\n",
       "      <td>N309AS</td>\n",
       "      <td>ANC</td>\n",
       "      <td>SEA</td>\n",
       "      <td>45</td>\n",
       "      <td>41.0</td>\n",
       "      <td>...</td>\n",
       "      <td>05:09:00</td>\n",
       "      <td>00:45:00</td>\n",
       "      <td>04:55:00</td>\n",
       "      <td>Alaska Airlines Inc.</td>\n",
       "      <td>ANC</td>\n",
       "      <td>Ted Stevens Anchorage International Airport</td>\n",
       "      <td>Anchorage</td>\n",
       "      <td>SEA</td>\n",
       "      <td>Seattle-Tacoma International Airport</td>\n",
       "      <td>Seattle</td>\n",
       "    </tr>\n",
       "    <tr>\n",
       "      <th>2</th>\n",
       "      <td>2015</td>\n",
       "      <td>1</td>\n",
       "      <td>1</td>\n",
       "      <td>4</td>\n",
       "      <td>134</td>\n",
       "      <td>N464AS</td>\n",
       "      <td>ANC</td>\n",
       "      <td>SEA</td>\n",
       "      <td>155</td>\n",
       "      <td>140.0</td>\n",
       "      <td>...</td>\n",
       "      <td>06:33:00</td>\n",
       "      <td>01:55:00</td>\n",
       "      <td>05:58:00</td>\n",
       "      <td>Alaska Airlines Inc.</td>\n",
       "      <td>ANC</td>\n",
       "      <td>Ted Stevens Anchorage International Airport</td>\n",
       "      <td>Anchorage</td>\n",
       "      <td>SEA</td>\n",
       "      <td>Seattle-Tacoma International Airport</td>\n",
       "      <td>Seattle</td>\n",
       "    </tr>\n",
       "    <tr>\n",
       "      <th>3</th>\n",
       "      <td>2015</td>\n",
       "      <td>1</td>\n",
       "      <td>1</td>\n",
       "      <td>4</td>\n",
       "      <td>114</td>\n",
       "      <td>N303AS</td>\n",
       "      <td>ANC</td>\n",
       "      <td>SEA</td>\n",
       "      <td>220</td>\n",
       "      <td>209.0</td>\n",
       "      <td>...</td>\n",
       "      <td>06:40:00</td>\n",
       "      <td>02:20:00</td>\n",
       "      <td>06:28:00</td>\n",
       "      <td>Alaska Airlines Inc.</td>\n",
       "      <td>ANC</td>\n",
       "      <td>Ted Stevens Anchorage International Airport</td>\n",
       "      <td>Anchorage</td>\n",
       "      <td>SEA</td>\n",
       "      <td>Seattle-Tacoma International Airport</td>\n",
       "      <td>Seattle</td>\n",
       "    </tr>\n",
       "    <tr>\n",
       "      <th>4</th>\n",
       "      <td>2015</td>\n",
       "      <td>1</td>\n",
       "      <td>1</td>\n",
       "      <td>4</td>\n",
       "      <td>730</td>\n",
       "      <td>N423AS</td>\n",
       "      <td>ANC</td>\n",
       "      <td>SEA</td>\n",
       "      <td>505</td>\n",
       "      <td>457.0</td>\n",
       "      <td>...</td>\n",
       "      <td>09:30:00</td>\n",
       "      <td>05:05:00</td>\n",
       "      <td>09:16:00</td>\n",
       "      <td>Alaska Airlines Inc.</td>\n",
       "      <td>ANC</td>\n",
       "      <td>Ted Stevens Anchorage International Airport</td>\n",
       "      <td>Anchorage</td>\n",
       "      <td>SEA</td>\n",
       "      <td>Seattle-Tacoma International Airport</td>\n",
       "      <td>Seattle</td>\n",
       "    </tr>\n",
       "    <tr>\n",
       "      <th>...</th>\n",
       "      <td>...</td>\n",
       "      <td>...</td>\n",
       "      <td>...</td>\n",
       "      <td>...</td>\n",
       "      <td>...</td>\n",
       "      <td>...</td>\n",
       "      <td>...</td>\n",
       "      <td>...</td>\n",
       "      <td>...</td>\n",
       "      <td>...</td>\n",
       "      <td>...</td>\n",
       "      <td>...</td>\n",
       "      <td>...</td>\n",
       "      <td>...</td>\n",
       "      <td>...</td>\n",
       "      <td>...</td>\n",
       "      <td>...</td>\n",
       "      <td>...</td>\n",
       "      <td>...</td>\n",
       "      <td>...</td>\n",
       "      <td>...</td>\n",
       "    </tr>\n",
       "    <tr>\n",
       "      <th>5221995</th>\n",
       "      <td>2015</td>\n",
       "      <td>12</td>\n",
       "      <td>29</td>\n",
       "      <td>2</td>\n",
       "      <td>2734</td>\n",
       "      <td>N884AS</td>\n",
       "      <td>MEI</td>\n",
       "      <td>PIB</td>\n",
       "      <td>2046</td>\n",
       "      <td>2037.0</td>\n",
       "      <td>...</td>\n",
       "      <td>21:20:00</td>\n",
       "      <td>20:46:00</td>\n",
       "      <td>21:02:00</td>\n",
       "      <td>Atlantic Southeast Airlines</td>\n",
       "      <td>MEI</td>\n",
       "      <td>Meridian Regional Airport</td>\n",
       "      <td>Meridian</td>\n",
       "      <td>PIB</td>\n",
       "      <td>Hattiesburg-Laurel Regional Airport</td>\n",
       "      <td>Hattiesburg-Laurel</td>\n",
       "    </tr>\n",
       "    <tr>\n",
       "      <th>5221996</th>\n",
       "      <td>2015</td>\n",
       "      <td>12</td>\n",
       "      <td>30</td>\n",
       "      <td>3</td>\n",
       "      <td>2730</td>\n",
       "      <td>N880AS</td>\n",
       "      <td>MEI</td>\n",
       "      <td>PIB</td>\n",
       "      <td>1435</td>\n",
       "      <td>1616.0</td>\n",
       "      <td>...</td>\n",
       "      <td>15:09:00</td>\n",
       "      <td>14:35:00</td>\n",
       "      <td>16:39:00</td>\n",
       "      <td>Atlantic Southeast Airlines</td>\n",
       "      <td>MEI</td>\n",
       "      <td>Meridian Regional Airport</td>\n",
       "      <td>Meridian</td>\n",
       "      <td>PIB</td>\n",
       "      <td>Hattiesburg-Laurel Regional Airport</td>\n",
       "      <td>Hattiesburg-Laurel</td>\n",
       "    </tr>\n",
       "    <tr>\n",
       "      <th>5221997</th>\n",
       "      <td>2015</td>\n",
       "      <td>12</td>\n",
       "      <td>30</td>\n",
       "      <td>3</td>\n",
       "      <td>2734</td>\n",
       "      <td>N907EV</td>\n",
       "      <td>MEI</td>\n",
       "      <td>PIB</td>\n",
       "      <td>2046</td>\n",
       "      <td>2056.0</td>\n",
       "      <td>...</td>\n",
       "      <td>21:20:00</td>\n",
       "      <td>20:46:00</td>\n",
       "      <td>21:30:00</td>\n",
       "      <td>Atlantic Southeast Airlines</td>\n",
       "      <td>MEI</td>\n",
       "      <td>Meridian Regional Airport</td>\n",
       "      <td>Meridian</td>\n",
       "      <td>PIB</td>\n",
       "      <td>Hattiesburg-Laurel Regional Airport</td>\n",
       "      <td>Hattiesburg-Laurel</td>\n",
       "    </tr>\n",
       "    <tr>\n",
       "      <th>5221998</th>\n",
       "      <td>2015</td>\n",
       "      <td>12</td>\n",
       "      <td>31</td>\n",
       "      <td>4</td>\n",
       "      <td>2730</td>\n",
       "      <td>N907EV</td>\n",
       "      <td>MEI</td>\n",
       "      <td>PIB</td>\n",
       "      <td>1435</td>\n",
       "      <td>1421.0</td>\n",
       "      <td>...</td>\n",
       "      <td>15:09:00</td>\n",
       "      <td>14:35:00</td>\n",
       "      <td>14:51:00</td>\n",
       "      <td>Atlantic Southeast Airlines</td>\n",
       "      <td>MEI</td>\n",
       "      <td>Meridian Regional Airport</td>\n",
       "      <td>Meridian</td>\n",
       "      <td>PIB</td>\n",
       "      <td>Hattiesburg-Laurel Regional Airport</td>\n",
       "      <td>Hattiesburg-Laurel</td>\n",
       "    </tr>\n",
       "    <tr>\n",
       "      <th>5221999</th>\n",
       "      <td>2015</td>\n",
       "      <td>12</td>\n",
       "      <td>31</td>\n",
       "      <td>4</td>\n",
       "      <td>2734</td>\n",
       "      <td>N907EV</td>\n",
       "      <td>MEI</td>\n",
       "      <td>PIB</td>\n",
       "      <td>2046</td>\n",
       "      <td>2020.0</td>\n",
       "      <td>...</td>\n",
       "      <td>21:20:00</td>\n",
       "      <td>20:46:00</td>\n",
       "      <td>20:48:00</td>\n",
       "      <td>Atlantic Southeast Airlines</td>\n",
       "      <td>MEI</td>\n",
       "      <td>Meridian Regional Airport</td>\n",
       "      <td>Meridian</td>\n",
       "      <td>PIB</td>\n",
       "      <td>Hattiesburg-Laurel Regional Airport</td>\n",
       "      <td>Hattiesburg-Laurel</td>\n",
       "    </tr>\n",
       "  </tbody>\n",
       "</table>\n",
       "<p>5222000 rows × 38 columns</p>\n",
       "</div>"
      ],
      "text/plain": [
       "         YEAR  MONTH  DAY  DAY_OF_WEEK  FLIGHT_NUMBER TAIL_NUMBER  \\\n",
       "0        2015      1    1            4             98      N407AS   \n",
       "1        2015      1    1            4            108      N309AS   \n",
       "2        2015      1    1            4            134      N464AS   \n",
       "3        2015      1    1            4            114      N303AS   \n",
       "4        2015      1    1            4            730      N423AS   \n",
       "...       ...    ...  ...          ...            ...         ...   \n",
       "5221995  2015     12   29            2           2734      N884AS   \n",
       "5221996  2015     12   30            3           2730      N880AS   \n",
       "5221997  2015     12   30            3           2734      N907EV   \n",
       "5221998  2015     12   31            4           2730      N907EV   \n",
       "5221999  2015     12   31            4           2734      N907EV   \n",
       "\n",
       "        ORIGIN_AIRPORT DESTINATION_AIRPORT  SCHEDULED_DEPARTURE  \\\n",
       "0                  ANC                 SEA                    5   \n",
       "1                  ANC                 SEA                   45   \n",
       "2                  ANC                 SEA                  155   \n",
       "3                  ANC                 SEA                  220   \n",
       "4                  ANC                 SEA                  505   \n",
       "...                ...                 ...                  ...   \n",
       "5221995            MEI                 PIB                 2046   \n",
       "5221996            MEI                 PIB                 1435   \n",
       "5221997            MEI                 PIB                 2046   \n",
       "5221998            MEI                 PIB                 1435   \n",
       "5221999            MEI                 PIB                 2046   \n",
       "\n",
       "         DEPARTURE_TIME  ...  Scheduled_Arrival  Scheduled_Departure  \\\n",
       "0                2354.0  ...           04:30:00             00:05:00   \n",
       "1                  41.0  ...           05:09:00             00:45:00   \n",
       "2                 140.0  ...           06:33:00             01:55:00   \n",
       "3                 209.0  ...           06:40:00             02:20:00   \n",
       "4                 457.0  ...           09:30:00             05:05:00   \n",
       "...                 ...  ...                ...                  ...   \n",
       "5221995          2037.0  ...           21:20:00             20:46:00   \n",
       "5221996          1616.0  ...           15:09:00             14:35:00   \n",
       "5221997          2056.0  ...           21:20:00             20:46:00   \n",
       "5221998          1421.0  ...           15:09:00             14:35:00   \n",
       "5221999          2020.0  ...           21:20:00             20:46:00   \n",
       "\n",
       "         Actual_Arrival                      AIRLINE  Org_Airport_Code  \\\n",
       "0              04:08:00         Alaska Airlines Inc.               ANC   \n",
       "1              04:55:00         Alaska Airlines Inc.               ANC   \n",
       "2              05:58:00         Alaska Airlines Inc.               ANC   \n",
       "3              06:28:00         Alaska Airlines Inc.               ANC   \n",
       "4              09:16:00         Alaska Airlines Inc.               ANC   \n",
       "...                 ...                          ...               ...   \n",
       "5221995        21:02:00  Atlantic Southeast Airlines               MEI   \n",
       "5221996        16:39:00  Atlantic Southeast Airlines               MEI   \n",
       "5221997        21:30:00  Atlantic Southeast Airlines               MEI   \n",
       "5221998        14:51:00  Atlantic Southeast Airlines               MEI   \n",
       "5221999        20:48:00  Atlantic Southeast Airlines               MEI   \n",
       "\n",
       "                                    Org_Airport_Name  Origin_city  \\\n",
       "0        Ted Stevens Anchorage International Airport    Anchorage   \n",
       "1        Ted Stevens Anchorage International Airport    Anchorage   \n",
       "2        Ted Stevens Anchorage International Airport    Anchorage   \n",
       "3        Ted Stevens Anchorage International Airport    Anchorage   \n",
       "4        Ted Stevens Anchorage International Airport    Anchorage   \n",
       "...                                              ...          ...   \n",
       "5221995                    Meridian Regional Airport     Meridian   \n",
       "5221996                    Meridian Regional Airport     Meridian   \n",
       "5221997                    Meridian Regional Airport     Meridian   \n",
       "5221998                    Meridian Regional Airport     Meridian   \n",
       "5221999                    Meridian Regional Airport     Meridian   \n",
       "\n",
       "         Dest_Airport_Code                     Dest_Airport_Name  \\\n",
       "0                      SEA  Seattle-Tacoma International Airport   \n",
       "1                      SEA  Seattle-Tacoma International Airport   \n",
       "2                      SEA  Seattle-Tacoma International Airport   \n",
       "3                      SEA  Seattle-Tacoma International Airport   \n",
       "4                      SEA  Seattle-Tacoma International Airport   \n",
       "...                    ...                                   ...   \n",
       "5221995                PIB   Hattiesburg-Laurel Regional Airport   \n",
       "5221996                PIB   Hattiesburg-Laurel Regional Airport   \n",
       "5221997                PIB   Hattiesburg-Laurel Regional Airport   \n",
       "5221998                PIB   Hattiesburg-Laurel Regional Airport   \n",
       "5221999                PIB   Hattiesburg-Laurel Regional Airport   \n",
       "\n",
       "           Destination_city  \n",
       "0                   Seattle  \n",
       "1                   Seattle  \n",
       "2                   Seattle  \n",
       "3                   Seattle  \n",
       "4                   Seattle  \n",
       "...                     ...  \n",
       "5221995  Hattiesburg-Laurel  \n",
       "5221996  Hattiesburg-Laurel  \n",
       "5221997  Hattiesburg-Laurel  \n",
       "5221998  Hattiesburg-Laurel  \n",
       "5221999  Hattiesburg-Laurel  \n",
       "\n",
       "[5222000 rows x 38 columns]"
      ]
     },
     "execution_count": 41,
     "metadata": {},
     "output_type": "execute_result"
    }
   ],
   "source": [
    "flights2"
   ]
  },
  {
   "cell_type": "markdown",
   "metadata": {},
   "source": [
    "# Data Visualization"
   ]
  },
  {
   "cell_type": "code",
   "execution_count": 42,
   "metadata": {
    "id": "AJNa5Md4t9Ji"
   },
   "outputs": [],
   "source": [
    "# Created a DataFrame 'vizualization' with selected columns for visualization\n",
    "vizualization = pd.DataFrame(flights2[['AIRLINE','Org_Airport_Name','Origin_city',\n",
    "                               'Dest_Airport_Name','Destination_city','ORIGIN_AIRPORT',\n",
    "                               'DESTINATION_AIRPORT','DISTANCE','Actual_Departure','Date','Day',\n",
    "                               'Scheduled_Departure','DEPARTURE_DELAY','Actual_Arrival','Scheduled_Arrival','ARRIVAL_DELAY',\n",
    "                              'SCHEDULED_TIME','ELAPSED_TIME','AIR_TIME','TAXI_IN','TAXI_OUT','DIVERTED',]])"
   ]
  },
  {
   "cell_type": "code",
   "execution_count": 43,
   "metadata": {
    "colab": {
     "base_uri": "https://localhost:8080/",
     "height": 0
    },
    "id": "qfy-gJ93t9Jl",
    "outputId": "e4cc902f-a1b9-46b0-fcb1-35fa9d75e3a8"
   },
   "outputs": [
    {
     "data": {
      "text/plain": [
       "dtype('float64')"
      ]
     },
     "execution_count": 43,
     "metadata": {},
     "output_type": "execute_result"
    }
   ],
   "source": [
    "flights2.DEPARTURE_TIME.dtype"
   ]
  },
  {
   "cell_type": "code",
   "execution_count": 44,
   "metadata": {
    "id": "vdP0FNMtt9Jm"
   },
   "outputs": [],
   "source": [
    "vizualization = vizualization.dropna(subset = ['Actual_Departure','Actual_Arrival'])"
   ]
  },
  {
   "cell_type": "code",
   "execution_count": 45,
   "metadata": {
    "colab": {
     "base_uri": "https://localhost:8080/",
     "height": 0
    },
    "id": "3J2mx2Eat9Jp",
    "outputId": "e42957e8-db7e-4112-80aa-27be7dd5ee89"
   },
   "outputs": [
    {
     "name": "stdout",
     "output_type": "stream",
     "text": [
      "<class 'pandas.core.frame.DataFrame'>\n",
      "Int64Index: 5219244 entries, 0 to 5221999\n",
      "Data columns (total 22 columns):\n",
      " #   Column               Dtype         \n",
      "---  ------               -----         \n",
      " 0   AIRLINE              object        \n",
      " 1   Org_Airport_Name     object        \n",
      " 2   Origin_city          object        \n",
      " 3   Dest_Airport_Name    object        \n",
      " 4   Destination_city     object        \n",
      " 5   ORIGIN_AIRPORT       object        \n",
      " 6   DESTINATION_AIRPORT  object        \n",
      " 7   DISTANCE             int64         \n",
      " 8   Actual_Departure     object        \n",
      " 9   Date                 datetime64[ns]\n",
      " 10  Day                  object        \n",
      " 11  Scheduled_Departure  object        \n",
      " 12  DEPARTURE_DELAY      float64       \n",
      " 13  Actual_Arrival       object        \n",
      " 14  Scheduled_Arrival    object        \n",
      " 15  ARRIVAL_DELAY        float64       \n",
      " 16  SCHEDULED_TIME       float64       \n",
      " 17  ELAPSED_TIME         float64       \n",
      " 18  AIR_TIME             float64       \n",
      " 19  TAXI_IN              float64       \n",
      " 20  TAXI_OUT             float64       \n",
      " 21  DIVERTED             int64         \n",
      "dtypes: datetime64[ns](1), float64(7), int64(2), object(12)\n",
      "memory usage: 915.9+ MB\n"
     ]
    }
   ],
   "source": [
    "vizualization.info()"
   ]
  },
  {
   "cell_type": "code",
   "execution_count": 46,
   "metadata": {
    "colab": {
     "base_uri": "https://localhost:8080/",
     "height": 791
    },
    "id": "N2FuiRldt9Jr",
    "outputId": "b93fe045-0342-4726-ba63-59b503a80e2b"
   },
   "outputs": [
    {
     "data": {
      "text/html": [
       "<div>\n",
       "<style scoped>\n",
       "    .dataframe tbody tr th:only-of-type {\n",
       "        vertical-align: middle;\n",
       "    }\n",
       "\n",
       "    .dataframe tbody tr th {\n",
       "        vertical-align: top;\n",
       "    }\n",
       "\n",
       "    .dataframe thead th {\n",
       "        text-align: right;\n",
       "    }\n",
       "</style>\n",
       "<table border=\"1\" class=\"dataframe\">\n",
       "  <thead>\n",
       "    <tr style=\"text-align: right;\">\n",
       "      <th></th>\n",
       "      <th>AIRLINE</th>\n",
       "      <th>Org_Airport_Name</th>\n",
       "      <th>Origin_city</th>\n",
       "      <th>Dest_Airport_Name</th>\n",
       "      <th>Destination_city</th>\n",
       "      <th>ORIGIN_AIRPORT</th>\n",
       "      <th>DESTINATION_AIRPORT</th>\n",
       "      <th>DISTANCE</th>\n",
       "      <th>Actual_Departure</th>\n",
       "      <th>Date</th>\n",
       "      <th>...</th>\n",
       "      <th>DEPARTURE_DELAY</th>\n",
       "      <th>Actual_Arrival</th>\n",
       "      <th>Scheduled_Arrival</th>\n",
       "      <th>ARRIVAL_DELAY</th>\n",
       "      <th>SCHEDULED_TIME</th>\n",
       "      <th>ELAPSED_TIME</th>\n",
       "      <th>AIR_TIME</th>\n",
       "      <th>TAXI_IN</th>\n",
       "      <th>TAXI_OUT</th>\n",
       "      <th>DIVERTED</th>\n",
       "    </tr>\n",
       "  </thead>\n",
       "  <tbody>\n",
       "    <tr>\n",
       "      <th>0</th>\n",
       "      <td>Alaska Airlines Inc.</td>\n",
       "      <td>Ted Stevens Anchorage International Airport</td>\n",
       "      <td>Anchorage</td>\n",
       "      <td>Seattle-Tacoma International Airport</td>\n",
       "      <td>Seattle</td>\n",
       "      <td>ANC</td>\n",
       "      <td>SEA</td>\n",
       "      <td>1448</td>\n",
       "      <td>23:54:00</td>\n",
       "      <td>2015-01-01</td>\n",
       "      <td>...</td>\n",
       "      <td>-11.0</td>\n",
       "      <td>04:08:00</td>\n",
       "      <td>04:30:00</td>\n",
       "      <td>-22.0</td>\n",
       "      <td>205.0</td>\n",
       "      <td>194.0</td>\n",
       "      <td>169.0</td>\n",
       "      <td>4.0</td>\n",
       "      <td>21.0</td>\n",
       "      <td>0</td>\n",
       "    </tr>\n",
       "    <tr>\n",
       "      <th>1</th>\n",
       "      <td>Alaska Airlines Inc.</td>\n",
       "      <td>Ted Stevens Anchorage International Airport</td>\n",
       "      <td>Anchorage</td>\n",
       "      <td>Seattle-Tacoma International Airport</td>\n",
       "      <td>Seattle</td>\n",
       "      <td>ANC</td>\n",
       "      <td>SEA</td>\n",
       "      <td>1448</td>\n",
       "      <td>00:41:00</td>\n",
       "      <td>2015-01-01</td>\n",
       "      <td>...</td>\n",
       "      <td>-4.0</td>\n",
       "      <td>04:55:00</td>\n",
       "      <td>05:09:00</td>\n",
       "      <td>-14.0</td>\n",
       "      <td>204.0</td>\n",
       "      <td>194.0</td>\n",
       "      <td>173.0</td>\n",
       "      <td>4.0</td>\n",
       "      <td>17.0</td>\n",
       "      <td>0</td>\n",
       "    </tr>\n",
       "    <tr>\n",
       "      <th>2</th>\n",
       "      <td>Alaska Airlines Inc.</td>\n",
       "      <td>Ted Stevens Anchorage International Airport</td>\n",
       "      <td>Anchorage</td>\n",
       "      <td>Seattle-Tacoma International Airport</td>\n",
       "      <td>Seattle</td>\n",
       "      <td>ANC</td>\n",
       "      <td>SEA</td>\n",
       "      <td>1448</td>\n",
       "      <td>01:40:00</td>\n",
       "      <td>2015-01-01</td>\n",
       "      <td>...</td>\n",
       "      <td>-15.0</td>\n",
       "      <td>05:58:00</td>\n",
       "      <td>06:33:00</td>\n",
       "      <td>-35.0</td>\n",
       "      <td>218.0</td>\n",
       "      <td>198.0</td>\n",
       "      <td>170.0</td>\n",
       "      <td>11.0</td>\n",
       "      <td>17.0</td>\n",
       "      <td>0</td>\n",
       "    </tr>\n",
       "    <tr>\n",
       "      <th>3</th>\n",
       "      <td>Alaska Airlines Inc.</td>\n",
       "      <td>Ted Stevens Anchorage International Airport</td>\n",
       "      <td>Anchorage</td>\n",
       "      <td>Seattle-Tacoma International Airport</td>\n",
       "      <td>Seattle</td>\n",
       "      <td>ANC</td>\n",
       "      <td>SEA</td>\n",
       "      <td>1448</td>\n",
       "      <td>02:09:00</td>\n",
       "      <td>2015-01-01</td>\n",
       "      <td>...</td>\n",
       "      <td>-11.0</td>\n",
       "      <td>06:28:00</td>\n",
       "      <td>06:40:00</td>\n",
       "      <td>-12.0</td>\n",
       "      <td>200.0</td>\n",
       "      <td>199.0</td>\n",
       "      <td>176.0</td>\n",
       "      <td>8.0</td>\n",
       "      <td>15.0</td>\n",
       "      <td>0</td>\n",
       "    </tr>\n",
       "    <tr>\n",
       "      <th>4</th>\n",
       "      <td>Alaska Airlines Inc.</td>\n",
       "      <td>Ted Stevens Anchorage International Airport</td>\n",
       "      <td>Anchorage</td>\n",
       "      <td>Seattle-Tacoma International Airport</td>\n",
       "      <td>Seattle</td>\n",
       "      <td>ANC</td>\n",
       "      <td>SEA</td>\n",
       "      <td>1448</td>\n",
       "      <td>04:57:00</td>\n",
       "      <td>2015-01-01</td>\n",
       "      <td>...</td>\n",
       "      <td>-8.0</td>\n",
       "      <td>09:16:00</td>\n",
       "      <td>09:30:00</td>\n",
       "      <td>-14.0</td>\n",
       "      <td>205.0</td>\n",
       "      <td>199.0</td>\n",
       "      <td>179.0</td>\n",
       "      <td>4.0</td>\n",
       "      <td>16.0</td>\n",
       "      <td>0</td>\n",
       "    </tr>\n",
       "    <tr>\n",
       "      <th>...</th>\n",
       "      <td>...</td>\n",
       "      <td>...</td>\n",
       "      <td>...</td>\n",
       "      <td>...</td>\n",
       "      <td>...</td>\n",
       "      <td>...</td>\n",
       "      <td>...</td>\n",
       "      <td>...</td>\n",
       "      <td>...</td>\n",
       "      <td>...</td>\n",
       "      <td>...</td>\n",
       "      <td>...</td>\n",
       "      <td>...</td>\n",
       "      <td>...</td>\n",
       "      <td>...</td>\n",
       "      <td>...</td>\n",
       "      <td>...</td>\n",
       "      <td>...</td>\n",
       "      <td>...</td>\n",
       "      <td>...</td>\n",
       "      <td>...</td>\n",
       "    </tr>\n",
       "    <tr>\n",
       "      <th>5221995</th>\n",
       "      <td>Atlantic Southeast Airlines</td>\n",
       "      <td>Meridian Regional Airport</td>\n",
       "      <td>Meridian</td>\n",
       "      <td>Hattiesburg-Laurel Regional Airport</td>\n",
       "      <td>Hattiesburg-Laurel</td>\n",
       "      <td>MEI</td>\n",
       "      <td>PIB</td>\n",
       "      <td>69</td>\n",
       "      <td>20:37:00</td>\n",
       "      <td>2015-12-29</td>\n",
       "      <td>...</td>\n",
       "      <td>-9.0</td>\n",
       "      <td>21:02:00</td>\n",
       "      <td>21:20:00</td>\n",
       "      <td>-18.0</td>\n",
       "      <td>34.0</td>\n",
       "      <td>25.0</td>\n",
       "      <td>17.0</td>\n",
       "      <td>2.0</td>\n",
       "      <td>6.0</td>\n",
       "      <td>0</td>\n",
       "    </tr>\n",
       "    <tr>\n",
       "      <th>5221996</th>\n",
       "      <td>Atlantic Southeast Airlines</td>\n",
       "      <td>Meridian Regional Airport</td>\n",
       "      <td>Meridian</td>\n",
       "      <td>Hattiesburg-Laurel Regional Airport</td>\n",
       "      <td>Hattiesburg-Laurel</td>\n",
       "      <td>MEI</td>\n",
       "      <td>PIB</td>\n",
       "      <td>69</td>\n",
       "      <td>16:16:00</td>\n",
       "      <td>2015-12-30</td>\n",
       "      <td>...</td>\n",
       "      <td>101.0</td>\n",
       "      <td>16:39:00</td>\n",
       "      <td>15:09:00</td>\n",
       "      <td>90.0</td>\n",
       "      <td>34.0</td>\n",
       "      <td>23.0</td>\n",
       "      <td>14.0</td>\n",
       "      <td>5.0</td>\n",
       "      <td>4.0</td>\n",
       "      <td>0</td>\n",
       "    </tr>\n",
       "    <tr>\n",
       "      <th>5221997</th>\n",
       "      <td>Atlantic Southeast Airlines</td>\n",
       "      <td>Meridian Regional Airport</td>\n",
       "      <td>Meridian</td>\n",
       "      <td>Hattiesburg-Laurel Regional Airport</td>\n",
       "      <td>Hattiesburg-Laurel</td>\n",
       "      <td>MEI</td>\n",
       "      <td>PIB</td>\n",
       "      <td>69</td>\n",
       "      <td>20:56:00</td>\n",
       "      <td>2015-12-30</td>\n",
       "      <td>...</td>\n",
       "      <td>10.0</td>\n",
       "      <td>21:30:00</td>\n",
       "      <td>21:20:00</td>\n",
       "      <td>10.0</td>\n",
       "      <td>34.0</td>\n",
       "      <td>34.0</td>\n",
       "      <td>18.0</td>\n",
       "      <td>4.0</td>\n",
       "      <td>12.0</td>\n",
       "      <td>0</td>\n",
       "    </tr>\n",
       "    <tr>\n",
       "      <th>5221998</th>\n",
       "      <td>Atlantic Southeast Airlines</td>\n",
       "      <td>Meridian Regional Airport</td>\n",
       "      <td>Meridian</td>\n",
       "      <td>Hattiesburg-Laurel Regional Airport</td>\n",
       "      <td>Hattiesburg-Laurel</td>\n",
       "      <td>MEI</td>\n",
       "      <td>PIB</td>\n",
       "      <td>69</td>\n",
       "      <td>14:21:00</td>\n",
       "      <td>2015-12-31</td>\n",
       "      <td>...</td>\n",
       "      <td>-14.0</td>\n",
       "      <td>14:51:00</td>\n",
       "      <td>15:09:00</td>\n",
       "      <td>-18.0</td>\n",
       "      <td>34.0</td>\n",
       "      <td>30.0</td>\n",
       "      <td>18.0</td>\n",
       "      <td>3.0</td>\n",
       "      <td>9.0</td>\n",
       "      <td>0</td>\n",
       "    </tr>\n",
       "    <tr>\n",
       "      <th>5221999</th>\n",
       "      <td>Atlantic Southeast Airlines</td>\n",
       "      <td>Meridian Regional Airport</td>\n",
       "      <td>Meridian</td>\n",
       "      <td>Hattiesburg-Laurel Regional Airport</td>\n",
       "      <td>Hattiesburg-Laurel</td>\n",
       "      <td>MEI</td>\n",
       "      <td>PIB</td>\n",
       "      <td>69</td>\n",
       "      <td>20:20:00</td>\n",
       "      <td>2015-12-31</td>\n",
       "      <td>...</td>\n",
       "      <td>-26.0</td>\n",
       "      <td>20:48:00</td>\n",
       "      <td>21:20:00</td>\n",
       "      <td>-32.0</td>\n",
       "      <td>34.0</td>\n",
       "      <td>28.0</td>\n",
       "      <td>18.0</td>\n",
       "      <td>3.0</td>\n",
       "      <td>7.0</td>\n",
       "      <td>0</td>\n",
       "    </tr>\n",
       "  </tbody>\n",
       "</table>\n",
       "<p>5219244 rows × 22 columns</p>\n",
       "</div>"
      ],
      "text/plain": [
       "                             AIRLINE  \\\n",
       "0               Alaska Airlines Inc.   \n",
       "1               Alaska Airlines Inc.   \n",
       "2               Alaska Airlines Inc.   \n",
       "3               Alaska Airlines Inc.   \n",
       "4               Alaska Airlines Inc.   \n",
       "...                              ...   \n",
       "5221995  Atlantic Southeast Airlines   \n",
       "5221996  Atlantic Southeast Airlines   \n",
       "5221997  Atlantic Southeast Airlines   \n",
       "5221998  Atlantic Southeast Airlines   \n",
       "5221999  Atlantic Southeast Airlines   \n",
       "\n",
       "                                    Org_Airport_Name Origin_city  \\\n",
       "0        Ted Stevens Anchorage International Airport   Anchorage   \n",
       "1        Ted Stevens Anchorage International Airport   Anchorage   \n",
       "2        Ted Stevens Anchorage International Airport   Anchorage   \n",
       "3        Ted Stevens Anchorage International Airport   Anchorage   \n",
       "4        Ted Stevens Anchorage International Airport   Anchorage   \n",
       "...                                              ...         ...   \n",
       "5221995                    Meridian Regional Airport    Meridian   \n",
       "5221996                    Meridian Regional Airport    Meridian   \n",
       "5221997                    Meridian Regional Airport    Meridian   \n",
       "5221998                    Meridian Regional Airport    Meridian   \n",
       "5221999                    Meridian Regional Airport    Meridian   \n",
       "\n",
       "                            Dest_Airport_Name    Destination_city  \\\n",
       "0        Seattle-Tacoma International Airport             Seattle   \n",
       "1        Seattle-Tacoma International Airport             Seattle   \n",
       "2        Seattle-Tacoma International Airport             Seattle   \n",
       "3        Seattle-Tacoma International Airport             Seattle   \n",
       "4        Seattle-Tacoma International Airport             Seattle   \n",
       "...                                       ...                 ...   \n",
       "5221995   Hattiesburg-Laurel Regional Airport  Hattiesburg-Laurel   \n",
       "5221996   Hattiesburg-Laurel Regional Airport  Hattiesburg-Laurel   \n",
       "5221997   Hattiesburg-Laurel Regional Airport  Hattiesburg-Laurel   \n",
       "5221998   Hattiesburg-Laurel Regional Airport  Hattiesburg-Laurel   \n",
       "5221999   Hattiesburg-Laurel Regional Airport  Hattiesburg-Laurel   \n",
       "\n",
       "        ORIGIN_AIRPORT DESTINATION_AIRPORT  DISTANCE Actual_Departure  \\\n",
       "0                  ANC                 SEA      1448         23:54:00   \n",
       "1                  ANC                 SEA      1448         00:41:00   \n",
       "2                  ANC                 SEA      1448         01:40:00   \n",
       "3                  ANC                 SEA      1448         02:09:00   \n",
       "4                  ANC                 SEA      1448         04:57:00   \n",
       "...                ...                 ...       ...              ...   \n",
       "5221995            MEI                 PIB        69         20:37:00   \n",
       "5221996            MEI                 PIB        69         16:16:00   \n",
       "5221997            MEI                 PIB        69         20:56:00   \n",
       "5221998            MEI                 PIB        69         14:21:00   \n",
       "5221999            MEI                 PIB        69         20:20:00   \n",
       "\n",
       "              Date  ... DEPARTURE_DELAY Actual_Arrival  Scheduled_Arrival  \\\n",
       "0       2015-01-01  ...           -11.0       04:08:00           04:30:00   \n",
       "1       2015-01-01  ...            -4.0       04:55:00           05:09:00   \n",
       "2       2015-01-01  ...           -15.0       05:58:00           06:33:00   \n",
       "3       2015-01-01  ...           -11.0       06:28:00           06:40:00   \n",
       "4       2015-01-01  ...            -8.0       09:16:00           09:30:00   \n",
       "...            ...  ...             ...            ...                ...   \n",
       "5221995 2015-12-29  ...            -9.0       21:02:00           21:20:00   \n",
       "5221996 2015-12-30  ...           101.0       16:39:00           15:09:00   \n",
       "5221997 2015-12-30  ...            10.0       21:30:00           21:20:00   \n",
       "5221998 2015-12-31  ...           -14.0       14:51:00           15:09:00   \n",
       "5221999 2015-12-31  ...           -26.0       20:48:00           21:20:00   \n",
       "\n",
       "        ARRIVAL_DELAY SCHEDULED_TIME  ELAPSED_TIME  AIR_TIME  TAXI_IN  \\\n",
       "0               -22.0          205.0         194.0     169.0      4.0   \n",
       "1               -14.0          204.0         194.0     173.0      4.0   \n",
       "2               -35.0          218.0         198.0     170.0     11.0   \n",
       "3               -12.0          200.0         199.0     176.0      8.0   \n",
       "4               -14.0          205.0         199.0     179.0      4.0   \n",
       "...               ...            ...           ...       ...      ...   \n",
       "5221995         -18.0           34.0          25.0      17.0      2.0   \n",
       "5221996          90.0           34.0          23.0      14.0      5.0   \n",
       "5221997          10.0           34.0          34.0      18.0      4.0   \n",
       "5221998         -18.0           34.0          30.0      18.0      3.0   \n",
       "5221999         -32.0           34.0          28.0      18.0      3.0   \n",
       "\n",
       "         TAXI_OUT  DIVERTED  \n",
       "0            21.0         0  \n",
       "1            17.0         0  \n",
       "2            17.0         0  \n",
       "3            15.0         0  \n",
       "4            16.0         0  \n",
       "...           ...       ...  \n",
       "5221995       6.0         0  \n",
       "5221996       4.0         0  \n",
       "5221997      12.0         0  \n",
       "5221998       9.0         0  \n",
       "5221999       7.0         0  \n",
       "\n",
       "[5219244 rows x 22 columns]"
      ]
     },
     "execution_count": 46,
     "metadata": {},
     "output_type": "execute_result"
    }
   ],
   "source": [
    "Flights = vizualization\n",
    "Flights"
   ]
  },
  {
   "cell_type": "code",
   "execution_count": 47,
   "metadata": {},
   "outputs": [
    {
     "data": {
      "image/png": "[encoded data removed]",
      "text/plain": [
       "<Figure size 640x480 with 1 Axes>"
      ]
     },
     "metadata": {},
     "output_type": "display_data"
    }
   ],
   "source": [
    "# Visualize the distribution of flight origins using a matplotlib\n",
    "import matplotlib.pyplot as plt\n",
    "\n",
    "cities = Flights['Origin_city'].value_counts().iloc[:20].index\n",
    "counts = Flights['Origin_city'].value_counts().iloc[:20].values\n",
    "\n",
    "plt.barh(cities, counts, color='skyblue')\n",
    "plt.xlabel('Count')\n",
    "plt.title('Top 20 Origin Cities')\n",
    "plt.show()\n"
   ]
  },
  {
   "cell_type": "code",
   "execution_count": 48,
   "metadata": {
    "colab": {
     "base_uri": "https://localhost:8080/",
     "height": 0
    },
    "id": "pla13LO2i1PF",
    "outputId": "09680fd5-42e7-40da-eab7-267f6c1afba1"
   },
   "outputs": [
    {
     "data": {
      "image/png": "[encoded data removed]",
      "text/plain": [
       "<Figure size 1000x1000 with 1 Axes>"
      ]
     },
     "metadata": {},
     "output_type": "display_data"
    }
   ],
   "source": [
    "# visualize the arrival delay of airlines\n",
    "import matplotlib.pyplot as plt\n",
    "import seaborn as sns\n",
    "\n",
    "plt.figure(figsize=(10, 10))\n",
    "\n",
    "# Create the stripplot\n",
    "sns.stripplot(x=\"ARRIVAL_DELAY\", y=\"AIRLINE\", data=Flights, dodge=True, jitter=True, palette=\"Dark2\")\n",
    "\n",
    "sns.despine(bottom=True, left=True)\n",
    "plt.show()\n"
   ]
  },
  {
   "cell_type": "code",
   "execution_count": 49,
   "metadata": {
    "id": "vExXsMz8t9J4"
   },
   "outputs": [
    {
     "data": {
      "image/png": "[encoded data removed]",
      "text/plain": [
       "<Figure size 1800x1200 with 2 Axes>"
      ]
     },
     "metadata": {},
     "output_type": "display_data"
    }
   ],
   "source": [
    "# Create a heatmap to visualize correlations between features\n",
    "axis = plt.subplots(figsize=(18,12))\n",
    "sns.heatmap(Flights.corr(),annot = True,cmap=\"BuGn\")\n",
    "b, t = plt.ylim()\n",
    "t -= 0.5 \n",
    "plt.ylim(b, t)\n",
    "plt.show()"
   ]
  },
  {
   "cell_type": "code",
   "execution_count": 50,
   "metadata": {
    "id": "Bj3Yoj3Rt9J9",
    "scrolled": false
   },
   "outputs": [
    {
     "data": {
      "text/html": [
       "<div>\n",
       "<style scoped>\n",
       "    .dataframe tbody tr th:only-of-type {\n",
       "        vertical-align: middle;\n",
       "    }\n",
       "\n",
       "    .dataframe tbody tr th {\n",
       "        vertical-align: top;\n",
       "    }\n",
       "\n",
       "    .dataframe thead th {\n",
       "        text-align: right;\n",
       "    }\n",
       "</style>\n",
       "<table border=\"1\" class=\"dataframe\">\n",
       "  <thead>\n",
       "    <tr style=\"text-align: right;\">\n",
       "      <th></th>\n",
       "      <th>AIRLINE</th>\n",
       "      <th>Org_Airport_Name</th>\n",
       "      <th>Origin_city</th>\n",
       "      <th>Dest_Airport_Name</th>\n",
       "      <th>Destination_city</th>\n",
       "      <th>ORIGIN_AIRPORT</th>\n",
       "      <th>DESTINATION_AIRPORT</th>\n",
       "      <th>DISTANCE</th>\n",
       "      <th>Actual_Departure</th>\n",
       "      <th>Date</th>\n",
       "      <th>...</th>\n",
       "      <th>DEPARTURE_DELAY</th>\n",
       "      <th>Actual_Arrival</th>\n",
       "      <th>Scheduled_Arrival</th>\n",
       "      <th>ARRIVAL_DELAY</th>\n",
       "      <th>SCHEDULED_TIME</th>\n",
       "      <th>ELAPSED_TIME</th>\n",
       "      <th>AIR_TIME</th>\n",
       "      <th>TAXI_IN</th>\n",
       "      <th>TAXI_OUT</th>\n",
       "      <th>DIVERTED</th>\n",
       "    </tr>\n",
       "  </thead>\n",
       "  <tbody>\n",
       "    <tr>\n",
       "      <th>0</th>\n",
       "      <td>Alaska Airlines Inc.</td>\n",
       "      <td>Ted Stevens Anchorage International Airport</td>\n",
       "      <td>Anchorage</td>\n",
       "      <td>Seattle-Tacoma International Airport</td>\n",
       "      <td>Seattle</td>\n",
       "      <td>ANC</td>\n",
       "      <td>SEA</td>\n",
       "      <td>1448</td>\n",
       "      <td>23:54:00</td>\n",
       "      <td>2015-01-01</td>\n",
       "      <td>...</td>\n",
       "      <td>-11.0</td>\n",
       "      <td>04:08:00</td>\n",
       "      <td>04:30:00</td>\n",
       "      <td>-22.0</td>\n",
       "      <td>205.0</td>\n",
       "      <td>194.0</td>\n",
       "      <td>169.0</td>\n",
       "      <td>4.0</td>\n",
       "      <td>21.0</td>\n",
       "      <td>0</td>\n",
       "    </tr>\n",
       "    <tr>\n",
       "      <th>1</th>\n",
       "      <td>Alaska Airlines Inc.</td>\n",
       "      <td>Ted Stevens Anchorage International Airport</td>\n",
       "      <td>Anchorage</td>\n",
       "      <td>Seattle-Tacoma International Airport</td>\n",
       "      <td>Seattle</td>\n",
       "      <td>ANC</td>\n",
       "      <td>SEA</td>\n",
       "      <td>1448</td>\n",
       "      <td>00:41:00</td>\n",
       "      <td>2015-01-01</td>\n",
       "      <td>...</td>\n",
       "      <td>-4.0</td>\n",
       "      <td>04:55:00</td>\n",
       "      <td>05:09:00</td>\n",
       "      <td>-14.0</td>\n",
       "      <td>204.0</td>\n",
       "      <td>194.0</td>\n",
       "      <td>173.0</td>\n",
       "      <td>4.0</td>\n",
       "      <td>17.0</td>\n",
       "      <td>0</td>\n",
       "    </tr>\n",
       "    <tr>\n",
       "      <th>2</th>\n",
       "      <td>Alaska Airlines Inc.</td>\n",
       "      <td>Ted Stevens Anchorage International Airport</td>\n",
       "      <td>Anchorage</td>\n",
       "      <td>Seattle-Tacoma International Airport</td>\n",
       "      <td>Seattle</td>\n",
       "      <td>ANC</td>\n",
       "      <td>SEA</td>\n",
       "      <td>1448</td>\n",
       "      <td>01:40:00</td>\n",
       "      <td>2015-01-01</td>\n",
       "      <td>...</td>\n",
       "      <td>-15.0</td>\n",
       "      <td>05:58:00</td>\n",
       "      <td>06:33:00</td>\n",
       "      <td>-35.0</td>\n",
       "      <td>218.0</td>\n",
       "      <td>198.0</td>\n",
       "      <td>170.0</td>\n",
       "      <td>11.0</td>\n",
       "      <td>17.0</td>\n",
       "      <td>0</td>\n",
       "    </tr>\n",
       "    <tr>\n",
       "      <th>3</th>\n",
       "      <td>Alaska Airlines Inc.</td>\n",
       "      <td>Ted Stevens Anchorage International Airport</td>\n",
       "      <td>Anchorage</td>\n",
       "      <td>Seattle-Tacoma International Airport</td>\n",
       "      <td>Seattle</td>\n",
       "      <td>ANC</td>\n",
       "      <td>SEA</td>\n",
       "      <td>1448</td>\n",
       "      <td>02:09:00</td>\n",
       "      <td>2015-01-01</td>\n",
       "      <td>...</td>\n",
       "      <td>-11.0</td>\n",
       "      <td>06:28:00</td>\n",
       "      <td>06:40:00</td>\n",
       "      <td>-12.0</td>\n",
       "      <td>200.0</td>\n",
       "      <td>199.0</td>\n",
       "      <td>176.0</td>\n",
       "      <td>8.0</td>\n",
       "      <td>15.0</td>\n",
       "      <td>0</td>\n",
       "    </tr>\n",
       "    <tr>\n",
       "      <th>4</th>\n",
       "      <td>Alaska Airlines Inc.</td>\n",
       "      <td>Ted Stevens Anchorage International Airport</td>\n",
       "      <td>Anchorage</td>\n",
       "      <td>Seattle-Tacoma International Airport</td>\n",
       "      <td>Seattle</td>\n",
       "      <td>ANC</td>\n",
       "      <td>SEA</td>\n",
       "      <td>1448</td>\n",
       "      <td>04:57:00</td>\n",
       "      <td>2015-01-01</td>\n",
       "      <td>...</td>\n",
       "      <td>-8.0</td>\n",
       "      <td>09:16:00</td>\n",
       "      <td>09:30:00</td>\n",
       "      <td>-14.0</td>\n",
       "      <td>205.0</td>\n",
       "      <td>199.0</td>\n",
       "      <td>179.0</td>\n",
       "      <td>4.0</td>\n",
       "      <td>16.0</td>\n",
       "      <td>0</td>\n",
       "    </tr>\n",
       "  </tbody>\n",
       "</table>\n",
       "<p>5 rows × 22 columns</p>\n",
       "</div>"
      ],
      "text/plain": [
       "                AIRLINE                             Org_Airport_Name  \\\n",
       "0  Alaska Airlines Inc.  Ted Stevens Anchorage International Airport   \n",
       "1  Alaska Airlines Inc.  Ted Stevens Anchorage International Airport   \n",
       "2  Alaska Airlines Inc.  Ted Stevens Anchorage International Airport   \n",
       "3  Alaska Airlines Inc.  Ted Stevens Anchorage International Airport   \n",
       "4  Alaska Airlines Inc.  Ted Stevens Anchorage International Airport   \n",
       "\n",
       "  Origin_city                     Dest_Airport_Name Destination_city  \\\n",
       "0   Anchorage  Seattle-Tacoma International Airport          Seattle   \n",
       "1   Anchorage  Seattle-Tacoma International Airport          Seattle   \n",
       "2   Anchorage  Seattle-Tacoma International Airport          Seattle   \n",
       "3   Anchorage  Seattle-Tacoma International Airport          Seattle   \n",
       "4   Anchorage  Seattle-Tacoma International Airport          Seattle   \n",
       "\n",
       "  ORIGIN_AIRPORT DESTINATION_AIRPORT  DISTANCE Actual_Departure       Date  \\\n",
       "0            ANC                 SEA      1448         23:54:00 2015-01-01   \n",
       "1            ANC                 SEA      1448         00:41:00 2015-01-01   \n",
       "2            ANC                 SEA      1448         01:40:00 2015-01-01   \n",
       "3            ANC                 SEA      1448         02:09:00 2015-01-01   \n",
       "4            ANC                 SEA      1448         04:57:00 2015-01-01   \n",
       "\n",
       "   ... DEPARTURE_DELAY Actual_Arrival  Scheduled_Arrival ARRIVAL_DELAY  \\\n",
       "0  ...           -11.0       04:08:00           04:30:00         -22.0   \n",
       "1  ...            -4.0       04:55:00           05:09:00         -14.0   \n",
       "2  ...           -15.0       05:58:00           06:33:00         -35.0   \n",
       "3  ...           -11.0       06:28:00           06:40:00         -12.0   \n",
       "4  ...            -8.0       09:16:00           09:30:00         -14.0   \n",
       "\n",
       "  SCHEDULED_TIME  ELAPSED_TIME  AIR_TIME  TAXI_IN  TAXI_OUT  DIVERTED  \n",
       "0          205.0         194.0     169.0      4.0      21.0         0  \n",
       "1          204.0         194.0     173.0      4.0      17.0         0  \n",
       "2          218.0         198.0     170.0     11.0      17.0         0  \n",
       "3          200.0         199.0     176.0      8.0      15.0         0  \n",
       "4          205.0         199.0     179.0      4.0      16.0         0  \n",
       "\n",
       "[5 rows x 22 columns]"
      ]
     },
     "execution_count": 50,
     "metadata": {},
     "output_type": "execute_result"
    }
   ],
   "source": [
    "Flights.head()"
   ]
  },
  {
   "cell_type": "markdown",
   "metadata": {
    "id": "kDflv8OCOEmf"
   },
   "source": [
    "Removing columns that are not needed fo prediction"
   ]
  },
  {
   "cell_type": "code",
   "execution_count": 51,
   "metadata": {
    "id": "ZLrIN0spt9J-"
   },
   "outputs": [],
   "source": [
    "Flights1 = Flights.drop(['Org_Airport_Name','Origin_city','Dest_Airport_Name','Destination_city'],axis = 1)"
   ]
  },
  {
   "cell_type": "code",
   "execution_count": 52,
   "metadata": {
    "id": "ovXn-XFHt9KC"
   },
   "outputs": [
    {
     "data": {
      "text/plain": [
       "Index(['AIRLINE', 'ORIGIN_AIRPORT', 'DESTINATION_AIRPORT', 'DISTANCE',\n",
       "       'Actual_Departure', 'Date', 'Day', 'Scheduled_Departure',\n",
       "       'DEPARTURE_DELAY', 'Actual_Arrival', 'Scheduled_Arrival',\n",
       "       'ARRIVAL_DELAY', 'SCHEDULED_TIME', 'ELAPSED_TIME', 'AIR_TIME',\n",
       "       'TAXI_IN', 'TAXI_OUT', 'DIVERTED'],\n",
       "      dtype='object')"
      ]
     },
     "execution_count": 52,
     "metadata": {},
     "output_type": "execute_result"
    }
   ],
   "source": [
    "Flights1.columns"
   ]
  },
  {
   "cell_type": "markdown",
   "metadata": {
    "id": "7ZhjbfDOOJTt"
   },
   "source": [
    "Air Time distribution histogram"
   ]
  },
  {
   "cell_type": "code",
   "execution_count": 53,
   "metadata": {
    "id": "Rm4-dNsIt9KE"
   },
   "outputs": [
    {
     "data": {
      "image/png": "[encoded data removed]",
      "text/plain": [
       "<Figure size 640x480 with 1 Axes>"
      ]
     },
     "metadata": {},
     "output_type": "display_data"
    }
   ],
   "source": [
    "plt.hist(Flights1['AIR_TIME'])\n",
    "plt.show()"
   ]
  },
  {
   "cell_type": "markdown",
   "metadata": {
    "id": "PhzXyuaJONpK"
   },
   "source": [
    "Elapsed Time distribution histogram"
   ]
  },
  {
   "cell_type": "code",
   "execution_count": 54,
   "metadata": {
    "id": "z60fy4RQt9KG"
   },
   "outputs": [
    {
     "data": {
      "image/png": "[encoded data removed]",
      "text/plain": [
       "<Figure size 640x480 with 1 Axes>"
      ]
     },
     "metadata": {},
     "output_type": "display_data"
    }
   ],
   "source": [
    "plt.hist(Flights1['ELAPSED_TIME'])\n",
    "plt.show()"
   ]
  },
  {
   "cell_type": "markdown",
   "metadata": {},
   "source": [
    "## Machine Learning Models"
   ]
  },
  {
   "cell_type": "markdown",
   "metadata": {
    "id": "SB1AS5L6ivWQ"
   },
   "source": [
    "\n",
    "\n",
    "\n",
    "**Regression Starts to predict Arrival Delay**"
   ]
  },
  {
   "cell_type": "code",
   "execution_count": 55,
   "metadata": {
    "id": "ZBSPGzsft9KM"
   },
   "outputs": [],
   "source": [
    "le = LabelEncoder()"
   ]
  },
  {
   "cell_type": "markdown",
   "metadata": {
    "id": "Ocf6WsFQjOjU"
   },
   "source": [
    "Applying Label encoder to convert text values to numbers"
   ]
  },
  {
   "cell_type": "code",
   "execution_count": 56,
   "metadata": {
    "id": "y4bqs8x3t9KP"
   },
   "outputs": [],
   "source": [
    "Flights1['AIRLINE']= le.fit_transform(Flights1['AIRLINE'])\n",
    "Flights1['ORIGIN_AIRPORT'] = le.fit_transform(Flights1['ORIGIN_AIRPORT'])\n",
    "Flights1['DESTINATION_AIRPORT'] = le.fit_transform(Flights1['DESTINATION_AIRPORT'])\n",
    "Flights1['Day'] = le.fit_transform(Flights1['Day'])"
   ]
  },
  {
   "cell_type": "code",
   "execution_count": 57,
   "metadata": {
    "id": "xM2TA8YZt9KQ"
   },
   "outputs": [],
   "source": [
    "Flights1 = Flights1.drop(['Scheduled_Departure','Scheduled_Arrival','Actual_Arrival','Date','Actual_Departure'], axis = 1)"
   ]
  },
  {
   "cell_type": "code",
   "execution_count": 58,
   "metadata": {
    "id": "GdvQ5gbdt9KS"
   },
   "outputs": [
    {
     "name": "stdout",
     "output_type": "stream",
     "text": [
      "<class 'pandas.core.frame.DataFrame'>\n",
      "Int64Index: 5219244 entries, 0 to 5221999\n",
      "Data columns (total 13 columns):\n",
      " #   Column               Dtype  \n",
      "---  ------               -----  \n",
      " 0   AIRLINE              int64  \n",
      " 1   ORIGIN_AIRPORT       int64  \n",
      " 2   DESTINATION_AIRPORT  int64  \n",
      " 3   DISTANCE             int64  \n",
      " 4   Day                  int64  \n",
      " 5   DEPARTURE_DELAY      float64\n",
      " 6   ARRIVAL_DELAY        float64\n",
      " 7   SCHEDULED_TIME       float64\n",
      " 8   ELAPSED_TIME         float64\n",
      " 9   AIR_TIME             float64\n",
      " 10  TAXI_IN              float64\n",
      " 11  TAXI_OUT             float64\n",
      " 12  DIVERTED             int64  \n",
      "dtypes: float64(7), int64(6)\n",
      "memory usage: 557.5 MB\n"
     ]
    }
   ],
   "source": [
    "Flights1.info()"
   ]
  },
  {
   "cell_type": "code",
   "execution_count": 59,
   "metadata": {
    "id": "15TF_kwut9KV"
   },
   "outputs": [
    {
     "data": {
      "text/plain": [
       "(5219244, 12)"
      ]
     },
     "execution_count": 59,
     "metadata": {},
     "output_type": "execute_result"
    }
   ],
   "source": [
    "X = Flights1.drop('ARRIVAL_DELAY',axis = 1)\n",
    "X.shape"
   ]
  },
  {
   "cell_type": "code",
   "execution_count": 60,
   "metadata": {
    "id": "Rqzy2ZoIt9KW"
   },
   "outputs": [
    {
     "data": {
      "text/plain": [
       "0   -22.0\n",
       "1   -14.0\n",
       "2   -35.0\n",
       "3   -12.0\n",
       "4   -14.0\n",
       "Name: ARRIVAL_DELAY, dtype: float64"
      ]
     },
     "execution_count": 60,
     "metadata": {},
     "output_type": "execute_result"
    }
   ],
   "source": [
    "y = Flights1['ARRIVAL_DELAY']\n",
    "y.head()"
   ]
  },
  {
   "cell_type": "markdown",
   "metadata": {
    "id": "VUa-Da4POUfZ"
   },
   "source": [
    "Split into train and test sets"
   ]
  },
  {
   "cell_type": "code",
   "execution_count": 61,
   "metadata": {
    "id": "o4B6hC8tt9KX"
   },
   "outputs": [],
   "source": [
    "X_train,X_test,y_train,y_test = train_test_split(X,y,test_size=0.25,random_state = 5)"
   ]
  },
  {
   "cell_type": "markdown",
   "metadata": {
    "id": "Unw_j7Z4jKgN"
   },
   "source": [
    "Applying Standard Scalar"
   ]
  },
  {
   "cell_type": "code",
   "execution_count": 62,
   "metadata": {
    "id": "tqMKq4j4t9KZ"
   },
   "outputs": [],
   "source": [
    "sc1=StandardScaler()\n",
    "X_train_sc=sc1.fit_transform(X_train)\n",
    "X_test_sc=sc1.transform(X_test)"
   ]
  },
  {
   "cell_type": "markdown",
   "metadata": {},
   "source": [
    "## Regession Models"
   ]
  },
  {
   "cell_type": "markdown",
   "metadata": {
    "id": "fNFa9HvijWfq"
   },
   "source": [
    "### Linear Regression"
   ]
  },
  {
   "cell_type": "code",
   "execution_count": 63,
   "metadata": {
    "id": "zNzpfcjw879t"
   },
   "outputs": [
    {
     "name": "stdout",
     "output_type": "stream",
     "text": [
      "MAE: 1.532789208539483e-06\n",
      "MSE: 3.0655780798900293e-06\n",
      "RMSE: 0.0017508792305267742\n",
      "R2: 0.9999999980588673\n"
     ]
    }
   ],
   "source": [
    "from sklearn.linear_model import LinearRegression\n",
    "LinR = LinearRegression()\n",
    "from sklearn.metrics import mean_absolute_error,mean_squared_error,r2_score\n",
    "\n",
    "fitResult = LinR.fit(X_train_sc,y_train)\n",
    "y_pred = fitResult.predict(X_test_sc)\n",
    "print ('MAE:' ,  mean_absolute_error(y_test, y_pred))\n",
    "print ('MSE:' , mean_squared_error(y_test, y_pred))\n",
    "print('RMSE:' , np.sqrt(mean_squared_error(y_test, y_pred)))\n",
    "print ('R2:' , r2_score(y_test, y_pred))"
   ]
  },
  {
   "cell_type": "code",
   "execution_count": 64,
   "metadata": {
    "id": "7_lo1u2f-OnG"
   },
   "outputs": [
    {
     "data": {
      "image/png": "[encoded data removed]",
      "text/plain": [
       "<Figure size 640x480 with 1 Axes>"
      ]
     },
     "metadata": {},
     "output_type": "display_data"
    }
   ],
   "source": [
    "import matplotlib.pyplot as plt\n",
    "fig, ax = plt.subplots()\n",
    "ax.scatter(y_test, y_pred)\n",
    "ax.plot([y.min(), y.max()], [y.min(), y.max()], 'k--', lw=4)\n",
    "ax.set_xlabel('Actual')\n",
    "ax.set_ylabel('Predicted')\n",
    "plt.show()"
   ]
  },
  {
   "cell_type": "markdown",
   "metadata": {
    "id": "BcL_HJp0BRT8"
   },
   "source": [
    "### Decision Tree Regression"
   ]
  },
  {
   "cell_type": "code",
   "execution_count": 65,
   "metadata": {
    "id": "pj9zGOCXBRT8"
   },
   "outputs": [
    {
     "name": "stdout",
     "output_type": "stream",
     "text": [
      "MAE: 0.9508833080039945\n",
      "MSE: 8.578144267637228\n",
      "RMSE: 2.928846917754021\n",
      "R2: 0.994568294675817\n"
     ]
    }
   ],
   "source": [
    "\n",
    "from sklearn.tree import DecisionTreeRegressor\n",
    "Dtc = DecisionTreeRegressor(random_state = 2)\n",
    "\n",
    "fitResultdtc = Dtc.fit(X_train_sc,y_train)\n",
    "predictedValues = fitResultdtc.predict(X_test_sc)\n",
    "print ('MAE:' ,  mean_absolute_error(y_test, predictedValues))\n",
    "print ('MSE:' , mean_squared_error(y_test, predictedValues))\n",
    "print('RMSE:' , np.sqrt(mean_squared_error(y_test, predictedValues)))\n",
    "print ('R2:' , r2_score(y_test, predictedValues))"
   ]
  },
  {
   "cell_type": "code",
   "execution_count": 66,
   "metadata": {
    "id": "s2PHqivOBRT8"
   },
   "outputs": [
    {
     "data": {
      "image/png": "[encoded data removed]",
      "text/plain": [
       "<Figure size 640x480 with 1 Axes>"
      ]
     },
     "metadata": {},
     "output_type": "display_data"
    }
   ],
   "source": [
    "#import matplotlib.pyplot as plt\n",
    "fig, ax = plt.subplots()\n",
    "ax.scatter(y_test, predictedValues)\n",
    "ax.plot([y.min(), y.max()], [y.min(), y.max()], 'k--', lw=4)\n",
    "ax.set_xlabel('Actual')\n",
    "ax.set_ylabel('Predicted')\n",
    "plt.show()\n"
   ]
  },
  {
   "cell_type": "markdown",
   "metadata": {
    "id": "UozUe684BRT8"
   },
   "source": [
    "### Random Forest Regression\n",
    "\n",
    "\n"
   ]
  },
  {
   "cell_type": "code",
   "execution_count": 67,
   "metadata": {
    "id": "DJyjGXQABRT9"
   },
   "outputs": [
    {
     "name": "stdout",
     "output_type": "stream",
     "text": [
      "MAE: 0.4964235356691502\n",
      "MSE: 3.4596012873128745\n",
      "RMSE: 1.8600003460518157\n",
      "R2: 0.997809370634772\n"
     ]
    }
   ],
   "source": [
    "from sklearn.ensemble import RandomForestRegressor\n",
    "Rfc = RandomForestRegressor(random_state=2)\n",
    "\n",
    "fitResultR = Rfc.fit(X_train_sc,y_train)\n",
    "predictedValues1 = fitResultR.predict(X_test_sc)\n",
    "print ('MAE:' ,  mean_absolute_error(y_test, predictedValues1))\n",
    "print ('MSE:' , mean_squared_error(y_test, predictedValues1))\n",
    "print('RMSE:' , np.sqrt(mean_squared_error(y_test, predictedValues1)))\n",
    "print ('R2:' , r2_score(y_test, predictedValues1))"
   ]
  },
  {
   "cell_type": "code",
   "execution_count": 68,
   "metadata": {
    "id": "bwBqXGArBRT9"
   },
   "outputs": [
    {
     "data": {
      "image/png": "[encoded data removed]",
      "text/plain": [
       "<Figure size 640x480 with 1 Axes>"
      ]
     },
     "metadata": {},
     "output_type": "display_data"
    }
   ],
   "source": [
    "#import matplotlib.pyplot as plt\n",
    "fig, ax = plt.subplots()\n",
    "ax.scatter(y_test, predictedValues1)\n",
    "ax.plot([y.min(), y.max()], [y.min(), y.max()], 'k--', lw=4)\n",
    "ax.set_xlabel('Actual')\n",
    "ax.set_ylabel('Predicted')\n",
    "plt.show()"
   ]
  },
  {
   "cell_type": "markdown",
   "metadata": {
    "id": "wNVLBlu2HgXf"
   },
   "source": [
    "### Boosted Linear Regression"
   ]
  },
  {
   "cell_type": "code",
   "execution_count": 69,
   "metadata": {
    "id": "iA0mebcaHd6s"
   },
   "outputs": [
    {
     "name": "stdout",
     "output_type": "stream",
     "text": [
      "MAE: 1.532789634527544e-06\n",
      "MSE: 3.0655780798915214e-06\n",
      "RMSE: 0.0017508792305272003\n",
      "R2: 0.9999999980588673\n"
     ]
    }
   ],
   "source": [
    "from sklearn.ensemble import AdaBoostRegressor\n",
    "Boost_Lin = AdaBoostRegressor(base_estimator=LinR,random_state=2)\n",
    "\n",
    "fitResultBl = Boost_Lin.fit(X_train_sc,y_train)\n",
    "predictedValues2 = fitResultBl.predict(X_test_sc)\n",
    "print ('MAE:' ,  mean_absolute_error(y_test, predictedValues2))\n",
    "print ('MSE:' , mean_squared_error(y_test, predictedValues2))\n",
    "print('RMSE:' , np.sqrt(mean_squared_error(y_test, predictedValues2)))\n",
    "print ('R2:' , r2_score(y_test, predictedValues2))"
   ]
  },
  {
   "cell_type": "code",
   "execution_count": 70,
   "metadata": {
    "id": "phjrFOvXHeAz"
   },
   "outputs": [
    {
     "data": {
      "image/png": "[encoded data removed]",
      "text/plain": [
       "<Figure size 640x480 with 1 Axes>"
      ]
     },
     "metadata": {},
     "output_type": "display_data"
    }
   ],
   "source": [
    "#import matplotlib.pyplot as plt\n",
    "fig, ax = plt.subplots()\n",
    "ax.scatter(y_test, predictedValues2)\n",
    "ax.plot([y.min(), y.max()], [y.min(), y.max()], 'k--', lw=4)\n",
    "ax.set_xlabel('Actual')\n",
    "ax.set_ylabel('Predicted')\n",
    "plt.show()"
   ]
  },
  {
   "cell_type": "markdown",
   "metadata": {},
   "source": [
    "### Gradient Boosting Regression"
   ]
  },
  {
   "cell_type": "code",
   "execution_count": 71,
   "metadata": {},
   "outputs": [
    {
     "name": "stdout",
     "output_type": "stream",
     "text": [
      "MAE: 5.507361175576461\n",
      "MSE: 58.27132462996541\n",
      "RMSE: 7.633565656360428\n",
      "R2: 0.9631024316723275\n"
     ]
    },
    {
     "data": {
      "image/png": "[encoded data removed]",
      "text/plain": [
       "<Figure size 640x480 with 1 Axes>"
      ]
     },
     "metadata": {},
     "output_type": "display_data"
    }
   ],
   "source": [
    "from sklearn.ensemble import GradientBoostingRegressor\n",
    "\n",
    "\n",
    "GBR = GradientBoostingRegressor(random_state=2)\n",
    "fitResultGBR = GBR.fit(X_train_sc, y_train)\n",
    "predictedValuesGBR = fitResultGBR.predict(X_test_sc)\n",
    "\n",
    "# Evaluate Gradient Boosting Regressor\n",
    "print('MAE:', mean_absolute_error(y_test, predictedValuesGBR))\n",
    "print('MSE:', mean_squared_error(y_test, predictedValuesGBR))\n",
    "print('RMSE:', np.sqrt(mean_squared_error(y_test, predictedValuesGBR)))\n",
    "print('R2:', r2_score(y_test, predictedValuesGBR))\n",
    "\n",
    "# Visualize Gradient Boosting Regressor\n",
    "fig, ax = plt.subplots()\n",
    "ax.scatter(y_test, predictedValuesGBR)\n",
    "ax.plot([y.min(), y.max()], [y.min(), y.max()], 'k--', lw=4)\n",
    "ax.set_xlabel('Actual')\n",
    "ax.set_ylabel('Predicted')\n",
    "plt.show()\n"
   ]
  },
  {
   "cell_type": "code",
   "execution_count": null,
   "metadata": {},
   "outputs": [],
   "source": []
  },
  {
   "cell_type": "markdown",
   "metadata": {},
   "source": [
    "\n",
    "Dropping Departure delay from set of attributes to try and predict Arrival Delay"
   ]
  },
  {
   "cell_type": "code",
   "execution_count": 72,
   "metadata": {
    "id": "kQJXeUgqHeFJ"
   },
   "outputs": [
    {
     "data": {
      "text/plain": [
       "(5219244, 11)"
      ]
     },
     "execution_count": 72,
     "metadata": {},
     "output_type": "execute_result"
    }
   ],
   "source": [
    "X = Flights1.drop(['ARRIVAL_DELAY','DEPARTURE_DELAY'],axis = 1)\n",
    "X.shape\n"
   ]
  },
  {
   "cell_type": "code",
   "execution_count": 73,
   "metadata": {
    "id": "YCb9Oe4oI7Bf"
   },
   "outputs": [
    {
     "data": {
      "text/plain": [
       "0   -11.0\n",
       "1    -4.0\n",
       "2   -15.0\n",
       "3   -11.0\n",
       "4    -8.0\n",
       "Name: DEPARTURE_DELAY, dtype: float64"
      ]
     },
     "execution_count": 73,
     "metadata": {},
     "output_type": "execute_result"
    }
   ],
   "source": [
    "y = Flights1['DEPARTURE_DELAY']\n",
    "y.head()"
   ]
  },
  {
   "cell_type": "code",
   "execution_count": 74,
   "metadata": {},
   "outputs": [
    {
     "data": {
      "text/html": [
       "<div>\n",
       "<style scoped>\n",
       "    .dataframe tbody tr th:only-of-type {\n",
       "        vertical-align: middle;\n",
       "    }\n",
       "\n",
       "    .dataframe tbody tr th {\n",
       "        vertical-align: top;\n",
       "    }\n",
       "\n",
       "    .dataframe thead th {\n",
       "        text-align: right;\n",
       "    }\n",
       "</style>\n",
       "<table border=\"1\" class=\"dataframe\">\n",
       "  <thead>\n",
       "    <tr style=\"text-align: right;\">\n",
       "      <th></th>\n",
       "      <th>AIRLINE</th>\n",
       "      <th>ORIGIN_AIRPORT</th>\n",
       "      <th>DESTINATION_AIRPORT</th>\n",
       "      <th>DISTANCE</th>\n",
       "      <th>Day</th>\n",
       "      <th>SCHEDULED_TIME</th>\n",
       "      <th>ELAPSED_TIME</th>\n",
       "      <th>AIR_TIME</th>\n",
       "      <th>TAXI_IN</th>\n",
       "      <th>TAXI_OUT</th>\n",
       "      <th>DIVERTED</th>\n",
       "    </tr>\n",
       "  </thead>\n",
       "  <tbody>\n",
       "    <tr>\n",
       "      <th>0</th>\n",
       "      <td>0</td>\n",
       "      <td>17</td>\n",
       "      <td>275</td>\n",
       "      <td>1448</td>\n",
       "      <td>4</td>\n",
       "      <td>205.0</td>\n",
       "      <td>194.0</td>\n",
       "      <td>169.0</td>\n",
       "      <td>4.0</td>\n",
       "      <td>21.0</td>\n",
       "      <td>0</td>\n",
       "    </tr>\n",
       "    <tr>\n",
       "      <th>1</th>\n",
       "      <td>0</td>\n",
       "      <td>17</td>\n",
       "      <td>275</td>\n",
       "      <td>1448</td>\n",
       "      <td>4</td>\n",
       "      <td>204.0</td>\n",
       "      <td>194.0</td>\n",
       "      <td>173.0</td>\n",
       "      <td>4.0</td>\n",
       "      <td>17.0</td>\n",
       "      <td>0</td>\n",
       "    </tr>\n",
       "    <tr>\n",
       "      <th>2</th>\n",
       "      <td>0</td>\n",
       "      <td>17</td>\n",
       "      <td>275</td>\n",
       "      <td>1448</td>\n",
       "      <td>4</td>\n",
       "      <td>218.0</td>\n",
       "      <td>198.0</td>\n",
       "      <td>170.0</td>\n",
       "      <td>11.0</td>\n",
       "      <td>17.0</td>\n",
       "      <td>0</td>\n",
       "    </tr>\n",
       "    <tr>\n",
       "      <th>3</th>\n",
       "      <td>0</td>\n",
       "      <td>17</td>\n",
       "      <td>275</td>\n",
       "      <td>1448</td>\n",
       "      <td>4</td>\n",
       "      <td>200.0</td>\n",
       "      <td>199.0</td>\n",
       "      <td>176.0</td>\n",
       "      <td>8.0</td>\n",
       "      <td>15.0</td>\n",
       "      <td>0</td>\n",
       "    </tr>\n",
       "    <tr>\n",
       "      <th>4</th>\n",
       "      <td>0</td>\n",
       "      <td>17</td>\n",
       "      <td>275</td>\n",
       "      <td>1448</td>\n",
       "      <td>4</td>\n",
       "      <td>205.0</td>\n",
       "      <td>199.0</td>\n",
       "      <td>179.0</td>\n",
       "      <td>4.0</td>\n",
       "      <td>16.0</td>\n",
       "      <td>0</td>\n",
       "    </tr>\n",
       "    <tr>\n",
       "      <th>...</th>\n",
       "      <td>...</td>\n",
       "      <td>...</td>\n",
       "      <td>...</td>\n",
       "      <td>...</td>\n",
       "      <td>...</td>\n",
       "      <td>...</td>\n",
       "      <td>...</td>\n",
       "      <td>...</td>\n",
       "      <td>...</td>\n",
       "      <td>...</td>\n",
       "      <td>...</td>\n",
       "    </tr>\n",
       "    <tr>\n",
       "      <th>5221995</th>\n",
       "      <td>3</td>\n",
       "      <td>195</td>\n",
       "      <td>239</td>\n",
       "      <td>69</td>\n",
       "      <td>5</td>\n",
       "      <td>34.0</td>\n",
       "      <td>25.0</td>\n",
       "      <td>17.0</td>\n",
       "      <td>2.0</td>\n",
       "      <td>6.0</td>\n",
       "      <td>0</td>\n",
       "    </tr>\n",
       "    <tr>\n",
       "      <th>5221996</th>\n",
       "      <td>3</td>\n",
       "      <td>195</td>\n",
       "      <td>239</td>\n",
       "      <td>69</td>\n",
       "      <td>6</td>\n",
       "      <td>34.0</td>\n",
       "      <td>23.0</td>\n",
       "      <td>14.0</td>\n",
       "      <td>5.0</td>\n",
       "      <td>4.0</td>\n",
       "      <td>0</td>\n",
       "    </tr>\n",
       "    <tr>\n",
       "      <th>5221997</th>\n",
       "      <td>3</td>\n",
       "      <td>195</td>\n",
       "      <td>239</td>\n",
       "      <td>69</td>\n",
       "      <td>6</td>\n",
       "      <td>34.0</td>\n",
       "      <td>34.0</td>\n",
       "      <td>18.0</td>\n",
       "      <td>4.0</td>\n",
       "      <td>12.0</td>\n",
       "      <td>0</td>\n",
       "    </tr>\n",
       "    <tr>\n",
       "      <th>5221998</th>\n",
       "      <td>3</td>\n",
       "      <td>195</td>\n",
       "      <td>239</td>\n",
       "      <td>69</td>\n",
       "      <td>4</td>\n",
       "      <td>34.0</td>\n",
       "      <td>30.0</td>\n",
       "      <td>18.0</td>\n",
       "      <td>3.0</td>\n",
       "      <td>9.0</td>\n",
       "      <td>0</td>\n",
       "    </tr>\n",
       "    <tr>\n",
       "      <th>5221999</th>\n",
       "      <td>3</td>\n",
       "      <td>195</td>\n",
       "      <td>239</td>\n",
       "      <td>69</td>\n",
       "      <td>4</td>\n",
       "      <td>34.0</td>\n",
       "      <td>28.0</td>\n",
       "      <td>18.0</td>\n",
       "      <td>3.0</td>\n",
       "      <td>7.0</td>\n",
       "      <td>0</td>\n",
       "    </tr>\n",
       "  </tbody>\n",
       "</table>\n",
       "<p>5219244 rows × 11 columns</p>\n",
       "</div>"
      ],
      "text/plain": [
       "         AIRLINE  ORIGIN_AIRPORT  DESTINATION_AIRPORT  DISTANCE  Day  \\\n",
       "0              0              17                  275      1448    4   \n",
       "1              0              17                  275      1448    4   \n",
       "2              0              17                  275      1448    4   \n",
       "3              0              17                  275      1448    4   \n",
       "4              0              17                  275      1448    4   \n",
       "...          ...             ...                  ...       ...  ...   \n",
       "5221995        3             195                  239        69    5   \n",
       "5221996        3             195                  239        69    6   \n",
       "5221997        3             195                  239        69    6   \n",
       "5221998        3             195                  239        69    4   \n",
       "5221999        3             195                  239        69    4   \n",
       "\n",
       "         SCHEDULED_TIME  ELAPSED_TIME  AIR_TIME  TAXI_IN  TAXI_OUT  DIVERTED  \n",
       "0                 205.0         194.0     169.0      4.0      21.0         0  \n",
       "1                 204.0         194.0     173.0      4.0      17.0         0  \n",
       "2                 218.0         198.0     170.0     11.0      17.0         0  \n",
       "3                 200.0         199.0     176.0      8.0      15.0         0  \n",
       "4                 205.0         199.0     179.0      4.0      16.0         0  \n",
       "...                 ...           ...       ...      ...       ...       ...  \n",
       "5221995            34.0          25.0      17.0      2.0       6.0         0  \n",
       "5221996            34.0          23.0      14.0      5.0       4.0         0  \n",
       "5221997            34.0          34.0      18.0      4.0      12.0         0  \n",
       "5221998            34.0          30.0      18.0      3.0       9.0         0  \n",
       "5221999            34.0          28.0      18.0      3.0       7.0         0  \n",
       "\n",
       "[5219244 rows x 11 columns]"
      ]
     },
     "execution_count": 74,
     "metadata": {},
     "output_type": "execute_result"
    }
   ],
   "source": [
    "X\n"
   ]
  },
  {
   "cell_type": "code",
   "execution_count": 75,
   "metadata": {},
   "outputs": [],
   "source": [
    "X_train,X_test,y_train,y_test = train_test_split(X,y,test_size=0.25,random_state = 5)\n",
    "sc1=StandardScaler()\n",
    "X_train_sc=sc1.fit_transform(X_train)\n",
    "X_test_sc=sc1.transform(X_test)"
   ]
  },
  {
   "cell_type": "code",
   "execution_count": 76,
   "metadata": {},
   "outputs": [
    {
     "name": "stdout",
     "output_type": "stream",
     "text": [
      "MAE: 18.92521792240611\n",
      "MSE: 1376.49885439204\n",
      "RMSE: 37.10119747921945\n",
      "R2: 0.013987506217613577\n"
     ]
    }
   ],
   "source": [
    "from sklearn.neural_network import MLPRegressor\n",
    "mlp = MLPRegressor(random_state=0, activation='relu', hidden_layer_sizes=16)\n",
    "\n",
    "mlp.fit(X_train_sc, y_train)\n",
    "\n",
    "predictedValues = mlp.predict(X_test_sc)\n",
    "print ('MAE:' ,  mean_absolute_error(y_test, predictedValues))\n",
    "print ('MSE:' , mean_squared_error(y_test, predictedValues))\n",
    "print('RMSE:' , np.sqrt(mean_squared_error(y_test, predictedValues)))\n",
    "print ('R2:' , r2_score(y_test, predictedValues))"
   ]
  },
  {
   "cell_type": "code",
   "execution_count": 77,
   "metadata": {},
   "outputs": [
    {
     "data": {
      "text/html": [
       "<div>\n",
       "<style scoped>\n",
       "    .dataframe tbody tr th:only-of-type {\n",
       "        vertical-align: middle;\n",
       "    }\n",
       "\n",
       "    .dataframe tbody tr th {\n",
       "        vertical-align: top;\n",
       "    }\n",
       "\n",
       "    .dataframe thead th {\n",
       "        text-align: right;\n",
       "    }\n",
       "</style>\n",
       "<table border=\"1\" class=\"dataframe\">\n",
       "  <thead>\n",
       "    <tr style=\"text-align: right;\">\n",
       "      <th></th>\n",
       "      <th>AIRLINE</th>\n",
       "      <th>ORIGIN_AIRPORT</th>\n",
       "      <th>DESTINATION_AIRPORT</th>\n",
       "      <th>DISTANCE</th>\n",
       "      <th>Day</th>\n",
       "      <th>DEPARTURE_DELAY</th>\n",
       "      <th>ARRIVAL_DELAY</th>\n",
       "      <th>SCHEDULED_TIME</th>\n",
       "      <th>ELAPSED_TIME</th>\n",
       "      <th>AIR_TIME</th>\n",
       "      <th>TAXI_IN</th>\n",
       "      <th>TAXI_OUT</th>\n",
       "      <th>DIVERTED</th>\n",
       "    </tr>\n",
       "  </thead>\n",
       "  <tbody>\n",
       "    <tr>\n",
       "      <th>0</th>\n",
       "      <td>0</td>\n",
       "      <td>17</td>\n",
       "      <td>275</td>\n",
       "      <td>1448</td>\n",
       "      <td>4</td>\n",
       "      <td>-11.0</td>\n",
       "      <td>-22.0</td>\n",
       "      <td>205.0</td>\n",
       "      <td>194.0</td>\n",
       "      <td>169.0</td>\n",
       "      <td>4.0</td>\n",
       "      <td>21.0</td>\n",
       "      <td>0</td>\n",
       "    </tr>\n",
       "    <tr>\n",
       "      <th>1</th>\n",
       "      <td>0</td>\n",
       "      <td>17</td>\n",
       "      <td>275</td>\n",
       "      <td>1448</td>\n",
       "      <td>4</td>\n",
       "      <td>-4.0</td>\n",
       "      <td>-14.0</td>\n",
       "      <td>204.0</td>\n",
       "      <td>194.0</td>\n",
       "      <td>173.0</td>\n",
       "      <td>4.0</td>\n",
       "      <td>17.0</td>\n",
       "      <td>0</td>\n",
       "    </tr>\n",
       "    <tr>\n",
       "      <th>2</th>\n",
       "      <td>0</td>\n",
       "      <td>17</td>\n",
       "      <td>275</td>\n",
       "      <td>1448</td>\n",
       "      <td>4</td>\n",
       "      <td>-15.0</td>\n",
       "      <td>-35.0</td>\n",
       "      <td>218.0</td>\n",
       "      <td>198.0</td>\n",
       "      <td>170.0</td>\n",
       "      <td>11.0</td>\n",
       "      <td>17.0</td>\n",
       "      <td>0</td>\n",
       "    </tr>\n",
       "    <tr>\n",
       "      <th>3</th>\n",
       "      <td>0</td>\n",
       "      <td>17</td>\n",
       "      <td>275</td>\n",
       "      <td>1448</td>\n",
       "      <td>4</td>\n",
       "      <td>-11.0</td>\n",
       "      <td>-12.0</td>\n",
       "      <td>200.0</td>\n",
       "      <td>199.0</td>\n",
       "      <td>176.0</td>\n",
       "      <td>8.0</td>\n",
       "      <td>15.0</td>\n",
       "      <td>0</td>\n",
       "    </tr>\n",
       "    <tr>\n",
       "      <th>4</th>\n",
       "      <td>0</td>\n",
       "      <td>17</td>\n",
       "      <td>275</td>\n",
       "      <td>1448</td>\n",
       "      <td>4</td>\n",
       "      <td>-8.0</td>\n",
       "      <td>-14.0</td>\n",
       "      <td>205.0</td>\n",
       "      <td>199.0</td>\n",
       "      <td>179.0</td>\n",
       "      <td>4.0</td>\n",
       "      <td>16.0</td>\n",
       "      <td>0</td>\n",
       "    </tr>\n",
       "    <tr>\n",
       "      <th>...</th>\n",
       "      <td>...</td>\n",
       "      <td>...</td>\n",
       "      <td>...</td>\n",
       "      <td>...</td>\n",
       "      <td>...</td>\n",
       "      <td>...</td>\n",
       "      <td>...</td>\n",
       "      <td>...</td>\n",
       "      <td>...</td>\n",
       "      <td>...</td>\n",
       "      <td>...</td>\n",
       "      <td>...</td>\n",
       "      <td>...</td>\n",
       "    </tr>\n",
       "    <tr>\n",
       "      <th>5221995</th>\n",
       "      <td>3</td>\n",
       "      <td>195</td>\n",
       "      <td>239</td>\n",
       "      <td>69</td>\n",
       "      <td>5</td>\n",
       "      <td>-9.0</td>\n",
       "      <td>-18.0</td>\n",
       "      <td>34.0</td>\n",
       "      <td>25.0</td>\n",
       "      <td>17.0</td>\n",
       "      <td>2.0</td>\n",
       "      <td>6.0</td>\n",
       "      <td>0</td>\n",
       "    </tr>\n",
       "    <tr>\n",
       "      <th>5221996</th>\n",
       "      <td>3</td>\n",
       "      <td>195</td>\n",
       "      <td>239</td>\n",
       "      <td>69</td>\n",
       "      <td>6</td>\n",
       "      <td>101.0</td>\n",
       "      <td>90.0</td>\n",
       "      <td>34.0</td>\n",
       "      <td>23.0</td>\n",
       "      <td>14.0</td>\n",
       "      <td>5.0</td>\n",
       "      <td>4.0</td>\n",
       "      <td>0</td>\n",
       "    </tr>\n",
       "    <tr>\n",
       "      <th>5221997</th>\n",
       "      <td>3</td>\n",
       "      <td>195</td>\n",
       "      <td>239</td>\n",
       "      <td>69</td>\n",
       "      <td>6</td>\n",
       "      <td>10.0</td>\n",
       "      <td>10.0</td>\n",
       "      <td>34.0</td>\n",
       "      <td>34.0</td>\n",
       "      <td>18.0</td>\n",
       "      <td>4.0</td>\n",
       "      <td>12.0</td>\n",
       "      <td>0</td>\n",
       "    </tr>\n",
       "    <tr>\n",
       "      <th>5221998</th>\n",
       "      <td>3</td>\n",
       "      <td>195</td>\n",
       "      <td>239</td>\n",
       "      <td>69</td>\n",
       "      <td>4</td>\n",
       "      <td>-14.0</td>\n",
       "      <td>-18.0</td>\n",
       "      <td>34.0</td>\n",
       "      <td>30.0</td>\n",
       "      <td>18.0</td>\n",
       "      <td>3.0</td>\n",
       "      <td>9.0</td>\n",
       "      <td>0</td>\n",
       "    </tr>\n",
       "    <tr>\n",
       "      <th>5221999</th>\n",
       "      <td>3</td>\n",
       "      <td>195</td>\n",
       "      <td>239</td>\n",
       "      <td>69</td>\n",
       "      <td>4</td>\n",
       "      <td>-26.0</td>\n",
       "      <td>-32.0</td>\n",
       "      <td>34.0</td>\n",
       "      <td>28.0</td>\n",
       "      <td>18.0</td>\n",
       "      <td>3.0</td>\n",
       "      <td>7.0</td>\n",
       "      <td>0</td>\n",
       "    </tr>\n",
       "  </tbody>\n",
       "</table>\n",
       "<p>5219244 rows × 13 columns</p>\n",
       "</div>"
      ],
      "text/plain": [
       "         AIRLINE  ORIGIN_AIRPORT  DESTINATION_AIRPORT  DISTANCE  Day  \\\n",
       "0              0              17                  275      1448    4   \n",
       "1              0              17                  275      1448    4   \n",
       "2              0              17                  275      1448    4   \n",
       "3              0              17                  275      1448    4   \n",
       "4              0              17                  275      1448    4   \n",
       "...          ...             ...                  ...       ...  ...   \n",
       "5221995        3             195                  239        69    5   \n",
       "5221996        3             195                  239        69    6   \n",
       "5221997        3             195                  239        69    6   \n",
       "5221998        3             195                  239        69    4   \n",
       "5221999        3             195                  239        69    4   \n",
       "\n",
       "         DEPARTURE_DELAY  ARRIVAL_DELAY  SCHEDULED_TIME  ELAPSED_TIME  \\\n",
       "0                  -11.0          -22.0           205.0         194.0   \n",
       "1                   -4.0          -14.0           204.0         194.0   \n",
       "2                  -15.0          -35.0           218.0         198.0   \n",
       "3                  -11.0          -12.0           200.0         199.0   \n",
       "4                   -8.0          -14.0           205.0         199.0   \n",
       "...                  ...            ...             ...           ...   \n",
       "5221995             -9.0          -18.0            34.0          25.0   \n",
       "5221996            101.0           90.0            34.0          23.0   \n",
       "5221997             10.0           10.0            34.0          34.0   \n",
       "5221998            -14.0          -18.0            34.0          30.0   \n",
       "5221999            -26.0          -32.0            34.0          28.0   \n",
       "\n",
       "         AIR_TIME  TAXI_IN  TAXI_OUT  DIVERTED  \n",
       "0           169.0      4.0      21.0         0  \n",
       "1           173.0      4.0      17.0         0  \n",
       "2           170.0     11.0      17.0         0  \n",
       "3           176.0      8.0      15.0         0  \n",
       "4           179.0      4.0      16.0         0  \n",
       "...           ...      ...       ...       ...  \n",
       "5221995      17.0      2.0       6.0         0  \n",
       "5221996      14.0      5.0       4.0         0  \n",
       "5221997      18.0      4.0      12.0         0  \n",
       "5221998      18.0      3.0       9.0         0  \n",
       "5221999      18.0      3.0       7.0         0  \n",
       "\n",
       "[5219244 rows x 13 columns]"
      ]
     },
     "execution_count": 77,
     "metadata": {},
     "output_type": "execute_result"
    }
   ],
   "source": [
    "Flights1"
   ]
  },
  {
   "cell_type": "code",
   "execution_count": 78,
   "metadata": {},
   "outputs": [],
   "source": [
    "\n",
    "Flights1['ORIGIN_AIRPORT'] = Flights1['ORIGIN_AIRPORT'].astype(str)\n",
    "Flights1['DESTINATION_AIRPORT'] = Flights1['DESTINATION_AIRPORT'].astype(str)\n"
   ]
  },
  {
   "cell_type": "code",
   "execution_count": 79,
   "metadata": {},
   "outputs": [],
   "source": [
    "Flights1['AIRLINE']= le.fit_transform(Flights1['AIRLINE'])\n",
    "Flights1['ORIGIN_AIRPORT'] = le.fit_transform(Flights1['ORIGIN_AIRPORT'])\n",
    "Flights1['DESTINATION_AIRPORT'] = le.fit_transform(Flights1['DESTINATION_AIRPORT'])"
   ]
  },
  {
   "cell_type": "markdown",
   "metadata": {},
   "source": [
    "### Creating a New Feature and Handling Class Imbalance"
   ]
  },
  {
   "cell_type": "markdown",
   "metadata": {},
   "source": [
    "Creating a new feature which has value only as 0 or 1 depending on it it is dealyed or not"
   ]
  },
  {
   "cell_type": "code",
   "execution_count": 80,
   "metadata": {},
   "outputs": [],
   "source": [
    "\n",
    "Flights1['Is_Delayed'] = np.where(Flights1['ARRIVAL_DELAY']<=0, 0,1)"
   ]
  },
  {
   "cell_type": "code",
   "execution_count": 81,
   "metadata": {},
   "outputs": [
    {
     "data": {
      "text/plain": [
       "0    0\n",
       "1    0\n",
       "2    0\n",
       "3    0\n",
       "4    0\n",
       "Name: Is_Delayed, dtype: int64"
      ]
     },
     "execution_count": 81,
     "metadata": {},
     "output_type": "execute_result"
    }
   ],
   "source": [
    "X = Flights1.drop(['ARRIVAL_DELAY','Is_Delayed'],axis = 1)\n",
    "X.shape\n",
    "y = Flights1['Is_Delayed']\n",
    "y.head()"
   ]
  },
  {
   "cell_type": "code",
   "execution_count": 82,
   "metadata": {},
   "outputs": [],
   "source": [
    "X_train,X_test,y_train,y_test = train_test_split(X,y,test_size=0.3,random_state = 2)"
   ]
  },
  {
   "cell_type": "code",
   "execution_count": 83,
   "metadata": {},
   "outputs": [
    {
     "data": {
      "text/plain": [
       "0    2294725\n",
       "1    1358745\n",
       "Name: Is_Delayed, dtype: int64"
      ]
     },
     "execution_count": 83,
     "metadata": {},
     "output_type": "execute_result"
    }
   ],
   "source": [
    "y_train.value_counts()"
   ]
  },
  {
   "cell_type": "markdown",
   "metadata": {},
   "source": [
    "### Handling Class Imbalance with SMOTE"
   ]
  },
  {
   "cell_type": "code",
   "execution_count": 84,
   "metadata": {},
   "outputs": [],
   "source": [
    "\n",
    "from imblearn.over_sampling import SMOTE"
   ]
  },
  {
   "cell_type": "code",
   "execution_count": 85,
   "metadata": {},
   "outputs": [],
   "source": [
    "smt = SMOTE(sampling_strategy='auto') \n",
    "\n",
    "# Fit and transform the training data\n",
    "X_train, y_train = smt.fit_resample(X_train, y_train)\n",
    "\n"
   ]
  },
  {
   "cell_type": "code",
   "execution_count": 86,
   "metadata": {},
   "outputs": [
    {
     "data": {
      "text/plain": [
       "1    2294725\n",
       "0    2294725\n",
       "Name: Is_Delayed, dtype: int64"
      ]
     },
     "execution_count": 86,
     "metadata": {},
     "output_type": "execute_result"
    }
   ],
   "source": [
    "pd.Series(y_train).value_counts()"
   ]
  },
  {
   "cell_type": "code",
   "execution_count": 87,
   "metadata": {},
   "outputs": [],
   "source": [
    "sc1=StandardScaler()\n",
    "X_train_sc=sc1.fit_transform(X_train)\n",
    "X_test_sc=sc1.transform(X_test)\n"
   ]
  },
  {
   "cell_type": "code",
   "execution_count": 88,
   "metadata": {},
   "outputs": [
    {
     "data": {
      "text/plain": [
       "0          1\n",
       "1          0\n",
       "2          0\n",
       "3          1\n",
       "4          1\n",
       "          ..\n",
       "4589445    1\n",
       "4589446    1\n",
       "4589447    1\n",
       "4589448    1\n",
       "4589449    1\n",
       "Name: Is_Delayed, Length: 4589450, dtype: int64"
      ]
     },
     "execution_count": 88,
     "metadata": {},
     "output_type": "execute_result"
    }
   ],
   "source": [
    "y_train\n"
   ]
  },
  {
   "cell_type": "code",
   "execution_count": 89,
   "metadata": {},
   "outputs": [
    {
     "data": {
      "text/html": [
       "<div>\n",
       "<style scoped>\n",
       "    .dataframe tbody tr th:only-of-type {\n",
       "        vertical-align: middle;\n",
       "    }\n",
       "\n",
       "    .dataframe tbody tr th {\n",
       "        vertical-align: top;\n",
       "    }\n",
       "\n",
       "    .dataframe thead th {\n",
       "        text-align: right;\n",
       "    }\n",
       "</style>\n",
       "<table border=\"1\" class=\"dataframe\">\n",
       "  <thead>\n",
       "    <tr style=\"text-align: right;\">\n",
       "      <th></th>\n",
       "      <th>AIRLINE</th>\n",
       "      <th>ORIGIN_AIRPORT</th>\n",
       "      <th>DESTINATION_AIRPORT</th>\n",
       "      <th>DISTANCE</th>\n",
       "      <th>Day</th>\n",
       "      <th>DEPARTURE_DELAY</th>\n",
       "      <th>SCHEDULED_TIME</th>\n",
       "      <th>ELAPSED_TIME</th>\n",
       "      <th>AIR_TIME</th>\n",
       "      <th>TAXI_IN</th>\n",
       "      <th>TAXI_OUT</th>\n",
       "      <th>DIVERTED</th>\n",
       "    </tr>\n",
       "  </thead>\n",
       "  <tbody>\n",
       "    <tr>\n",
       "      <th>20405</th>\n",
       "      <td>0</td>\n",
       "      <td>154</td>\n",
       "      <td>196</td>\n",
       "      <td>1107</td>\n",
       "      <td>5</td>\n",
       "      <td>-3.0</td>\n",
       "      <td>180.0</td>\n",
       "      <td>176.0</td>\n",
       "      <td>152.0</td>\n",
       "      <td>13.0</td>\n",
       "      <td>11.0</td>\n",
       "      <td>0</td>\n",
       "    </tr>\n",
       "    <tr>\n",
       "      <th>1235219</th>\n",
       "      <td>12</td>\n",
       "      <td>303</td>\n",
       "      <td>130</td>\n",
       "      <td>680</td>\n",
       "      <td>1</td>\n",
       "      <td>11.0</td>\n",
       "      <td>124.0</td>\n",
       "      <td>107.0</td>\n",
       "      <td>89.0</td>\n",
       "      <td>4.0</td>\n",
       "      <td>14.0</td>\n",
       "      <td>0</td>\n",
       "    </tr>\n",
       "    <tr>\n",
       "      <th>4232936</th>\n",
       "      <td>9</td>\n",
       "      <td>117</td>\n",
       "      <td>299</td>\n",
       "      <td>850</td>\n",
       "      <td>1</td>\n",
       "      <td>-1.0</td>\n",
       "      <td>155.0</td>\n",
       "      <td>120.0</td>\n",
       "      <td>106.0</td>\n",
       "      <td>5.0</td>\n",
       "      <td>9.0</td>\n",
       "      <td>0</td>\n",
       "    </tr>\n",
       "    <tr>\n",
       "      <th>3635419</th>\n",
       "      <td>7</td>\n",
       "      <td>197</td>\n",
       "      <td>74</td>\n",
       "      <td>2586</td>\n",
       "      <td>6</td>\n",
       "      <td>8.0</td>\n",
       "      <td>330.0</td>\n",
       "      <td>322.0</td>\n",
       "      <td>297.0</td>\n",
       "      <td>10.0</td>\n",
       "      <td>15.0</td>\n",
       "      <td>0</td>\n",
       "    </tr>\n",
       "    <tr>\n",
       "      <th>4461352</th>\n",
       "      <td>8</td>\n",
       "      <td>303</td>\n",
       "      <td>5</td>\n",
       "      <td>996</td>\n",
       "      <td>5</td>\n",
       "      <td>-4.0</td>\n",
       "      <td>173.0</td>\n",
       "      <td>173.0</td>\n",
       "      <td>148.0</td>\n",
       "      <td>3.0</td>\n",
       "      <td>22.0</td>\n",
       "      <td>0</td>\n",
       "    </tr>\n",
       "    <tr>\n",
       "      <th>...</th>\n",
       "      <td>...</td>\n",
       "      <td>...</td>\n",
       "      <td>...</td>\n",
       "      <td>...</td>\n",
       "      <td>...</td>\n",
       "      <td>...</td>\n",
       "      <td>...</td>\n",
       "      <td>...</td>\n",
       "      <td>...</td>\n",
       "      <td>...</td>\n",
       "      <td>...</td>\n",
       "      <td>...</td>\n",
       "    </tr>\n",
       "    <tr>\n",
       "      <th>509643</th>\n",
       "      <td>10</td>\n",
       "      <td>92</td>\n",
       "      <td>143</td>\n",
       "      <td>733</td>\n",
       "      <td>4</td>\n",
       "      <td>46.0</td>\n",
       "      <td>158.0</td>\n",
       "      <td>155.0</td>\n",
       "      <td>132.0</td>\n",
       "      <td>9.0</td>\n",
       "      <td>14.0</td>\n",
       "      <td>0</td>\n",
       "    </tr>\n",
       "    <tr>\n",
       "      <th>2137315</th>\n",
       "      <td>12</td>\n",
       "      <td>197</td>\n",
       "      <td>58</td>\n",
       "      <td>1635</td>\n",
       "      <td>1</td>\n",
       "      <td>-1.0</td>\n",
       "      <td>234.0</td>\n",
       "      <td>224.0</td>\n",
       "      <td>195.0</td>\n",
       "      <td>12.0</td>\n",
       "      <td>17.0</td>\n",
       "      <td>0</td>\n",
       "    </tr>\n",
       "    <tr>\n",
       "      <th>2754757</th>\n",
       "      <td>9</td>\n",
       "      <td>269</td>\n",
       "      <td>104</td>\n",
       "      <td>861</td>\n",
       "      <td>2</td>\n",
       "      <td>0.0</td>\n",
       "      <td>145.0</td>\n",
       "      <td>128.0</td>\n",
       "      <td>113.0</td>\n",
       "      <td>7.0</td>\n",
       "      <td>8.0</td>\n",
       "      <td>0</td>\n",
       "    </tr>\n",
       "    <tr>\n",
       "      <th>1200730</th>\n",
       "      <td>2</td>\n",
       "      <td>13</td>\n",
       "      <td>304</td>\n",
       "      <td>285</td>\n",
       "      <td>1</td>\n",
       "      <td>3.0</td>\n",
       "      <td>78.0</td>\n",
       "      <td>73.0</td>\n",
       "      <td>53.0</td>\n",
       "      <td>5.0</td>\n",
       "      <td>15.0</td>\n",
       "      <td>0</td>\n",
       "    </tr>\n",
       "    <tr>\n",
       "      <th>4147006</th>\n",
       "      <td>9</td>\n",
       "      <td>104</td>\n",
       "      <td>106</td>\n",
       "      <td>990</td>\n",
       "      <td>3</td>\n",
       "      <td>0.0</td>\n",
       "      <td>175.0</td>\n",
       "      <td>162.0</td>\n",
       "      <td>150.0</td>\n",
       "      <td>3.0</td>\n",
       "      <td>9.0</td>\n",
       "      <td>0</td>\n",
       "    </tr>\n",
       "  </tbody>\n",
       "</table>\n",
       "<p>1565774 rows × 12 columns</p>\n",
       "</div>"
      ],
      "text/plain": [
       "         AIRLINE  ORIGIN_AIRPORT  DESTINATION_AIRPORT  DISTANCE  Day  \\\n",
       "20405          0             154                  196      1107    5   \n",
       "1235219       12             303                  130       680    1   \n",
       "4232936        9             117                  299       850    1   \n",
       "3635419        7             197                   74      2586    6   \n",
       "4461352        8             303                    5       996    5   \n",
       "...          ...             ...                  ...       ...  ...   \n",
       "509643        10              92                  143       733    4   \n",
       "2137315       12             197                   58      1635    1   \n",
       "2754757        9             269                  104       861    2   \n",
       "1200730        2              13                  304       285    1   \n",
       "4147006        9             104                  106       990    3   \n",
       "\n",
       "         DEPARTURE_DELAY  SCHEDULED_TIME  ELAPSED_TIME  AIR_TIME  TAXI_IN  \\\n",
       "20405               -3.0           180.0         176.0     152.0     13.0   \n",
       "1235219             11.0           124.0         107.0      89.0      4.0   \n",
       "4232936             -1.0           155.0         120.0     106.0      5.0   \n",
       "3635419              8.0           330.0         322.0     297.0     10.0   \n",
       "4461352             -4.0           173.0         173.0     148.0      3.0   \n",
       "...                  ...             ...           ...       ...      ...   \n",
       "509643              46.0           158.0         155.0     132.0      9.0   \n",
       "2137315             -1.0           234.0         224.0     195.0     12.0   \n",
       "2754757              0.0           145.0         128.0     113.0      7.0   \n",
       "1200730              3.0            78.0          73.0      53.0      5.0   \n",
       "4147006              0.0           175.0         162.0     150.0      3.0   \n",
       "\n",
       "         TAXI_OUT  DIVERTED  \n",
       "20405        11.0         0  \n",
       "1235219      14.0         0  \n",
       "4232936       9.0         0  \n",
       "3635419      15.0         0  \n",
       "4461352      22.0         0  \n",
       "...           ...       ...  \n",
       "509643       14.0         0  \n",
       "2137315      17.0         0  \n",
       "2754757       8.0         0  \n",
       "1200730      15.0         0  \n",
       "4147006       9.0         0  \n",
       "\n",
       "[1565774 rows x 12 columns]"
      ]
     },
     "execution_count": 89,
     "metadata": {},
     "output_type": "execute_result"
    }
   ],
   "source": [
    "X_test"
   ]
  },
  {
   "cell_type": "markdown",
   "metadata": {},
   "source": [
    "## Classification Models"
   ]
  },
  {
   "cell_type": "code",
   "execution_count": 115,
   "metadata": {},
   "outputs": [
    {
     "data": {
      "image/png": "[encoded data removed]",
      "text/plain": [
       "<Figure size 800x600 with 1 Axes>"
      ]
     },
     "metadata": {},
     "output_type": "display_data"
    }
   ],
   "source": [
    "import matplotlib.pyplot as plt\n",
    "import seaborn as sns\n",
    "\n",
    "#To represent the class distribution based on whether flights are delayed or on time\n",
    "plt.figure(figsize=(8, 6))\n",
    "sns.countplot(x='DELAY_LEVEL', data=flights, palette='Set1')\n",
    "plt.title('Class Distribution of Flight Delays')\n",
    "plt.xlabel('Delay Level')\n",
    "plt.ylabel('Count')\n",
    "plt.show()\n"
   ]
  },
  {
   "cell_type": "markdown",
   "metadata": {},
   "source": [
    "### Decision trees Classifier"
   ]
  },
  {
   "cell_type": "code",
   "execution_count": 90,
   "metadata": {},
   "outputs": [
    {
     "data": {
      "text/plain": [
       "DecisionTreeClassifier(criterion='entropy')"
      ]
     },
     "execution_count": 90,
     "metadata": {},
     "output_type": "execute_result"
    }
   ],
   "source": [
    "from sklearn.tree import DecisionTreeClassifier\n",
    "classifierDT = DecisionTreeClassifier(criterion = 'entropy', random_state = None)\n",
    "classifierDT.fit(X_train_sc, y_train)"
   ]
  },
  {
   "cell_type": "code",
   "execution_count": 91,
   "metadata": {},
   "outputs": [
    {
     "name": "stderr",
     "output_type": "stream",
     "text": [
      "/Users/shivateja/opt/anaconda3/lib/python3.9/site-packages/sklearn/base.py:443: UserWarning: X has feature names, but DecisionTreeClassifier was fitted without feature names\n",
      "  warnings.warn(\n"
     ]
    },
    {
     "data": {
      "text/plain": [
       "array([[  1317, 982209],\n",
       "       [    60, 582188]])"
      ]
     },
     "execution_count": 91,
     "metadata": {},
     "output_type": "execute_result"
    }
   ],
   "source": [
    "from sklearn.metrics import accuracy_score, f1_score, precision_score, recall_score, classification_report, confusion_matrix\n",
    "from sklearn.metrics import confusion_matrix\n",
    "# Predicting the Test set results\n",
    "y_pred = classifierDT.predict(X_test)\n",
    "\n",
    "# Making the Confusion Matrix\n",
    "cm = confusion_matrix(y_test, y_pred)\n",
    "score = classifierDT.score(X_test_sc,y_test)\n",
    "cm\n"
   ]
  },
  {
   "cell_type": "code",
   "execution_count": 92,
   "metadata": {},
   "outputs": [
    {
     "data": {
      "text/plain": [
       "0.9829330414223253"
      ]
     },
     "execution_count": 92,
     "metadata": {},
     "output_type": "execute_result"
    }
   ],
   "source": [
    "score"
   ]
  },
  {
   "cell_type": "code",
   "execution_count": 93,
   "metadata": {},
   "outputs": [
    {
     "name": "stdout",
     "output_type": "stream",
     "text": [
      "F1 score : 0.2725455149332318\n",
      "Precision Score : 0.6642877585986505\n",
      "Recall Score : 0.5006180053981708\n"
     ]
    }
   ],
   "source": [
    "print(\"F1 score :\",f1_score(y_test, y_pred, average=\"macro\"))\n",
    "print(\"Precision Score :\" , precision_score(y_test, y_pred, average=\"macro\"))\n",
    "print(\"Recall Score :\" , recall_score(y_test, y_pred, average=\"macro\"))   "
   ]
  },
  {
   "cell_type": "code",
   "execution_count": 94,
   "metadata": {},
   "outputs": [
    {
     "data": {
      "image/png": "[encoded data removed]",
      "text/plain": [
       "<Figure size 640x480 with 2 Axes>"
      ]
     },
     "metadata": {},
     "output_type": "display_data"
    }
   ],
   "source": [
    "fig = plt.figure()\n",
    "ax = fig.add_subplot(111)\n",
    "cax = ax.matshow(cm)\n",
    "plt.title('Confusion matrix of the Decision tree classifier')\n",
    "fig.colorbar(cax)\n",
    "plt.xlabel('Predicted')\n",
    "plt.ylabel('True')\n",
    "plt.show()"
   ]
  },
  {
   "cell_type": "markdown",
   "metadata": {},
   "source": [
    "### Naive Bayes Classifier"
   ]
  },
  {
   "cell_type": "code",
   "execution_count": 95,
   "metadata": {},
   "outputs": [
    {
     "data": {
      "text/plain": [
       "GaussianNB()"
      ]
     },
     "execution_count": 95,
     "metadata": {},
     "output_type": "execute_result"
    }
   ],
   "source": [
    "\n",
    "from sklearn.naive_bayes import GaussianNB\n",
    "objclassifierGNB=GaussianNB()\n",
    "objclassifierGNB.fit(X_train_sc,y_train)"
   ]
  },
  {
   "cell_type": "code",
   "execution_count": 96,
   "metadata": {},
   "outputs": [
    {
     "name": "stderr",
     "output_type": "stream",
     "text": [
      "/Users/shivateja/opt/anaconda3/lib/python3.9/site-packages/sklearn/base.py:443: UserWarning: X has feature names, but GaussianNB was fitted without feature names\n",
      "  warnings.warn(\n"
     ]
    }
   ],
   "source": [
    "# Predicting the Test set results\n",
    "y_pred = objclassifierGNB.predict(X_test)\n",
    "\n",
    "# Making the Confusion Matrix\n",
    "from sklearn.metrics import confusion_matrix\n",
    "cm = confusion_matrix(y_test, y_pred)\n",
    "score = objclassifierGNB.score(X_test_sc,y_test)"
   ]
  },
  {
   "cell_type": "code",
   "execution_count": 97,
   "metadata": {},
   "outputs": [
    {
     "data": {
      "text/plain": [
       "array([[489939, 493587],\n",
       "       [115066, 467182]])"
      ]
     },
     "execution_count": 97,
     "metadata": {},
     "output_type": "execute_result"
    }
   ],
   "source": [
    "cm"
   ]
  },
  {
   "cell_type": "code",
   "execution_count": 98,
   "metadata": {},
   "outputs": [
    {
     "data": {
      "text/plain": [
       "0.8398344844147367"
      ]
     },
     "execution_count": 98,
     "metadata": {},
     "output_type": "execute_result"
    }
   ],
   "source": [
    "score"
   ]
  },
  {
   "cell_type": "code",
   "execution_count": 99,
   "metadata": {},
   "outputs": [
    {
     "name": "stdout",
     "output_type": "stream",
     "text": [
      "F1 score : 0.6111944650038017\n",
      "Precision Score : 0.6480341198535507\n",
      "Recall Score : 0.6502608775577009\n"
     ]
    }
   ],
   "source": [
    "print(\"F1 score :\",f1_score(y_test, y_pred, average=\"macro\"))\n",
    "print(\"Precision Score :\" , precision_score(y_test, y_pred, average=\"macro\"))\n",
    "print(\"Recall Score :\" , recall_score(y_test, y_pred, average=\"macro\"))   \n",
    "\n"
   ]
  },
  {
   "cell_type": "code",
   "execution_count": 100,
   "metadata": {},
   "outputs": [
    {
     "data": {
      "image/png": "[encoded data removed]",
      "text/plain": [
       "<Figure size 640x480 with 2 Axes>"
      ]
     },
     "metadata": {},
     "output_type": "display_data"
    }
   ],
   "source": [
    "fig = plt.figure()\n",
    "ax = fig.add_subplot(111)\n",
    "cax = ax.matshow(cm)\n",
    "plt.title('Confusion matrix of the naive bayes classifier')\n",
    "fig.colorbar(cax)\n",
    "plt.xlabel('Predicted')\n",
    "plt.ylabel('True')\n",
    "plt.show()"
   ]
  },
  {
   "cell_type": "markdown",
   "metadata": {},
   "source": [
    "### Logistic regression Classifier"
   ]
  },
  {
   "cell_type": "code",
   "execution_count": 101,
   "metadata": {},
   "outputs": [
    {
     "data": {
      "text/plain": [
       "LogisticRegression(random_state=0)"
      ]
     },
     "execution_count": 101,
     "metadata": {},
     "output_type": "execute_result"
    }
   ],
   "source": [
    "from sklearn.linear_model import LogisticRegression\n",
    "classifier = LogisticRegression(random_state = 0)\n",
    "classifier.fit(X_train_sc, y_train)"
   ]
  },
  {
   "cell_type": "code",
   "execution_count": 102,
   "metadata": {},
   "outputs": [],
   "source": [
    "# Predicting the Test set results\n",
    "y_pred = classifier.predict(X_test_sc)\n",
    "\n",
    "# Making the Confusion Matrix\n",
    "score = classifier.score(X_test_sc,y_test)\n",
    "cm = confusion_matrix(y_test, y_pred)"
   ]
  },
  {
   "cell_type": "code",
   "execution_count": 103,
   "metadata": {},
   "outputs": [
    {
     "data": {
      "text/plain": [
       "array([[983526,      0],\n",
       "       [     0, 582248]])"
      ]
     },
     "execution_count": 103,
     "metadata": {},
     "output_type": "execute_result"
    }
   ],
   "source": [
    "cm"
   ]
  },
  {
   "cell_type": "code",
   "execution_count": 104,
   "metadata": {},
   "outputs": [
    {
     "data": {
      "text/plain": [
       "1.0"
      ]
     },
     "execution_count": 104,
     "metadata": {},
     "output_type": "execute_result"
    }
   ],
   "source": [
    "score"
   ]
  },
  {
   "cell_type": "code",
   "execution_count": 105,
   "metadata": {},
   "outputs": [
    {
     "name": "stdout",
     "output_type": "stream",
     "text": [
      "F1 score : 1.0\n",
      "Precision Score : 1.0\n",
      "Recall Score : 1.0\n"
     ]
    }
   ],
   "source": [
    "print(\"F1 score :\",f1_score(y_test, y_pred, average=\"macro\"))\n",
    "print(\"Precision Score :\" , precision_score(y_test, y_pred, average=\"macro\"))\n",
    "print(\"Recall Score :\" , recall_score(y_test, y_pred, average=\"macro\"))   "
   ]
  },
  {
   "cell_type": "code",
   "execution_count": 108,
   "metadata": {},
   "outputs": [
    {
     "data": {
      "image/png": "[encoded data removed]",
      "text/plain": [
       "<Figure size 640x480 with 2 Axes>"
      ]
     },
     "metadata": {},
     "output_type": "display_data"
    }
   ],
   "source": [
    "fig = plt.figure()\n",
    "ax = fig.add_subplot(111)\n",
    "cax = ax.matshow(cm)\n",
    "plt.title('Confusion matrix of the logistic regression classifier')\n",
    "fig.colorbar(cax)\n",
    "plt.xlabel('Predicted')\n",
    "plt.ylabel('True')\n",
    "plt.show()"
   ]
  },
  {
   "cell_type": "code",
   "execution_count": null,
   "metadata": {},
   "outputs": [],
   "source": []
  }
 ],
 "metadata": {
  "colab": {
   "machine_shape": "hm",
   "provenance": []
  },
  "kernelspec": {
   "display_name": "Python 3 (ipykernel)",
   "language": "python",
   "name": "python3"
  },
  "language_info": {
   "codemirror_mode": {
    "name": "ipython",
    "version": 3
   },
   "file_extension": ".py",
   "mimetype": "text/x-python",
   "name": "python",
   "nbconvert_exporter": "python",
   "pygments_lexer": "ipython3",
   "version": "3.9.13"
  }
 },
 "nbformat": 4,
 "nbformat_minor": 1
}
